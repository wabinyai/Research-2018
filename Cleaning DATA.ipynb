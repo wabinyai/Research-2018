{
 "cells": [
  {
   "cell_type": "code",
   "execution_count": 21,
   "metadata": {
    "collapsed": true
   },
   "outputs": [],
   "source": [
    "import pandas as pd\n",
    "import numpy as np"
   ]
  },
  {
   "cell_type": "code",
   "execution_count": 16,
   "metadata": {},
   "outputs": [
    {
     "name": "stdout",
     "output_type": "stream",
     "text": [
      "                 date        PM25        PM10  latitude  longitude\n",
      "0 2017-11-26 14:00:00   39.691667  128.114231       NaN  32.581207\n",
      "1 2017-11-26 15:00:00   74.743077   94.260545       NaN  32.599594\n",
      "2 2017-11-26 16:00:00   34.048000   95.647797       NaN  32.582855\n",
      "3 2017-11-26 17:00:00   51.819831  128.344792       NaN  32.573855\n",
      "4 2017-11-26 18:00:00  500.000000  286.226923       NaN  32.576549\n"
     ]
    }
   ],
   "source": [
    "con = r'C:\\Users\\Wabinyai\\Google Drive\\Air polutions\\1\\2018\\Pollution2018\\2.csv'\n",
    "data = pd.read_csv(con, parse_dates = ['date'])\n",
    "print data.head()"
   ]
  },
  {
   "cell_type": "code",
   "execution_count": 37,
   "metadata": {
    "collapsed": true
   },
   "outputs": [],
   "source": [
    "#Fill in missing values with the mean value\n",
    "data.PM25 = data.PM25.fillna(data.PM25.mean())\n",
    "#data.latitude = data.latitude.fillna(data.latitude.mean())"
   ]
  },
  {
   "cell_type": "code",
   "execution_count": 33,
   "metadata": {},
   "outputs": [
    {
     "data": {
      "text/plain": [
       "date         2018-01-13 09:00:00\n",
       "PM25                         500\n",
       "PM10                      548.76\n",
       "latitude                    1000\n",
       "longitude              32.582855\n",
       "dtype: object"
      ]
     },
     "execution_count": 33,
     "metadata": {},
     "output_type": "execute_result"
    }
   ],
   "source": [
    "data.max()"
   ]
  },
  {
   "cell_type": "code",
   "execution_count": 40,
   "metadata": {
    "collapsed": true
   },
   "outputs": [],
   "source": [
    "data.to_csv('C:/Users/Wabinyai/Google Drive/Air polutions/1/2018/Pollution2018/clean.csv', encoding='utf-8')"
   ]
  },
  {
   "cell_type": "code",
   "execution_count": 18,
   "metadata": {
    "collapsed": true
   },
   "outputs": [],
   "source": [
    "data.longitude = data.longitude.fillna('32.582855')"
   ]
  },
  {
   "cell_type": "code",
   "execution_count": 23,
   "metadata": {
    "collapsed": true
   },
   "outputs": [],
   "source": [
    "#replace values over 550 with 505\n",
    "data[\"PM10\"] = np.where(data[\"PM10\"] >550, 505,data['PM10'])\n",
    "\n",
    "\n"
   ]
  },
  {
   "cell_type": "code",
   "execution_count": 24,
   "metadata": {},
   "outputs": [
    {
     "data": {
      "text/plain": [
       "548.75999999999999"
      ]
     },
     "execution_count": 24,
     "metadata": {},
     "output_type": "execute_result"
    }
   ],
   "source": [
    "data[\"PM10\"].max()"
   ]
  },
  {
   "cell_type": "code",
   "execution_count": 29,
   "metadata": {
    "collapsed": true
   },
   "outputs": [],
   "source": [
    "data.PM10 = data.PM10.fillna(data.PM10.median())"
   ]
  },
  {
   "cell_type": "code",
   "execution_count": 31,
   "metadata": {},
   "outputs": [
    {
     "data": {
      "text/plain": [
       "119.05139212714847"
      ]
     },
     "execution_count": 31,
     "metadata": {},
     "output_type": "execute_result"
    }
   ],
   "source": [
    "data.PM10.mean()"
   ]
  },
  {
   "cell_type": "code",
   "execution_count": 34,
   "metadata": {
    "collapsed": true
   },
   "outputs": [],
   "source": [
    "data[\"latitude\"] = np.where(data[\"latitude\"] >2, 0.3476,data['latitude'])"
   ]
  },
  {
   "cell_type": "code",
   "execution_count": 35,
   "metadata": {
    "collapsed": true
   },
   "outputs": [],
   "source": [
    "data[\"longitude\"] = np.where(data[\"longitude\"] >32.582855, 32.582855,data['longitude'])"
   ]
  },
  {
   "cell_type": "code",
   "execution_count": 39,
   "metadata": {
    "collapsed": true
   },
   "outputs": [],
   "source": [
    "data.latitude = data.latitude.fillna('0.3476')"
   ]
  },
  {
   "cell_type": "code",
   "execution_count": 47,
   "metadata": {
    "collapsed": true
   },
   "outputs": [],
   "source": [
    "new = r'C:/Users/Wabinyai/Google Drive/Air polutions/1/2018/Pollution2018/clean.csv'"
   ]
  },
  {
   "cell_type": "code",
   "execution_count": 48,
   "metadata": {},
   "outputs": [
    {
     "data": {
      "text/html": [
       "<div>\n",
       "<style>\n",
       "    .dataframe thead tr:only-child th {\n",
       "        text-align: right;\n",
       "    }\n",
       "\n",
       "    .dataframe thead th {\n",
       "        text-align: left;\n",
       "    }\n",
       "\n",
       "    .dataframe tbody tr th {\n",
       "        vertical-align: top;\n",
       "    }\n",
       "</style>\n",
       "<table border=\"1\" class=\"dataframe\">\n",
       "  <thead>\n",
       "    <tr style=\"text-align: right;\">\n",
       "      <th></th>\n",
       "      <th>id</th>\n",
       "      <th>PM25</th>\n",
       "      <th>PM10</th>\n",
       "      <th>latitude</th>\n",
       "      <th>longitude</th>\n",
       "    </tr>\n",
       "  </thead>\n",
       "  <tbody>\n",
       "    <tr>\n",
       "      <th>count</th>\n",
       "      <td>1146.00000</td>\n",
       "      <td>1146.000000</td>\n",
       "      <td>1146.000000</td>\n",
       "      <td>1.146000e+03</td>\n",
       "      <td>1146.000000</td>\n",
       "    </tr>\n",
       "    <tr>\n",
       "      <th>mean</th>\n",
       "      <td>572.50000</td>\n",
       "      <td>60.683515</td>\n",
       "      <td>119.051392</td>\n",
       "      <td>3.476000e-01</td>\n",
       "      <td>32.483659</td>\n",
       "    </tr>\n",
       "    <tr>\n",
       "      <th>std</th>\n",
       "      <td>330.96601</td>\n",
       "      <td>44.224545</td>\n",
       "      <td>48.101013</td>\n",
       "      <td>5.553539e-17</td>\n",
       "      <td>1.036192</td>\n",
       "    </tr>\n",
       "    <tr>\n",
       "      <th>min</th>\n",
       "      <td>0.00000</td>\n",
       "      <td>5.582593</td>\n",
       "      <td>11.494074</td>\n",
       "      <td>3.476000e-01</td>\n",
       "      <td>10.860566</td>\n",
       "    </tr>\n",
       "    <tr>\n",
       "      <th>25%</th>\n",
       "      <td>286.25000</td>\n",
       "      <td>60.683515</td>\n",
       "      <td>119.051392</td>\n",
       "      <td>3.476000e-01</td>\n",
       "      <td>32.582855</td>\n",
       "    </tr>\n",
       "    <tr>\n",
       "      <th>50%</th>\n",
       "      <td>572.50000</td>\n",
       "      <td>60.683515</td>\n",
       "      <td>119.051392</td>\n",
       "      <td>3.476000e-01</td>\n",
       "      <td>32.582855</td>\n",
       "    </tr>\n",
       "    <tr>\n",
       "      <th>75%</th>\n",
       "      <td>858.75000</td>\n",
       "      <td>60.683515</td>\n",
       "      <td>119.051392</td>\n",
       "      <td>3.476000e-01</td>\n",
       "      <td>32.582855</td>\n",
       "    </tr>\n",
       "    <tr>\n",
       "      <th>max</th>\n",
       "      <td>1145.00000</td>\n",
       "      <td>500.000000</td>\n",
       "      <td>548.760000</td>\n",
       "      <td>3.476000e-01</td>\n",
       "      <td>32.582855</td>\n",
       "    </tr>\n",
       "  </tbody>\n",
       "</table>\n",
       "</div>"
      ],
      "text/plain": [
       "               id         PM25         PM10      latitude    longitude\n",
       "count  1146.00000  1146.000000  1146.000000  1.146000e+03  1146.000000\n",
       "mean    572.50000    60.683515   119.051392  3.476000e-01    32.483659\n",
       "std     330.96601    44.224545    48.101013  5.553539e-17     1.036192\n",
       "min       0.00000     5.582593    11.494074  3.476000e-01    10.860566\n",
       "25%     286.25000    60.683515   119.051392  3.476000e-01    32.582855\n",
       "50%     572.50000    60.683515   119.051392  3.476000e-01    32.582855\n",
       "75%     858.75000    60.683515   119.051392  3.476000e-01    32.582855\n",
       "max    1145.00000   500.000000   548.760000  3.476000e-01    32.582855"
      ]
     },
     "execution_count": 48,
     "metadata": {},
     "output_type": "execute_result"
    }
   ],
   "source": [
    "data1 = pd.read_csv(new, parse_dates = ['date'])\n",
    "data1.describe()"
   ]
  },
  {
   "cell_type": "code",
   "execution_count": 49,
   "metadata": {},
   "outputs": [
    {
     "data": {
      "text/html": [
       "<div>\n",
       "<style>\n",
       "    .dataframe thead tr:only-child th {\n",
       "        text-align: right;\n",
       "    }\n",
       "\n",
       "    .dataframe thead th {\n",
       "        text-align: left;\n",
       "    }\n",
       "\n",
       "    .dataframe tbody tr th {\n",
       "        vertical-align: top;\n",
       "    }\n",
       "</style>\n",
       "<table border=\"1\" class=\"dataframe\">\n",
       "  <thead>\n",
       "    <tr style=\"text-align: right;\">\n",
       "      <th></th>\n",
       "      <th>id</th>\n",
       "      <th>PM25</th>\n",
       "      <th>PM10</th>\n",
       "      <th>latitude</th>\n",
       "      <th>longitude</th>\n",
       "    </tr>\n",
       "  </thead>\n",
       "  <tbody>\n",
       "    <tr>\n",
       "      <th>id</th>\n",
       "      <td>1.000000</td>\n",
       "      <td>-9.127124e-02</td>\n",
       "      <td>-6.506516e-02</td>\n",
       "      <td>0.000000e+00</td>\n",
       "      <td>2.760060e-02</td>\n",
       "    </tr>\n",
       "    <tr>\n",
       "      <th>PM25</th>\n",
       "      <td>-0.091271</td>\n",
       "      <td>1.000000e+00</td>\n",
       "      <td>1.030166e-01</td>\n",
       "      <td>-1.350697e-15</td>\n",
       "      <td>-2.013237e-02</td>\n",
       "    </tr>\n",
       "    <tr>\n",
       "      <th>PM10</th>\n",
       "      <td>-0.065065</td>\n",
       "      <td>1.030166e-01</td>\n",
       "      <td>1.000000e+00</td>\n",
       "      <td>4.497850e-14</td>\n",
       "      <td>5.321061e-03</td>\n",
       "    </tr>\n",
       "    <tr>\n",
       "      <th>latitude</th>\n",
       "      <td>0.000000</td>\n",
       "      <td>-1.350697e-15</td>\n",
       "      <td>4.497850e-14</td>\n",
       "      <td>1.000000e+00</td>\n",
       "      <td>-3.793698e-13</td>\n",
       "    </tr>\n",
       "    <tr>\n",
       "      <th>longitude</th>\n",
       "      <td>0.027601</td>\n",
       "      <td>-2.013237e-02</td>\n",
       "      <td>5.321061e-03</td>\n",
       "      <td>-3.793698e-13</td>\n",
       "      <td>1.000000e+00</td>\n",
       "    </tr>\n",
       "  </tbody>\n",
       "</table>\n",
       "</div>"
      ],
      "text/plain": [
       "                 id          PM25          PM10      latitude     longitude\n",
       "id         1.000000 -9.127124e-02 -6.506516e-02  0.000000e+00  2.760060e-02\n",
       "PM25      -0.091271  1.000000e+00  1.030166e-01 -1.350697e-15 -2.013237e-02\n",
       "PM10      -0.065065  1.030166e-01  1.000000e+00  4.497850e-14  5.321061e-03\n",
       "latitude   0.000000 -1.350697e-15  4.497850e-14  1.000000e+00 -3.793698e-13\n",
       "longitude  0.027601 -2.013237e-02  5.321061e-03 -3.793698e-13  1.000000e+00"
      ]
     },
     "execution_count": 49,
     "metadata": {},
     "output_type": "execute_result"
    }
   ],
   "source": [
    "data1.corr()"
   ]
  },
  {
   "cell_type": "code",
   "execution_count": 51,
   "metadata": {},
   "outputs": [
    {
     "name": "stdout",
     "output_type": "stream",
     "text": [
      "(1146, 6)\n"
     ]
    }
   ],
   "source": [
    "print data1.shape\n"
   ]
  },
  {
   "cell_type": "code",
   "execution_count": 64,
   "metadata": {},
   "outputs": [
    {
     "name": "stdout",
     "output_type": "stream",
     "text": [
      "date\n",
      "2017-01-12     65.108179\n",
      "2017-02-12     67.835276\n",
      "2017-03-12     51.234256\n",
      "2017-04-12     57.327598\n",
      "2017-05-12     60.683515\n",
      "2017-06-12     60.683515\n",
      "2017-07-12     60.683515\n",
      "2017-08-12     79.239326\n",
      "2017-09-12     49.966100\n",
      "2017-10-12     59.429580\n",
      "2017-11-12     55.197497\n",
      "2017-11-26    101.580501\n",
      "2017-11-27     88.025441\n",
      "2017-11-28     77.080057\n",
      "2017-11-29     49.596894\n",
      "2017-11-30    104.144865\n",
      "2017-12-12     60.683515\n",
      "2017-12-13     62.717702\n",
      "2017-12-14     60.683515\n",
      "2017-12-15     62.009234\n",
      "2017-12-16     60.683515\n",
      "2017-12-17     60.683515\n",
      "2017-12-18     59.544618\n",
      "2017-12-19     60.683515\n",
      "2017-12-20     57.549696\n",
      "2017-12-21     45.103600\n",
      "2017-12-22     60.683515\n",
      "2017-12-23     62.410838\n",
      "2017-12-24     47.228604\n",
      "2017-12-25     46.667994\n",
      "2017-12-26     41.314982\n",
      "2017-12-27     60.683515\n",
      "2017-12-28     52.303493\n",
      "2017-12-29     60.683515\n",
      "2017-12-30     60.683515\n",
      "2017-12-31     60.683515\n",
      "2018-01-01     60.683515\n",
      "2018-01-13     56.154743\n",
      "2018-02-01     60.683515\n",
      "2018-03-01     60.683515\n",
      "2018-04-01     59.860201\n",
      "2018-05-01     60.683515\n",
      "2018-06-01     63.289030\n",
      "2018-07-01     60.683515\n",
      "2018-08-01     59.502618\n",
      "2018-09-01     56.865485\n",
      "2018-10-01     60.102659\n",
      "2018-11-01     56.125443\n",
      "2018-12-01     53.808526\n",
      "Name: TYPE, dtype: float64\n",
      "(49,)\n"
     ]
    }
   ],
   "source": [
    "date = data1['date']\n",
    "pm = data1['PM25']\n",
    "#print pm\n",
    "data2 = pd.DataFrame({'date': data1['date'],\n",
    "                     'TYPE':data1['PM25'] })\n",
    "#print data.head()\n",
    "#PRINT Dailly average data\n",
    "daily = data2.set_index('date').groupby(pd.TimeGrouper(freq='D'))['TYPE'].mean()\n",
    "monthly = daily.groupby(pd.TimeGrouper(freq='D')).mean()\n",
    "monthlys = monthly.dropna(axis=0)\n",
    "print monthlys\n",
    "print monthlys.shape"
   ]
  },
  {
   "cell_type": "code",
   "execution_count": 55,
   "metadata": {},
   "outputs": [
    {
     "name": "stdout",
     "output_type": "stream",
     "text": [
      "date\n",
      "2017-01-15     65.108179\n",
      "2017-02-12     67.835276\n",
      "2017-03-12     51.234256\n",
      "2017-04-16     57.327598\n",
      "2017-05-14     60.683515\n",
      "2017-06-18     60.683515\n",
      "2017-07-16     60.683515\n",
      "2017-08-13     79.239326\n",
      "2017-09-17     49.966100\n",
      "2017-10-15     59.429580\n",
      "2017-11-12     55.197497\n",
      "2017-11-26    101.580501\n",
      "2017-12-03     79.711814\n",
      "2017-12-17     61.243499\n",
      "2017-12-24     56.172055\n",
      "2017-12-31     54.717218\n",
      "2018-01-07     60.683515\n",
      "2018-01-14     56.154743\n",
      "2018-02-04     60.683515\n",
      "2018-03-04     60.683515\n",
      "2018-04-01     59.860201\n",
      "2018-05-06     60.683515\n",
      "2018-06-03     63.289030\n",
      "2018-07-01     60.683515\n",
      "2018-08-05     59.502618\n",
      "2018-09-02     56.865485\n",
      "2018-10-07     60.102659\n",
      "2018-11-04     56.125443\n",
      "2018-12-02     53.808526\n",
      "Name: TYPE, dtype: float64\n",
      "(29,)\n"
     ]
    }
   ],
   "source": [
    "#PRINT weekly average data\n",
    "daily = data2.set_index('date').groupby(pd.TimeGrouper(freq='D'))['TYPE'].mean()\n",
    "monthly = daily.groupby(pd.TimeGrouper(freq='W')).mean()\n",
    "monthlys = monthly.dropna(axis=0)\n",
    "print monthlys\n",
    "print monthlys.shape"
   ]
  },
  {
   "cell_type": "code",
   "execution_count": 63,
   "metadata": {},
   "outputs": [
    {
     "name": "stdout",
     "output_type": "stream",
     "text": [
      "date\n",
      "2017-12-31    61.986167\n",
      "2018-12-31    59.163560\n",
      "Freq: A-DEC, Name: TYPE, dtype: float64\n",
      "(2,)\n"
     ]
    }
   ],
   "source": [
    "#PRINT monthly average data\n",
    "#(['M', 'A', 'Q', 'BM', 'BA', 'BQ', 'W'])\n",
    "daily = data2.set_index('date').groupby(pd.TimeGrouper(freq='D'))['TYPE'].mean()\n",
    "monthly = daily.groupby(pd.TimeGrouper(freq='A')).mean()\n",
    "monthlys = monthly.dropna(axis=0)\n",
    "print monthlys\n",
    "print monthlys.shape"
   ]
  },
  {
   "cell_type": "code",
   "execution_count": null,
   "metadata": {
    "collapsed": true
   },
   "outputs": [],
   "source": []
  }
 ],
 "metadata": {
  "kernelspec": {
   "display_name": "Python 2",
   "language": "python",
   "name": "python2"
  },
  "language_info": {
   "codemirror_mode": {
    "name": "ipython",
    "version": 2
   },
   "file_extension": ".py",
   "mimetype": "text/x-python",
   "name": "python",
   "nbconvert_exporter": "python",
   "pygments_lexer": "ipython2",
   "version": "2.7.14"
  }
 },
 "nbformat": 4,
 "nbformat_minor": 2
}
