{
 "cells": [
  {
   "cell_type": "code",
   "execution_count": 1,
   "metadata": {},
   "outputs": [],
   "source": [
    "# Import relevant items\n",
    "import pandas as pd\n",
    "import numpy as np\n",
    "\n",
    "import seaborn as sns\n",
    "%matplotlib inline\n"
   ]
  },
  {
   "cell_type": "code",
   "execution_count": 3,
   "metadata": {},
   "outputs": [],
   "source": [
    "con = r'E:/RESEAERCH/FEEDS/makidye/feeds.csv'\n",
    "#con = r'E:/RESEAERCH/FEEDS/mulago/feeds.csv'\n",
    "#con = r'E:/RESEAERCH/FEEDS/BUgolbi/feeds.csv'"
   ]
  },
  {
   "cell_type": "code",
   "execution_count": 4,
   "metadata": {},
   "outputs": [
    {
     "name": "stdout",
     "output_type": "stream",
     "text": [
      "           created_at  entry_id  field1  field2  field3  field4       field5  \\\n",
      "0 2017-06-30 21:54:28         1   17.36   23.44   42.72    1.39     0.000000   \n",
      "1 2017-06-30 21:55:29         2   17.51   23.75   42.05    1.39  1000.000000   \n",
      "2 2017-06-30 21:56:35         3   17.28   23.30   50.69    1.39     0.358032   \n",
      "3 2017-06-30 21:57:34         4   16.82   22.56   36.48    1.39     0.357840   \n",
      "4 2017-06-30 21:58:33         5   16.91   22.57   38.55    1.39     0.357840   \n",
      "\n",
      "        field6  field7  \n",
      "0     0.000000     NaN  \n",
      "1  1000.000000     NaN  \n",
      "2    32.584686     NaN  \n",
      "3    32.584671     NaN  \n",
      "4    32.584671     NaN  \n"
     ]
    }
   ],
   "source": [
    "df = pd.read_csv(con, parse_dates = ['created_at'])\n",
    "print df.head()"
   ]
  },
  {
   "cell_type": "code",
   "execution_count": 136,
   "metadata": {},
   "outputs": [
    {
     "data": {
      "text/html": [
       "<div>\n",
       "<style scoped>\n",
       "    .dataframe tbody tr th:only-of-type {\n",
       "        vertical-align: middle;\n",
       "    }\n",
       "\n",
       "    .dataframe tbody tr th {\n",
       "        vertical-align: top;\n",
       "    }\n",
       "\n",
       "    .dataframe thead th {\n",
       "        text-align: right;\n",
       "    }\n",
       "</style>\n",
       "<table border=\"1\" class=\"dataframe\">\n",
       "  <thead>\n",
       "    <tr style=\"text-align: right;\">\n",
       "      <th></th>\n",
       "      <th>entry_id</th>\n",
       "      <th>field1</th>\n",
       "      <th>field2</th>\n",
       "      <th>field3</th>\n",
       "      <th>field4</th>\n",
       "      <th>field5</th>\n",
       "      <th>field6</th>\n",
       "      <th>field7</th>\n",
       "    </tr>\n",
       "  </thead>\n",
       "  <tbody>\n",
       "    <tr>\n",
       "      <th>count</th>\n",
       "      <td>187516.000000</td>\n",
       "      <td>187516.000000</td>\n",
       "      <td>187516.000000</td>\n",
       "      <td>187516.000000</td>\n",
       "      <td>187516.000000</td>\n",
       "      <td>187516.000000</td>\n",
       "      <td>187516.000000</td>\n",
       "      <td>187516.000000</td>\n",
       "    </tr>\n",
       "    <tr>\n",
       "      <th>mean</th>\n",
       "      <td>93758.500000</td>\n",
       "      <td>25.230763</td>\n",
       "      <td>35.705773</td>\n",
       "      <td>60.715093</td>\n",
       "      <td>1.389950</td>\n",
       "      <td>126.758946</td>\n",
       "      <td>154.860470</td>\n",
       "      <td>3.881131</td>\n",
       "    </tr>\n",
       "    <tr>\n",
       "      <th>std</th>\n",
       "      <td>54131.350876</td>\n",
       "      <td>173.971287</td>\n",
       "      <td>242.477315</td>\n",
       "      <td>247.517101</td>\n",
       "      <td>0.002399</td>\n",
       "      <td>332.260039</td>\n",
       "      <td>321.570684</td>\n",
       "      <td>0.444288</td>\n",
       "    </tr>\n",
       "    <tr>\n",
       "      <th>min</th>\n",
       "      <td>1.000000</td>\n",
       "      <td>0.000000</td>\n",
       "      <td>0.000000</td>\n",
       "      <td>0.000000</td>\n",
       "      <td>1.230000</td>\n",
       "      <td>0.000000</td>\n",
       "      <td>0.000000</td>\n",
       "      <td>3.150000</td>\n",
       "    </tr>\n",
       "    <tr>\n",
       "      <th>25%</th>\n",
       "      <td>46879.750000</td>\n",
       "      <td>4.350000</td>\n",
       "      <td>6.460000</td>\n",
       "      <td>18.500000</td>\n",
       "      <td>1.390000</td>\n",
       "      <td>0.332323</td>\n",
       "      <td>32.570015</td>\n",
       "      <td>3.480000</td>\n",
       "    </tr>\n",
       "    <tr>\n",
       "      <th>50%</th>\n",
       "      <td>93758.500000</td>\n",
       "      <td>7.470000</td>\n",
       "      <td>10.760000</td>\n",
       "      <td>30.560000</td>\n",
       "      <td>1.390000</td>\n",
       "      <td>0.337679</td>\n",
       "      <td>32.577187</td>\n",
       "      <td>3.770000</td>\n",
       "    </tr>\n",
       "    <tr>\n",
       "      <th>75%</th>\n",
       "      <td>140637.250000</td>\n",
       "      <td>13.810000</td>\n",
       "      <td>19.520000</td>\n",
       "      <td>52.720000</td>\n",
       "      <td>1.390000</td>\n",
       "      <td>0.337705</td>\n",
       "      <td>32.577217</td>\n",
       "      <td>4.290000</td>\n",
       "    </tr>\n",
       "    <tr>\n",
       "      <th>max</th>\n",
       "      <td>187516.000000</td>\n",
       "      <td>5747.390000</td>\n",
       "      <td>8682.300000</td>\n",
       "      <td>8741.860000</td>\n",
       "      <td>1.390000</td>\n",
       "      <td>1000.000000</td>\n",
       "      <td>1000.000000</td>\n",
       "      <td>5.000000</td>\n",
       "    </tr>\n",
       "  </tbody>\n",
       "</table>\n",
       "</div>"
      ],
      "text/plain": [
       "            entry_id         field1         field2         field3  \\\n",
       "count  187516.000000  187516.000000  187516.000000  187516.000000   \n",
       "mean    93758.500000      25.230763      35.705773      60.715093   \n",
       "std     54131.350876     173.971287     242.477315     247.517101   \n",
       "min         1.000000       0.000000       0.000000       0.000000   \n",
       "25%     46879.750000       4.350000       6.460000      18.500000   \n",
       "50%     93758.500000       7.470000      10.760000      30.560000   \n",
       "75%    140637.250000      13.810000      19.520000      52.720000   \n",
       "max    187516.000000    5747.390000    8682.300000    8741.860000   \n",
       "\n",
       "              field4         field5         field6         field7  \n",
       "count  187516.000000  187516.000000  187516.000000  187516.000000  \n",
       "mean        1.389950     126.758946     154.860470       3.881131  \n",
       "std         0.002399     332.260039     321.570684       0.444288  \n",
       "min         1.230000       0.000000       0.000000       3.150000  \n",
       "25%         1.390000       0.332323      32.570015       3.480000  \n",
       "50%         1.390000       0.337679      32.577187       3.770000  \n",
       "75%         1.390000       0.337705      32.577217       4.290000  \n",
       "max         1.390000    1000.000000    1000.000000       5.000000  "
      ]
     },
     "execution_count": 136,
     "metadata": {},
     "output_type": "execute_result"
    }
   ],
   "source": [
    "df.describe()"
   ]
  },
  {
   "cell_type": "code",
   "execution_count": 137,
   "metadata": {},
   "outputs": [
    {
     "data": {
      "text/plain": [
       "created_at    datetime64[ns]\n",
       "entry_id               int64\n",
       "field1               float64\n",
       "field2               float64\n",
       "field3               float64\n",
       "field4               float64\n",
       "field5               float64\n",
       "field6               float64\n",
       "field7               float64\n",
       "dtype: object"
      ]
     },
     "execution_count": 137,
     "metadata": {},
     "output_type": "execute_result"
    }
   ],
   "source": [
    "df.dtypes"
   ]
  },
  {
   "cell_type": "code",
   "execution_count": 2,
   "metadata": {},
   "outputs": [],
   "source": [
    "import matplotlib.pyplot as plt\n",
    "plt.style.use('ggplot')\n",
    "plt.rcParams[\"figure.figsize\"] = [16,8]"
   ]
  },
  {
   "cell_type": "code",
   "execution_count": 139,
   "metadata": {},
   "outputs": [
    {
     "data": {
      "text/plain": [
       "False"
      ]
     },
     "execution_count": 139,
     "metadata": {},
     "output_type": "execute_result"
    }
   ],
   "source": [
    "# Are there null values in our dataset?\n",
    "df.isnull().field2.any()"
   ]
  },
  {
   "cell_type": "code",
   "execution_count": 140,
   "metadata": {},
   "outputs": [
    {
     "data": {
      "text/plain": [
       "(0, 9)"
      ]
     },
     "execution_count": 140,
     "metadata": {},
     "output_type": "execute_result"
    }
   ],
   "source": [
    "# Show rows where any cell has a NaN\n",
    "df[df.isnull().any(axis=1)].shape"
   ]
  },
  {
   "cell_type": "code",
   "execution_count": 141,
   "metadata": {},
   "outputs": [
    {
     "data": {
      "text/plain": [
       "(187516, 9)"
      ]
     },
     "execution_count": 141,
     "metadata": {},
     "output_type": "execute_result"
    }
   ],
   "source": [
    "df = df.dropna(axis=0,subset=['field2'])\n",
    "df.shape"
   ]
  },
  {
   "cell_type": "code",
   "execution_count": 142,
   "metadata": {},
   "outputs": [
    {
     "data": {
      "text/plain": [
       "False"
      ]
     },
     "execution_count": 142,
     "metadata": {},
     "output_type": "execute_result"
    }
   ],
   "source": [
    "# Are there null values in our dataset?\n",
    "df.isnull().field2.any()"
   ]
  },
  {
   "cell_type": "code",
   "execution_count": 143,
   "metadata": {},
   "outputs": [],
   "source": [
    "df = df.drop(['field1','field3','field4','field5','field6','field7'], axis=1)"
   ]
  },
  {
   "cell_type": "code",
   "execution_count": 144,
   "metadata": {},
   "outputs": [
    {
     "data": {
      "text/html": [
       "<div>\n",
       "<style scoped>\n",
       "    .dataframe tbody tr th:only-of-type {\n",
       "        vertical-align: middle;\n",
       "    }\n",
       "\n",
       "    .dataframe tbody tr th {\n",
       "        vertical-align: top;\n",
       "    }\n",
       "\n",
       "    .dataframe thead th {\n",
       "        text-align: right;\n",
       "    }\n",
       "</style>\n",
       "<table border=\"1\" class=\"dataframe\">\n",
       "  <thead>\n",
       "    <tr style=\"text-align: right;\">\n",
       "      <th></th>\n",
       "      <th>created_at</th>\n",
       "      <th>entry_id</th>\n",
       "      <th>field2</th>\n",
       "    </tr>\n",
       "  </thead>\n",
       "  <tbody>\n",
       "    <tr>\n",
       "      <th>0</th>\n",
       "      <td>2017-07-30 19:42:39</td>\n",
       "      <td>1</td>\n",
       "      <td>31.06</td>\n",
       "    </tr>\n",
       "    <tr>\n",
       "      <th>1</th>\n",
       "      <td>2017-07-30 19:43:38</td>\n",
       "      <td>2</td>\n",
       "      <td>30.87</td>\n",
       "    </tr>\n",
       "    <tr>\n",
       "      <th>2</th>\n",
       "      <td>2017-07-30 19:44:35</td>\n",
       "      <td>3</td>\n",
       "      <td>32.74</td>\n",
       "    </tr>\n",
       "    <tr>\n",
       "      <th>3</th>\n",
       "      <td>2017-07-30 19:45:33</td>\n",
       "      <td>4</td>\n",
       "      <td>33.87</td>\n",
       "    </tr>\n",
       "    <tr>\n",
       "      <th>4</th>\n",
       "      <td>2017-07-30 19:46:33</td>\n",
       "      <td>5</td>\n",
       "      <td>35.07</td>\n",
       "    </tr>\n",
       "  </tbody>\n",
       "</table>\n",
       "</div>"
      ],
      "text/plain": [
       "           created_at  entry_id  field2\n",
       "0 2017-07-30 19:42:39         1   31.06\n",
       "1 2017-07-30 19:43:38         2   30.87\n",
       "2 2017-07-30 19:44:35         3   32.74\n",
       "3 2017-07-30 19:45:33         4   33.87\n",
       "4 2017-07-30 19:46:33         5   35.07"
      ]
     },
     "execution_count": 144,
     "metadata": {},
     "output_type": "execute_result"
    }
   ],
   "source": [
    "df.head()"
   ]
  },
  {
   "cell_type": "code",
   "execution_count": 145,
   "metadata": {},
   "outputs": [],
   "source": [
    "df = df.drop(df[df.field2 <= 0.62].index)"
   ]
  },
  {
   "cell_type": "code",
   "execution_count": 146,
   "metadata": {},
   "outputs": [
    {
     "data": {
      "text/plain": [
       "184934"
      ]
     },
     "execution_count": 146,
     "metadata": {},
     "output_type": "execute_result"
    }
   ],
   "source": [
    "df['field2'].count()"
   ]
  },
  {
   "cell_type": "code",
   "execution_count": 147,
   "metadata": {},
   "outputs": [],
   "source": [
    "df = df.drop(df[df.field2 >= 1000].index)"
   ]
  },
  {
   "cell_type": "code",
   "execution_count": 148,
   "metadata": {},
   "outputs": [
    {
     "data": {
      "text/plain": [
       "183706"
      ]
     },
     "execution_count": 148,
     "metadata": {},
     "output_type": "execute_result"
    }
   ],
   "source": [
    "df['field2'].count()"
   ]
  },
  {
   "cell_type": "code",
   "execution_count": 149,
   "metadata": {},
   "outputs": [
    {
     "data": {
      "text/plain": [
       "False"
      ]
     },
     "execution_count": 149,
     "metadata": {},
     "output_type": "execute_result"
    }
   ],
   "source": [
    "# Are there null values in our dataset?\n",
    "df.isnull().field2.any()"
   ]
  },
  {
   "cell_type": "code",
   "execution_count": 150,
   "metadata": {},
   "outputs": [],
   "source": [
    "df = df.rename(columns={\"created_at\": \"Date\"})\n",
    "df = df.rename(columns={\"field2\": \"Value\"})"
   ]
  },
  {
   "cell_type": "code",
   "execution_count": 151,
   "metadata": {},
   "outputs": [
    {
     "data": {
      "text/html": [
       "<div>\n",
       "<style scoped>\n",
       "    .dataframe tbody tr th:only-of-type {\n",
       "        vertical-align: middle;\n",
       "    }\n",
       "\n",
       "    .dataframe tbody tr th {\n",
       "        vertical-align: top;\n",
       "    }\n",
       "\n",
       "    .dataframe thead th {\n",
       "        text-align: right;\n",
       "    }\n",
       "</style>\n",
       "<table border=\"1\" class=\"dataframe\">\n",
       "  <thead>\n",
       "    <tr style=\"text-align: right;\">\n",
       "      <th></th>\n",
       "      <th>entry_id</th>\n",
       "      <th>Value</th>\n",
       "    </tr>\n",
       "  </thead>\n",
       "  <tbody>\n",
       "    <tr>\n",
       "      <th>count</th>\n",
       "      <td>183706.000000</td>\n",
       "      <td>183706.000000</td>\n",
       "    </tr>\n",
       "    <tr>\n",
       "      <th>mean</th>\n",
       "      <td>94849.308526</td>\n",
       "      <td>19.963495</td>\n",
       "    </tr>\n",
       "    <tr>\n",
       "      <th>std</th>\n",
       "      <td>53962.670904</td>\n",
       "      <td>52.690382</td>\n",
       "    </tr>\n",
       "    <tr>\n",
       "      <th>min</th>\n",
       "      <td>1.000000</td>\n",
       "      <td>0.630000</td>\n",
       "    </tr>\n",
       "    <tr>\n",
       "      <th>25%</th>\n",
       "      <td>47858.250000</td>\n",
       "      <td>6.580000</td>\n",
       "    </tr>\n",
       "    <tr>\n",
       "      <th>50%</th>\n",
       "      <td>95663.500000</td>\n",
       "      <td>10.840000</td>\n",
       "    </tr>\n",
       "    <tr>\n",
       "      <th>75%</th>\n",
       "      <td>141589.750000</td>\n",
       "      <td>19.430000</td>\n",
       "    </tr>\n",
       "    <tr>\n",
       "      <th>max</th>\n",
       "      <td>187516.000000</td>\n",
       "      <td>999.510000</td>\n",
       "    </tr>\n",
       "  </tbody>\n",
       "</table>\n",
       "</div>"
      ],
      "text/plain": [
       "            entry_id          Value\n",
       "count  183706.000000  183706.000000\n",
       "mean    94849.308526      19.963495\n",
       "std     53962.670904      52.690382\n",
       "min         1.000000       0.630000\n",
       "25%     47858.250000       6.580000\n",
       "50%     95663.500000      10.840000\n",
       "75%    141589.750000      19.430000\n",
       "max    187516.000000     999.510000"
      ]
     },
     "execution_count": 151,
     "metadata": {},
     "output_type": "execute_result"
    }
   ],
   "source": [
    "df.describe()"
   ]
  },
  {
   "cell_type": "code",
   "execution_count": 152,
   "metadata": {
    "scrolled": true
   },
   "outputs": [
    {
     "name": "stdout",
     "output_type": "stream",
     "text": [
      "2776.27635792\n",
      "10.84\n",
      "12.6877540493\n",
      "190.183723771\n"
     ]
    }
   ],
   "source": [
    "print df['Value'].var()\n",
    "print df['Value'].median()\n",
    "print df['Value'].skew()\n",
    "print df['Value'].kurt()"
   ]
  },
  {
   "cell_type": "code",
   "execution_count": 153,
   "metadata": {},
   "outputs": [],
   "source": [
    "def time_series(start, end):\n",
    "    time_series_df = df[['Date', 'Value']][(df['Date'] >= start) & (df['Date'] <= end)]\n",
    "    x = time_series_df.Date\n",
    "    y = time_series_df.Value\n",
    "    plt.plot(x,y)\n",
    "    plt.xlabel('Time')\n",
    "    plt.ylabel('PM2.5 Value')\n",
    "    plt.title('PM2.5 Time Series')\n",
    "    return plt.show();"
   ]
  },
  {
   "cell_type": "code",
   "execution_count": 154,
   "metadata": {},
   "outputs": [
    {
     "data": {
      "image/png": "[encoded data removed]",
      "text/plain": [
       "<matplotlib.figure.Figure at 0xd9487b0>"
      ]
     },
     "metadata": {},
     "output_type": "display_data"
    }
   ],
   "source": [
    "time_series('2017','2018')"
   ]
  },
  {
   "cell_type": "code",
   "execution_count": 155,
   "metadata": {},
   "outputs": [],
   "source": [
    "#df=df.replace(df['Value'] >500, 500)\n",
    "#replace values over 550 with 505\n",
    "df.Value = np.where(df.Value >500, 500,df.Value)"
   ]
  },
  {
   "cell_type": "code",
   "execution_count": 156,
   "metadata": {},
   "outputs": [],
   "source": [
    "def time_series(start, end):\n",
    "    time_series_df = df[['Date', 'Value']][(df['Date'] >= start) & (df['Date'] <= end)]\n",
    "    x = time_series_df.Date\n",
    "    y = time_series_df.Value\n",
    "    plt.plot(x,y)\n",
    "    plt.xlabel('Time')\n",
    "    plt.ylabel('PM2.5 Value')\n",
    "    plt.title('PM2.5 Time Series')\n",
    "    return plt.show();"
   ]
  },
  {
   "cell_type": "code",
   "execution_count": 157,
   "metadata": {},
   "outputs": [
    {
     "data": {
      "image/png": "[encoded data removed]",
      "text/plain": [
       "<matplotlib.figure.Figure at 0xd96fc90>"
      ]
     },
     "metadata": {},
     "output_type": "display_data"
    }
   ],
   "source": [
    "time_series('2017-12-01','2018-09-30')"
   ]
  },
  {
   "cell_type": "code",
   "execution_count": 29,
   "metadata": {},
   "outputs": [
    {
     "data": {
      "image/png": "[encoded data removed]",
      "text/plain": [
       "<matplotlib.figure.Figure at 0xc996c10>"
      ]
     },
     "metadata": {},
     "output_type": "display_data"
    }
   ],
   "source": [
    "time_series('2018-08-02','2018-09-04')"
   ]
  },
  {
   "cell_type": "code",
   "execution_count": 158,
   "metadata": {},
   "outputs": [
    {
     "data": {
      "text/html": [
       "<div>\n",
       "<style scoped>\n",
       "    .dataframe tbody tr th:only-of-type {\n",
       "        vertical-align: middle;\n",
       "    }\n",
       "\n",
       "    .dataframe tbody tr th {\n",
       "        vertical-align: top;\n",
       "    }\n",
       "\n",
       "    .dataframe thead th {\n",
       "        text-align: right;\n",
       "    }\n",
       "</style>\n",
       "<table border=\"1\" class=\"dataframe\">\n",
       "  <thead>\n",
       "    <tr style=\"text-align: right;\">\n",
       "      <th></th>\n",
       "      <th>Date</th>\n",
       "      <th>entry_id</th>\n",
       "      <th>Value</th>\n",
       "    </tr>\n",
       "  </thead>\n",
       "  <tbody>\n",
       "    <tr>\n",
       "      <th>0</th>\n",
       "      <td>2017-07-30 19:42:39</td>\n",
       "      <td>1</td>\n",
       "      <td>31.06</td>\n",
       "    </tr>\n",
       "    <tr>\n",
       "      <th>1</th>\n",
       "      <td>2017-07-30 19:43:38</td>\n",
       "      <td>2</td>\n",
       "      <td>30.87</td>\n",
       "    </tr>\n",
       "    <tr>\n",
       "      <th>2</th>\n",
       "      <td>2017-07-30 19:44:35</td>\n",
       "      <td>3</td>\n",
       "      <td>32.74</td>\n",
       "    </tr>\n",
       "    <tr>\n",
       "      <th>3</th>\n",
       "      <td>2017-07-30 19:45:33</td>\n",
       "      <td>4</td>\n",
       "      <td>33.87</td>\n",
       "    </tr>\n",
       "    <tr>\n",
       "      <th>4</th>\n",
       "      <td>2017-07-30 19:46:33</td>\n",
       "      <td>5</td>\n",
       "      <td>35.07</td>\n",
       "    </tr>\n",
       "  </tbody>\n",
       "</table>\n",
       "</div>"
      ],
      "text/plain": [
       "                 Date  entry_id  Value\n",
       "0 2017-07-30 19:42:39         1  31.06\n",
       "1 2017-07-30 19:43:38         2  30.87\n",
       "2 2017-07-30 19:44:35         3  32.74\n",
       "3 2017-07-30 19:45:33         4  33.87\n",
       "4 2017-07-30 19:46:33         5  35.07"
      ]
     },
     "execution_count": 158,
     "metadata": {},
     "output_type": "execute_result"
    }
   ],
   "source": [
    "df.head()"
   ]
  },
  {
   "cell_type": "code",
   "execution_count": 159,
   "metadata": {},
   "outputs": [],
   "source": [
    "from datetime import datetime\n",
    "df['Date'] = pd.to_datetime(df['Date'])"
   ]
  },
  {
   "cell_type": "code",
   "execution_count": 160,
   "metadata": {},
   "outputs": [],
   "source": [
    "#Create day of the week feature\n",
    "import datetime as dt\n",
    "\n",
    "df['day_week'] = df['Date'].dt.weekday_name"
   ]
  },
  {
   "cell_type": "code",
   "execution_count": 161,
   "metadata": {},
   "outputs": [],
   "source": [
    "import datetime as dt\n",
    "#df['Month'] = df['Date'].dt.month_name()"
   ]
  },
  {
   "cell_type": "code",
   "execution_count": 162,
   "metadata": {},
   "outputs": [],
   "source": [
    "df['month'] = df['Date'].dt.month_name()"
   ]
  },
  {
   "cell_type": "code",
   "execution_count": 163,
   "metadata": {},
   "outputs": [],
   "source": [
    "df['month_cat'] = df.month.astype(\"category\").cat.codes"
   ]
  },
  {
   "cell_type": "code",
   "execution_count": 164,
   "metadata": {},
   "outputs": [
    {
     "data": {
      "text/html": [
       "<div>\n",
       "<style scoped>\n",
       "    .dataframe tbody tr th:only-of-type {\n",
       "        vertical-align: middle;\n",
       "    }\n",
       "\n",
       "    .dataframe tbody tr th {\n",
       "        vertical-align: top;\n",
       "    }\n",
       "\n",
       "    .dataframe thead th {\n",
       "        text-align: right;\n",
       "    }\n",
       "</style>\n",
       "<table border=\"1\" class=\"dataframe\">\n",
       "  <thead>\n",
       "    <tr style=\"text-align: right;\">\n",
       "      <th></th>\n",
       "      <th>Date</th>\n",
       "      <th>entry_id</th>\n",
       "      <th>Value</th>\n",
       "      <th>day_week</th>\n",
       "      <th>month</th>\n",
       "      <th>month_cat</th>\n",
       "    </tr>\n",
       "  </thead>\n",
       "  <tbody>\n",
       "    <tr>\n",
       "      <th>0</th>\n",
       "      <td>2017-07-30 19:42:39</td>\n",
       "      <td>1</td>\n",
       "      <td>31.06</td>\n",
       "      <td>Sunday</td>\n",
       "      <td>July</td>\n",
       "      <td>5</td>\n",
       "    </tr>\n",
       "    <tr>\n",
       "      <th>1</th>\n",
       "      <td>2017-07-30 19:43:38</td>\n",
       "      <td>2</td>\n",
       "      <td>30.87</td>\n",
       "      <td>Sunday</td>\n",
       "      <td>July</td>\n",
       "      <td>5</td>\n",
       "    </tr>\n",
       "    <tr>\n",
       "      <th>2</th>\n",
       "      <td>2017-07-30 19:44:35</td>\n",
       "      <td>3</td>\n",
       "      <td>32.74</td>\n",
       "      <td>Sunday</td>\n",
       "      <td>July</td>\n",
       "      <td>5</td>\n",
       "    </tr>\n",
       "    <tr>\n",
       "      <th>3</th>\n",
       "      <td>2017-07-30 19:45:33</td>\n",
       "      <td>4</td>\n",
       "      <td>33.87</td>\n",
       "      <td>Sunday</td>\n",
       "      <td>July</td>\n",
       "      <td>5</td>\n",
       "    </tr>\n",
       "    <tr>\n",
       "      <th>4</th>\n",
       "      <td>2017-07-30 19:46:33</td>\n",
       "      <td>5</td>\n",
       "      <td>35.07</td>\n",
       "      <td>Sunday</td>\n",
       "      <td>July</td>\n",
       "      <td>5</td>\n",
       "    </tr>\n",
       "  </tbody>\n",
       "</table>\n",
       "</div>"
      ],
      "text/plain": [
       "                 Date  entry_id  Value day_week month  month_cat\n",
       "0 2017-07-30 19:42:39         1  31.06   Sunday  July          5\n",
       "1 2017-07-30 19:43:38         2  30.87   Sunday  July          5\n",
       "2 2017-07-30 19:44:35         3  32.74   Sunday  July          5\n",
       "3 2017-07-30 19:45:33         4  33.87   Sunday  July          5\n",
       "4 2017-07-30 19:46:33         5  35.07   Sunday  July          5"
      ]
     },
     "execution_count": 164,
     "metadata": {},
     "output_type": "execute_result"
    }
   ],
   "source": [
    "df.head()"
   ]
  },
  {
   "cell_type": "code",
   "execution_count": 165,
   "metadata": {},
   "outputs": [],
   "source": [
    "df = df.drop(df[df.Value >= 300].index)"
   ]
  },
  {
   "cell_type": "code",
   "execution_count": 166,
   "metadata": {},
   "outputs": [
    {
     "data": {
      "text/plain": [
       "(array([  4.92810114e-02,   2.83075088e-02,   1.15934347e-02,\n",
       "          4.83594608e-03,   2.03838199e-03,   1.12451106e-03,\n",
       "          7.08167694e-04,   4.47061713e-04,   3.10474760e-04,\n",
       "          2.87984539e-04,   2.55072020e-04,   2.11737204e-04,\n",
       "          1.63465510e-04,   1.45912166e-04,   1.09708396e-04,\n",
       "          7.84415029e-05,   5.21114880e-05,   4.77231521e-05,\n",
       "          3.56552286e-05,   3.62037706e-05,   2.85241829e-05,\n",
       "          2.63300150e-05,   2.68785570e-05,   2.08445952e-05,\n",
       "          1.91989693e-05,   2.24902211e-05,   1.91989693e-05,\n",
       "          1.53591754e-05,   9.87375561e-06,   1.15193816e-05]),\n",
       " array([   0.63 ,   10.603,   20.576,   30.549,   40.522,   50.495,\n",
       "          60.468,   70.441,   80.414,   90.387,  100.36 ,  110.333,\n",
       "         120.306,  130.279,  140.252,  150.225,  160.198,  170.171,\n",
       "         180.144,  190.117,  200.09 ,  210.063,  220.036,  230.009,\n",
       "         239.982,  249.955,  259.928,  269.901,  279.874,  289.847,  299.82 ]),\n",
       " <a list of 30 Patch objects>)"
      ]
     },
     "execution_count": 166,
     "metadata": {},
     "output_type": "execute_result"
    },
    {
     "data": {
      "image/png": "[encoded data removed]",
      "text/plain": [
       "<matplotlib.figure.Figure at 0x120e2cd0>"
      ]
     },
     "metadata": {},
     "output_type": "display_data"
    }
   ],
   "source": [
    "plt.hist(df.Value, bins=30, normed =True, alpha=0.5)"
   ]
  },
  {
   "cell_type": "code",
   "execution_count": 167,
   "metadata": {},
   "outputs": [],
   "source": [
    "#df.to_csv('E:/RESEAERCH/FEEDS/BUkoto/feedsH.csv',index = True)"
   ]
  },
  {
   "cell_type": "code",
   "execution_count": 5,
   "metadata": {},
   "outputs": [
    {
     "name": "stdout",
     "output_type": "stream",
     "text": [
      "   Unnamed: 0                Date  entry_id  Value day_week month  month_cat\n",
      "0      131072 2018-07-24 18:25:20    131073  22.66  Tuesday  July          1\n",
      "1      131073 2018-07-24 18:26:17    131074  24.96  Tuesday  July          1\n",
      "2      131074 2018-07-24 18:27:18    131075  22.73  Tuesday  July          1\n",
      "3      131075 2018-07-24 18:29:16    131076  20.67  Tuesday  July          1\n",
      "4      131076 2018-07-24 18:30:21    131077  21.75  Tuesday  July          1\n"
     ]
    }
   ],
   "source": [
    "con1 = r'E:/RESEAERCH/FEEDS/BUKOTO/feedsH.csv'\n",
    "df = pd.read_csv(con1, parse_dates = ['Date'])\n",
    "print df.head()"
   ]
  },
  {
   "cell_type": "code",
   "execution_count": 6,
   "metadata": {},
   "outputs": [
    {
     "name": "stderr",
     "output_type": "stream",
     "text": [
      "C:\\Users\\Wabinyai\\Anaconda2\\lib\\site-packages\\seaborn\\categorical.py:462: FutureWarning: remove_na is deprecated and is a private function. Do not use.\n",
      "  box_data = remove_na(group_data)\n"
     ]
    },
    {
     "data": {
      "image/png": "[encoded data removed]",
      "text/plain": [
       "<matplotlib.figure.Figure at 0x8ae73b0>"
      ]
     },
     "metadata": {},
     "output_type": "display_data"
    }
   ],
   "source": [
    "ax = sns.boxplot(x=\"month\", y=\"Value\", data=df)"
   ]
  },
  {
   "cell_type": "code",
   "execution_count": 170,
   "metadata": {
    "scrolled": true
   },
   "outputs": [
    {
     "name": "stdout",
     "output_type": "stream",
     "text": [
      "Date\n",
      "2018-07-24 18:00:00    22.309697\n",
      "2018-07-24 19:00:00    17.581429\n",
      "2018-07-24 20:00:00    15.128750\n",
      "2018-07-24 21:00:00    23.731132\n",
      "2018-07-24 22:00:00    14.111600\n",
      "Name: Value, dtype: float64\n",
      "(773,)\n"
     ]
    }
   ],
   "source": [
    "\n",
    "daily = df.set_index('Date').groupby(pd.Grouper(freq='H'))['Value'].mean()\n",
    "monthly = daily.groupby(pd.Grouper(freq='H')).mean()\n",
    "#Dropping all Nan values\n",
    "monthlys = monthly.dropna(axis=0)\n",
    "print monthlys.head()\n",
    "print monthlys.shape"
   ]
  },
  {
   "cell_type": "code",
   "execution_count": 171,
   "metadata": {},
   "outputs": [
    {
     "name": "stdout",
     "output_type": "stream",
     "text": [
      "Date\n",
      "2018-07-24    18.376148\n",
      "2018-08-02    37.143668\n",
      "2018-08-03    25.512630\n",
      "2018-08-04    30.081047\n",
      "2018-08-05    23.409175\n",
      "Name: Value, dtype: float64\n",
      "(42,)\n"
     ]
    }
   ],
   "source": [
    "\n",
    "daily = df.set_index('Date').groupby(pd.Grouper(freq='D'))['Value'].mean()\n",
    "monthly = daily.groupby(pd.Grouper(freq='D')).mean()\n",
    "#Dropping all Nan values\n",
    "monthlys = monthly.dropna(axis=0)\n",
    "print monthlys.head()\n",
    "print monthlys.shape"
   ]
  },
  {
   "cell_type": "code",
   "execution_count": 172,
   "metadata": {},
   "outputs": [],
   "source": [
    "#monthlys.to_csv('E:/RESEAERCH/FEEDS/BUKOTO/feedsD.csv',index = True)"
   ]
  },
  {
   "cell_type": "markdown",
   "metadata": {},
   "source": [
    "# MERGING TWO CSV"
   ]
  },
  {
   "cell_type": "code",
   "execution_count": 7,
   "metadata": {},
   "outputs": [],
   "source": [
    "#foo = r'E:/RESEAERCH/FEEDS/ENTE/KAMPALA.csv'\n",
    "foo = r'E:/RESEAERCH/FEEDS/ENTE/methcombine.csv'\n",
    "foo1 =r'E:/RESEAERCH/FEEDS/makidye/feedsD.csv'\n",
    "#foo1 =r'E:/RESEAERCH/FEEDS/BUKOTO/feedsD.csv'"
   ]
  },
  {
   "cell_type": "code",
   "execution_count": 8,
   "metadata": {},
   "outputs": [
    {
     "name": "stdout",
     "output_type": "stream",
     "text": [
      "   Day       Date      Value\n",
      "0    1 2017-06-30  43.638864\n",
      "1    2 2017-01-07  21.086933\n",
      "2    3 2017-02-07  42.684333\n",
      "3    4 2017-03-07  30.683978\n",
      "4    5 2017-04-07  27.477139\n"
     ]
    }
   ],
   "source": [
    "# Let's first load the data and take a look at what we have.\n",
    "a = pd.read_csv(foo,parse_dates = ['Date'])\n",
    "#b = pd.read_csv(foo1, parse_dates = ['Date'])\n",
    "b = pd.read_csv(foo1)\n",
    "\n",
    "\n",
    "#b.columns = ['Date', 'Value']\n",
    "#print dt.head()\n",
    "b['Date'] = pd.to_datetime(b['Date'])\n",
    "print b.head()  "
   ]
  },
  {
   "cell_type": "code",
   "execution_count": 9,
   "metadata": {},
   "outputs": [
    {
     "data": {
      "text/html": [
       "<div>\n",
       "<style scoped>\n",
       "    .dataframe tbody tr th:only-of-type {\n",
       "        vertical-align: middle;\n",
       "    }\n",
       "\n",
       "    .dataframe tbody tr th {\n",
       "        vertical-align: top;\n",
       "    }\n",
       "\n",
       "    .dataframe thead th {\n",
       "        text-align: right;\n",
       "    }\n",
       "</style>\n",
       "<table border=\"1\" class=\"dataframe\">\n",
       "  <thead>\n",
       "    <tr style=\"text-align: right;\">\n",
       "      <th></th>\n",
       "      <th>Date</th>\n",
       "      <th>Temperature (degrees F)</th>\n",
       "      <th>Barometric Pressure (mbar)</th>\n",
       "      <th>Wind direction (degrees)</th>\n",
       "      <th>Wind speed (mph)</th>\n",
       "      <th>Dewpoint (degrees F)</th>\n",
       "      <th>Relative Humidity (%)</th>\n",
       "    </tr>\n",
       "  </thead>\n",
       "  <tbody>\n",
       "    <tr>\n",
       "      <th>0</th>\n",
       "      <td>2017-10-15</td>\n",
       "      <td>77.0</td>\n",
       "      <td>1005.840000</td>\n",
       "      <td>200.000000</td>\n",
       "      <td>2.0</td>\n",
       "      <td>65.700000</td>\n",
       "      <td>68.000000</td>\n",
       "    </tr>\n",
       "    <tr>\n",
       "      <th>1</th>\n",
       "      <td>2017-10-16</td>\n",
       "      <td>81.5</td>\n",
       "      <td>1005.280000</td>\n",
       "      <td>0.000000</td>\n",
       "      <td>0.0</td>\n",
       "      <td>66.200000</td>\n",
       "      <td>59.000000</td>\n",
       "    </tr>\n",
       "    <tr>\n",
       "      <th>2</th>\n",
       "      <td>2017-10-17</td>\n",
       "      <td>78.3</td>\n",
       "      <td>1006.953333</td>\n",
       "      <td>113.333333</td>\n",
       "      <td>2.0</td>\n",
       "      <td>67.466667</td>\n",
       "      <td>69.666667</td>\n",
       "    </tr>\n",
       "    <tr>\n",
       "      <th>3</th>\n",
       "      <td>2017-10-18</td>\n",
       "      <td>72.3</td>\n",
       "      <td>1003.380000</td>\n",
       "      <td>0.000000</td>\n",
       "      <td>0.0</td>\n",
       "      <td>68.000000</td>\n",
       "      <td>86.000000</td>\n",
       "    </tr>\n",
       "    <tr>\n",
       "      <th>4</th>\n",
       "      <td>2017-10-19</td>\n",
       "      <td>73.4</td>\n",
       "      <td>1007.900000</td>\n",
       "      <td>70.000000</td>\n",
       "      <td>2.5</td>\n",
       "      <td>67.300000</td>\n",
       "      <td>81.000000</td>\n",
       "    </tr>\n",
       "  </tbody>\n",
       "</table>\n",
       "</div>"
      ],
      "text/plain": [
       "        Date  Temperature (degrees F)  Barometric Pressure (mbar)  \\\n",
       "0 2017-10-15                     77.0                 1005.840000   \n",
       "1 2017-10-16                     81.5                 1005.280000   \n",
       "2 2017-10-17                     78.3                 1006.953333   \n",
       "3 2017-10-18                     72.3                 1003.380000   \n",
       "4 2017-10-19                     73.4                 1007.900000   \n",
       "\n",
       "   Wind direction (degrees)  Wind speed (mph)  Dewpoint (degrees F)  \\\n",
       "0                200.000000               2.0             65.700000   \n",
       "1                  0.000000               0.0             66.200000   \n",
       "2                113.333333               2.0             67.466667   \n",
       "3                  0.000000               0.0             68.000000   \n",
       "4                 70.000000               2.5             67.300000   \n",
       "\n",
       "   Relative Humidity (%)  \n",
       "0              68.000000  \n",
       "1              59.000000  \n",
       "2              69.666667  \n",
       "3              86.000000  \n",
       "4              81.000000  "
      ]
     },
     "execution_count": 9,
     "metadata": {},
     "output_type": "execute_result"
    }
   ],
   "source": [
    "a.head()"
   ]
  },
  {
   "cell_type": "code",
   "execution_count": 176,
   "metadata": {},
   "outputs": [],
   "source": [
    "#a = a.drop([\"Analysis Barometric Pressure (mbar)\",\"Analysis Temperature (degrees F)\",\"Analysis Dewpoint (degrees F)\",\"Analysis Relative Humidity (%)\",\"Analysis Wind speed (mph)\",\"Analysis Wind direction (degrees)\"], axis=1)\n"
   ]
  },
  {
   "cell_type": "code",
   "execution_count": 177,
   "metadata": {},
   "outputs": [
    {
     "data": {
      "text/html": [
       "<div>\n",
       "<style scoped>\n",
       "    .dataframe tbody tr th:only-of-type {\n",
       "        vertical-align: middle;\n",
       "    }\n",
       "\n",
       "    .dataframe tbody tr th {\n",
       "        vertical-align: top;\n",
       "    }\n",
       "\n",
       "    .dataframe thead th {\n",
       "        text-align: right;\n",
       "    }\n",
       "</style>\n",
       "<table border=\"1\" class=\"dataframe\">\n",
       "  <thead>\n",
       "    <tr style=\"text-align: right;\">\n",
       "      <th></th>\n",
       "      <th>Date</th>\n",
       "      <th>Temperature (degrees F)</th>\n",
       "      <th>Barometric Pressure (mbar)</th>\n",
       "      <th>Wind direction (degrees)</th>\n",
       "      <th>Wind speed (mph)</th>\n",
       "      <th>Dewpoint (degrees F)</th>\n",
       "      <th>Relative Humidity (%)</th>\n",
       "    </tr>\n",
       "  </thead>\n",
       "  <tbody>\n",
       "    <tr>\n",
       "      <th>0</th>\n",
       "      <td>2017-10-15</td>\n",
       "      <td>77.0</td>\n",
       "      <td>1005.840000</td>\n",
       "      <td>200.000000</td>\n",
       "      <td>2.0</td>\n",
       "      <td>65.700000</td>\n",
       "      <td>68.000000</td>\n",
       "    </tr>\n",
       "    <tr>\n",
       "      <th>1</th>\n",
       "      <td>2017-10-16</td>\n",
       "      <td>81.5</td>\n",
       "      <td>1005.280000</td>\n",
       "      <td>0.000000</td>\n",
       "      <td>0.0</td>\n",
       "      <td>66.200000</td>\n",
       "      <td>59.000000</td>\n",
       "    </tr>\n",
       "    <tr>\n",
       "      <th>2</th>\n",
       "      <td>2017-10-17</td>\n",
       "      <td>78.3</td>\n",
       "      <td>1006.953333</td>\n",
       "      <td>113.333333</td>\n",
       "      <td>2.0</td>\n",
       "      <td>67.466667</td>\n",
       "      <td>69.666667</td>\n",
       "    </tr>\n",
       "    <tr>\n",
       "      <th>3</th>\n",
       "      <td>2017-10-18</td>\n",
       "      <td>72.3</td>\n",
       "      <td>1003.380000</td>\n",
       "      <td>0.000000</td>\n",
       "      <td>0.0</td>\n",
       "      <td>68.000000</td>\n",
       "      <td>86.000000</td>\n",
       "    </tr>\n",
       "    <tr>\n",
       "      <th>4</th>\n",
       "      <td>2017-10-19</td>\n",
       "      <td>73.4</td>\n",
       "      <td>1007.900000</td>\n",
       "      <td>70.000000</td>\n",
       "      <td>2.5</td>\n",
       "      <td>67.300000</td>\n",
       "      <td>81.000000</td>\n",
       "    </tr>\n",
       "  </tbody>\n",
       "</table>\n",
       "</div>"
      ],
      "text/plain": [
       "        Date  Temperature (degrees F)  Barometric Pressure (mbar)  \\\n",
       "0 2017-10-15                     77.0                 1005.840000   \n",
       "1 2017-10-16                     81.5                 1005.280000   \n",
       "2 2017-10-17                     78.3                 1006.953333   \n",
       "3 2017-10-18                     72.3                 1003.380000   \n",
       "4 2017-10-19                     73.4                 1007.900000   \n",
       "\n",
       "   Wind direction (degrees)  Wind speed (mph)  Dewpoint (degrees F)  \\\n",
       "0                200.000000               2.0             65.700000   \n",
       "1                  0.000000               0.0             66.200000   \n",
       "2                113.333333               2.0             67.466667   \n",
       "3                  0.000000               0.0             68.000000   \n",
       "4                 70.000000               2.5             67.300000   \n",
       "\n",
       "   Relative Humidity (%)  \n",
       "0              68.000000  \n",
       "1              59.000000  \n",
       "2              69.666667  \n",
       "3              86.000000  \n",
       "4              81.000000  "
      ]
     },
     "execution_count": 177,
     "metadata": {},
     "output_type": "execute_result"
    }
   ],
   "source": [
    "a.head()"
   ]
  },
  {
   "cell_type": "code",
   "execution_count": 10,
   "metadata": {},
   "outputs": [],
   "source": [
    "#a = a.rename(columns={\"Time (UTC)\": \"Date\"})\n",
    "a = a.rename(columns={\"Wind direction (degrees)\": \"DIR\"})\n",
    "a = a.rename(columns={\"Temperature (degrees F)\": \"TEMP\"})\n",
    "a = a.rename(columns={\"Dewpoint (degrees F)\": \"DEWP\"})\n",
    "a = a.rename(columns={\"Wind speed (mph)\": \"SPD\"})\n",
    "a = a.rename(columns={\"Relative Humidity (%)\": \"HUM\"})\n"
   ]
  },
  {
   "cell_type": "code",
   "execution_count": 11,
   "metadata": {},
   "outputs": [
    {
     "data": {
      "text/html": [
       "<div>\n",
       "<style scoped>\n",
       "    .dataframe tbody tr th:only-of-type {\n",
       "        vertical-align: middle;\n",
       "    }\n",
       "\n",
       "    .dataframe tbody tr th {\n",
       "        vertical-align: top;\n",
       "    }\n",
       "\n",
       "    .dataframe thead th {\n",
       "        text-align: right;\n",
       "    }\n",
       "</style>\n",
       "<table border=\"1\" class=\"dataframe\">\n",
       "  <thead>\n",
       "    <tr style=\"text-align: right;\">\n",
       "      <th></th>\n",
       "      <th>Day</th>\n",
       "      <th>Date</th>\n",
       "      <th>Value</th>\n",
       "    </tr>\n",
       "  </thead>\n",
       "  <tbody>\n",
       "    <tr>\n",
       "      <th>0</th>\n",
       "      <td>1</td>\n",
       "      <td>2017-06-30</td>\n",
       "      <td>43.638864</td>\n",
       "    </tr>\n",
       "    <tr>\n",
       "      <th>1</th>\n",
       "      <td>2</td>\n",
       "      <td>2017-01-07</td>\n",
       "      <td>21.086933</td>\n",
       "    </tr>\n",
       "    <tr>\n",
       "      <th>2</th>\n",
       "      <td>3</td>\n",
       "      <td>2017-02-07</td>\n",
       "      <td>42.684333</td>\n",
       "    </tr>\n",
       "    <tr>\n",
       "      <th>3</th>\n",
       "      <td>4</td>\n",
       "      <td>2017-03-07</td>\n",
       "      <td>30.683978</td>\n",
       "    </tr>\n",
       "    <tr>\n",
       "      <th>4</th>\n",
       "      <td>5</td>\n",
       "      <td>2017-04-07</td>\n",
       "      <td>27.477139</td>\n",
       "    </tr>\n",
       "  </tbody>\n",
       "</table>\n",
       "</div>"
      ],
      "text/plain": [
       "   Day       Date      Value\n",
       "0    1 2017-06-30  43.638864\n",
       "1    2 2017-01-07  21.086933\n",
       "2    3 2017-02-07  42.684333\n",
       "3    4 2017-03-07  30.683978\n",
       "4    5 2017-04-07  27.477139"
      ]
     },
     "execution_count": 11,
     "metadata": {},
     "output_type": "execute_result"
    }
   ],
   "source": [
    "b.head()\n"
   ]
  },
  {
   "cell_type": "code",
   "execution_count": 12,
   "metadata": {},
   "outputs": [
    {
     "name": "stdout",
     "output_type": "stream",
     "text": [
      "        Date  TEMP  Barometric Pressure (mbar)         DIR  SPD       DEWP  \\\n",
      "0 2017-10-15  77.0                 1005.840000  200.000000  2.0  65.700000   \n",
      "1 2017-10-16  81.5                 1005.280000    0.000000  0.0  66.200000   \n",
      "2 2017-10-17  78.3                 1006.953333  113.333333  2.0  67.466667   \n",
      "3 2017-10-18  72.3                 1003.380000    0.000000  0.0  68.000000   \n",
      "4 2017-10-19  73.4                 1007.900000   70.000000  2.5  67.300000   \n",
      "\n",
      "         HUM  Day     Value  \n",
      "0  68.000000   96  7.784710  \n",
      "1  59.000000   97  6.511036  \n",
      "2  69.666667   98  4.557446  \n",
      "3  86.000000   99  8.152256  \n",
      "4  81.000000  100  6.008917  \n"
     ]
    }
   ],
   "source": [
    "merge = a.merge(b,on='Date')\n",
    "\n",
    "#df2 = pd.concat([a, b], axis=1, join='inner').sort_index()\n",
    "print(merge.head())"
   ]
  },
  {
   "cell_type": "markdown",
   "metadata": {},
   "source": [
    "# MERGING A and B"
   ]
  },
  {
   "cell_type": "code",
   "execution_count": 13,
   "metadata": {},
   "outputs": [
    {
     "data": {
      "text/html": [
       "<div>\n",
       "<style scoped>\n",
       "    .dataframe tbody tr th:only-of-type {\n",
       "        vertical-align: middle;\n",
       "    }\n",
       "\n",
       "    .dataframe tbody tr th {\n",
       "        vertical-align: top;\n",
       "    }\n",
       "\n",
       "    .dataframe thead th {\n",
       "        text-align: right;\n",
       "    }\n",
       "</style>\n",
       "<table border=\"1\" class=\"dataframe\">\n",
       "  <thead>\n",
       "    <tr style=\"text-align: right;\">\n",
       "      <th></th>\n",
       "      <th>Date</th>\n",
       "      <th>TEMP</th>\n",
       "      <th>Barometric Pressure (mbar)</th>\n",
       "      <th>DIR</th>\n",
       "      <th>SPD</th>\n",
       "      <th>DEWP</th>\n",
       "      <th>HUM</th>\n",
       "      <th>Day</th>\n",
       "      <th>Value</th>\n",
       "    </tr>\n",
       "  </thead>\n",
       "  <tbody>\n",
       "    <tr>\n",
       "      <th>0</th>\n",
       "      <td>2017-10-15</td>\n",
       "      <td>77.0</td>\n",
       "      <td>1005.840000</td>\n",
       "      <td>200.000000</td>\n",
       "      <td>2.0</td>\n",
       "      <td>65.700000</td>\n",
       "      <td>68.000000</td>\n",
       "      <td>96</td>\n",
       "      <td>7.784710</td>\n",
       "    </tr>\n",
       "    <tr>\n",
       "      <th>1</th>\n",
       "      <td>2017-10-16</td>\n",
       "      <td>81.5</td>\n",
       "      <td>1005.280000</td>\n",
       "      <td>0.000000</td>\n",
       "      <td>0.0</td>\n",
       "      <td>66.200000</td>\n",
       "      <td>59.000000</td>\n",
       "      <td>97</td>\n",
       "      <td>6.511036</td>\n",
       "    </tr>\n",
       "    <tr>\n",
       "      <th>2</th>\n",
       "      <td>2017-10-17</td>\n",
       "      <td>78.3</td>\n",
       "      <td>1006.953333</td>\n",
       "      <td>113.333333</td>\n",
       "      <td>2.0</td>\n",
       "      <td>67.466667</td>\n",
       "      <td>69.666667</td>\n",
       "      <td>98</td>\n",
       "      <td>4.557446</td>\n",
       "    </tr>\n",
       "    <tr>\n",
       "      <th>3</th>\n",
       "      <td>2017-10-18</td>\n",
       "      <td>72.3</td>\n",
       "      <td>1003.380000</td>\n",
       "      <td>0.000000</td>\n",
       "      <td>0.0</td>\n",
       "      <td>68.000000</td>\n",
       "      <td>86.000000</td>\n",
       "      <td>99</td>\n",
       "      <td>8.152256</td>\n",
       "    </tr>\n",
       "    <tr>\n",
       "      <th>4</th>\n",
       "      <td>2017-10-19</td>\n",
       "      <td>73.4</td>\n",
       "      <td>1007.900000</td>\n",
       "      <td>70.000000</td>\n",
       "      <td>2.5</td>\n",
       "      <td>67.300000</td>\n",
       "      <td>81.000000</td>\n",
       "      <td>100</td>\n",
       "      <td>6.008917</td>\n",
       "    </tr>\n",
       "  </tbody>\n",
       "</table>\n",
       "</div>"
      ],
      "text/plain": [
       "        Date  TEMP  Barometric Pressure (mbar)         DIR  SPD       DEWP  \\\n",
       "0 2017-10-15  77.0                 1005.840000  200.000000  2.0  65.700000   \n",
       "1 2017-10-16  81.5                 1005.280000    0.000000  0.0  66.200000   \n",
       "2 2017-10-17  78.3                 1006.953333  113.333333  2.0  67.466667   \n",
       "3 2017-10-18  72.3                 1003.380000    0.000000  0.0  68.000000   \n",
       "4 2017-10-19  73.4                 1007.900000   70.000000  2.5  67.300000   \n",
       "\n",
       "         HUM  Day     Value  \n",
       "0  68.000000   96  7.784710  \n",
       "1  59.000000   97  6.511036  \n",
       "2  69.666667   98  4.557446  \n",
       "3  86.000000   99  8.152256  \n",
       "4  81.000000  100  6.008917  "
      ]
     },
     "execution_count": 13,
     "metadata": {},
     "output_type": "execute_result"
    }
   ],
   "source": [
    "merge.head()"
   ]
  },
  {
   "cell_type": "code",
   "execution_count": 14,
   "metadata": {},
   "outputs": [],
   "source": [
    "merge = merge.drop(['Barometric Pressure (mbar)'], axis=1)"
   ]
  },
  {
   "cell_type": "code",
   "execution_count": 15,
   "metadata": {},
   "outputs": [
    {
     "data": {
      "text/html": [
       "<div>\n",
       "<style scoped>\n",
       "    .dataframe tbody tr th:only-of-type {\n",
       "        vertical-align: middle;\n",
       "    }\n",
       "\n",
       "    .dataframe tbody tr th {\n",
       "        vertical-align: top;\n",
       "    }\n",
       "\n",
       "    .dataframe thead th {\n",
       "        text-align: right;\n",
       "    }\n",
       "</style>\n",
       "<table border=\"1\" class=\"dataframe\">\n",
       "  <thead>\n",
       "    <tr style=\"text-align: right;\">\n",
       "      <th></th>\n",
       "      <th>Date</th>\n",
       "      <th>TEMP</th>\n",
       "      <th>DIR</th>\n",
       "      <th>SPD</th>\n",
       "      <th>DEWP</th>\n",
       "      <th>HUM</th>\n",
       "      <th>Day</th>\n",
       "      <th>Value</th>\n",
       "    </tr>\n",
       "  </thead>\n",
       "  <tbody>\n",
       "    <tr>\n",
       "      <th>0</th>\n",
       "      <td>2017-10-15</td>\n",
       "      <td>77.0</td>\n",
       "      <td>200.000000</td>\n",
       "      <td>2.0</td>\n",
       "      <td>65.700000</td>\n",
       "      <td>68.000000</td>\n",
       "      <td>96</td>\n",
       "      <td>7.784710</td>\n",
       "    </tr>\n",
       "    <tr>\n",
       "      <th>1</th>\n",
       "      <td>2017-10-16</td>\n",
       "      <td>81.5</td>\n",
       "      <td>0.000000</td>\n",
       "      <td>0.0</td>\n",
       "      <td>66.200000</td>\n",
       "      <td>59.000000</td>\n",
       "      <td>97</td>\n",
       "      <td>6.511036</td>\n",
       "    </tr>\n",
       "    <tr>\n",
       "      <th>2</th>\n",
       "      <td>2017-10-17</td>\n",
       "      <td>78.3</td>\n",
       "      <td>113.333333</td>\n",
       "      <td>2.0</td>\n",
       "      <td>67.466667</td>\n",
       "      <td>69.666667</td>\n",
       "      <td>98</td>\n",
       "      <td>4.557446</td>\n",
       "    </tr>\n",
       "    <tr>\n",
       "      <th>3</th>\n",
       "      <td>2017-10-18</td>\n",
       "      <td>72.3</td>\n",
       "      <td>0.000000</td>\n",
       "      <td>0.0</td>\n",
       "      <td>68.000000</td>\n",
       "      <td>86.000000</td>\n",
       "      <td>99</td>\n",
       "      <td>8.152256</td>\n",
       "    </tr>\n",
       "    <tr>\n",
       "      <th>4</th>\n",
       "      <td>2017-10-19</td>\n",
       "      <td>73.4</td>\n",
       "      <td>70.000000</td>\n",
       "      <td>2.5</td>\n",
       "      <td>67.300000</td>\n",
       "      <td>81.000000</td>\n",
       "      <td>100</td>\n",
       "      <td>6.008917</td>\n",
       "    </tr>\n",
       "  </tbody>\n",
       "</table>\n",
       "</div>"
      ],
      "text/plain": [
       "        Date  TEMP         DIR  SPD       DEWP        HUM  Day     Value\n",
       "0 2017-10-15  77.0  200.000000  2.0  65.700000  68.000000   96  7.784710\n",
       "1 2017-10-16  81.5    0.000000  0.0  66.200000  59.000000   97  6.511036\n",
       "2 2017-10-17  78.3  113.333333  2.0  67.466667  69.666667   98  4.557446\n",
       "3 2017-10-18  72.3    0.000000  0.0  68.000000  86.000000   99  8.152256\n",
       "4 2017-10-19  73.4   70.000000  2.5  67.300000  81.000000  100  6.008917"
      ]
     },
     "execution_count": 15,
     "metadata": {},
     "output_type": "execute_result"
    }
   ],
   "source": [
    "merge.head()"
   ]
  },
  {
   "cell_type": "code",
   "execution_count": 16,
   "metadata": {},
   "outputs": [
    {
     "data": {
      "text/html": [
       "<div>\n",
       "<style scoped>\n",
       "    .dataframe tbody tr th:only-of-type {\n",
       "        vertical-align: middle;\n",
       "    }\n",
       "\n",
       "    .dataframe tbody tr th {\n",
       "        vertical-align: top;\n",
       "    }\n",
       "\n",
       "    .dataframe thead th {\n",
       "        text-align: right;\n",
       "    }\n",
       "</style>\n",
       "<table border=\"1\" class=\"dataframe\">\n",
       "  <thead>\n",
       "    <tr style=\"text-align: right;\">\n",
       "      <th></th>\n",
       "      <th>TEMP</th>\n",
       "      <th>DIR</th>\n",
       "      <th>SPD</th>\n",
       "      <th>DEWP</th>\n",
       "      <th>HUM</th>\n",
       "      <th>Day</th>\n",
       "      <th>Value</th>\n",
       "    </tr>\n",
       "  </thead>\n",
       "  <tbody>\n",
       "    <tr>\n",
       "      <th>count</th>\n",
       "      <td>231.000000</td>\n",
       "      <td>231.000000</td>\n",
       "      <td>231.000000</td>\n",
       "      <td>231.000000</td>\n",
       "      <td>231.000000</td>\n",
       "      <td>231.000000</td>\n",
       "      <td>231.000000</td>\n",
       "    </tr>\n",
       "    <tr>\n",
       "      <th>mean</th>\n",
       "      <td>75.170635</td>\n",
       "      <td>135.984848</td>\n",
       "      <td>2.307720</td>\n",
       "      <td>65.000938</td>\n",
       "      <td>71.868326</td>\n",
       "      <td>236.303030</td>\n",
       "      <td>16.126810</td>\n",
       "    </tr>\n",
       "    <tr>\n",
       "      <th>std</th>\n",
       "      <td>3.676316</td>\n",
       "      <td>82.150378</td>\n",
       "      <td>1.477480</td>\n",
       "      <td>2.529918</td>\n",
       "      <td>11.871062</td>\n",
       "      <td>83.323904</td>\n",
       "      <td>14.766839</td>\n",
       "    </tr>\n",
       "    <tr>\n",
       "      <th>min</th>\n",
       "      <td>65.100000</td>\n",
       "      <td>0.000000</td>\n",
       "      <td>0.000000</td>\n",
       "      <td>53.600000</td>\n",
       "      <td>39.000000</td>\n",
       "      <td>11.000000</td>\n",
       "      <td>1.132140</td>\n",
       "    </tr>\n",
       "    <tr>\n",
       "      <th>25%</th>\n",
       "      <td>72.700000</td>\n",
       "      <td>90.000000</td>\n",
       "      <td>1.333333</td>\n",
       "      <td>64.216667</td>\n",
       "      <td>64.875000</td>\n",
       "      <td>172.500000</td>\n",
       "      <td>8.465451</td>\n",
       "    </tr>\n",
       "    <tr>\n",
       "      <th>50%</th>\n",
       "      <td>75.133333</td>\n",
       "      <td>140.000000</td>\n",
       "      <td>2.000000</td>\n",
       "      <td>65.550000</td>\n",
       "      <td>72.000000</td>\n",
       "      <td>234.000000</td>\n",
       "      <td>12.066148</td>\n",
       "    </tr>\n",
       "    <tr>\n",
       "      <th>75%</th>\n",
       "      <td>77.900000</td>\n",
       "      <td>180.000000</td>\n",
       "      <td>3.000000</td>\n",
       "      <td>66.562500</td>\n",
       "      <td>79.500000</td>\n",
       "      <td>307.500000</td>\n",
       "      <td>19.404278</td>\n",
       "    </tr>\n",
       "    <tr>\n",
       "      <th>max</th>\n",
       "      <td>84.000000</td>\n",
       "      <td>360.000000</td>\n",
       "      <td>7.000000</td>\n",
       "      <td>70.200000</td>\n",
       "      <td>100.000000</td>\n",
       "      <td>381.000000</td>\n",
       "      <td>117.918971</td>\n",
       "    </tr>\n",
       "  </tbody>\n",
       "</table>\n",
       "</div>"
      ],
      "text/plain": [
       "             TEMP         DIR         SPD        DEWP         HUM         Day  \\\n",
       "count  231.000000  231.000000  231.000000  231.000000  231.000000  231.000000   \n",
       "mean    75.170635  135.984848    2.307720   65.000938   71.868326  236.303030   \n",
       "std      3.676316   82.150378    1.477480    2.529918   11.871062   83.323904   \n",
       "min     65.100000    0.000000    0.000000   53.600000   39.000000   11.000000   \n",
       "25%     72.700000   90.000000    1.333333   64.216667   64.875000  172.500000   \n",
       "50%     75.133333  140.000000    2.000000   65.550000   72.000000  234.000000   \n",
       "75%     77.900000  180.000000    3.000000   66.562500   79.500000  307.500000   \n",
       "max     84.000000  360.000000    7.000000   70.200000  100.000000  381.000000   \n",
       "\n",
       "            Value  \n",
       "count  231.000000  \n",
       "mean    16.126810  \n",
       "std     14.766839  \n",
       "min      1.132140  \n",
       "25%      8.465451  \n",
       "50%     12.066148  \n",
       "75%     19.404278  \n",
       "max    117.918971  "
      ]
     },
     "execution_count": 16,
     "metadata": {},
     "output_type": "execute_result"
    }
   ],
   "source": [
    "merge.describe()"
   ]
  },
  {
   "cell_type": "code",
   "execution_count": 14,
   "metadata": {},
   "outputs": [],
   "source": [
    "import datetime as dt\n",
    "merge['month'] = merge['Date'].dt.month_name()"
   ]
  },
  {
   "cell_type": "code",
   "execution_count": 15,
   "metadata": {},
   "outputs": [
    {
     "data": {
      "text/html": [
       "<div>\n",
       "<style scoped>\n",
       "    .dataframe tbody tr th:only-of-type {\n",
       "        vertical-align: middle;\n",
       "    }\n",
       "\n",
       "    .dataframe tbody tr th {\n",
       "        vertical-align: top;\n",
       "    }\n",
       "\n",
       "    .dataframe thead th {\n",
       "        text-align: right;\n",
       "    }\n",
       "</style>\n",
       "<table border=\"1\" class=\"dataframe\">\n",
       "  <thead>\n",
       "    <tr style=\"text-align: right;\">\n",
       "      <th></th>\n",
       "      <th>Date</th>\n",
       "      <th>TEMP</th>\n",
       "      <th>DIR</th>\n",
       "      <th>SPD</th>\n",
       "      <th>DEWP</th>\n",
       "      <th>HUM</th>\n",
       "      <th>Day</th>\n",
       "      <th>Value</th>\n",
       "      <th>month</th>\n",
       "    </tr>\n",
       "  </thead>\n",
       "  <tbody>\n",
       "    <tr>\n",
       "      <th>0</th>\n",
       "      <td>2017-10-15</td>\n",
       "      <td>77.0</td>\n",
       "      <td>200.000000</td>\n",
       "      <td>2.0</td>\n",
       "      <td>65.700000</td>\n",
       "      <td>68.000000</td>\n",
       "      <td>96</td>\n",
       "      <td>7.784710</td>\n",
       "      <td>October</td>\n",
       "    </tr>\n",
       "    <tr>\n",
       "      <th>1</th>\n",
       "      <td>2017-10-16</td>\n",
       "      <td>81.5</td>\n",
       "      <td>0.000000</td>\n",
       "      <td>0.0</td>\n",
       "      <td>66.200000</td>\n",
       "      <td>59.000000</td>\n",
       "      <td>97</td>\n",
       "      <td>6.511036</td>\n",
       "      <td>October</td>\n",
       "    </tr>\n",
       "    <tr>\n",
       "      <th>2</th>\n",
       "      <td>2017-10-17</td>\n",
       "      <td>78.3</td>\n",
       "      <td>113.333333</td>\n",
       "      <td>2.0</td>\n",
       "      <td>67.466667</td>\n",
       "      <td>69.666667</td>\n",
       "      <td>98</td>\n",
       "      <td>4.557446</td>\n",
       "      <td>October</td>\n",
       "    </tr>\n",
       "    <tr>\n",
       "      <th>3</th>\n",
       "      <td>2017-10-18</td>\n",
       "      <td>72.3</td>\n",
       "      <td>0.000000</td>\n",
       "      <td>0.0</td>\n",
       "      <td>68.000000</td>\n",
       "      <td>86.000000</td>\n",
       "      <td>99</td>\n",
       "      <td>8.152256</td>\n",
       "      <td>October</td>\n",
       "    </tr>\n",
       "    <tr>\n",
       "      <th>4</th>\n",
       "      <td>2017-10-19</td>\n",
       "      <td>73.4</td>\n",
       "      <td>70.000000</td>\n",
       "      <td>2.5</td>\n",
       "      <td>67.300000</td>\n",
       "      <td>81.000000</td>\n",
       "      <td>100</td>\n",
       "      <td>6.008917</td>\n",
       "      <td>October</td>\n",
       "    </tr>\n",
       "  </tbody>\n",
       "</table>\n",
       "</div>"
      ],
      "text/plain": [
       "        Date  TEMP         DIR  SPD       DEWP        HUM  Day     Value  \\\n",
       "0 2017-10-15  77.0  200.000000  2.0  65.700000  68.000000   96  7.784710   \n",
       "1 2017-10-16  81.5    0.000000  0.0  66.200000  59.000000   97  6.511036   \n",
       "2 2017-10-17  78.3  113.333333  2.0  67.466667  69.666667   98  4.557446   \n",
       "3 2017-10-18  72.3    0.000000  0.0  68.000000  86.000000   99  8.152256   \n",
       "4 2017-10-19  73.4   70.000000  2.5  67.300000  81.000000  100  6.008917   \n",
       "\n",
       "     month  \n",
       "0  October  \n",
       "1  October  \n",
       "2  October  \n",
       "3  October  \n",
       "4  October  "
      ]
     },
     "execution_count": 15,
     "metadata": {},
     "output_type": "execute_result"
    }
   ],
   "source": [
    "merge.head()"
   ]
  },
  {
   "cell_type": "code",
   "execution_count": 16,
   "metadata": {},
   "outputs": [],
   "source": [
    "merge['month_cat'] = merge.month.astype(\"category\").cat.codes"
   ]
  },
  {
   "cell_type": "code",
   "execution_count": 17,
   "metadata": {},
   "outputs": [
    {
     "data": {
      "text/html": [
       "<div>\n",
       "<style scoped>\n",
       "    .dataframe tbody tr th:only-of-type {\n",
       "        vertical-align: middle;\n",
       "    }\n",
       "\n",
       "    .dataframe tbody tr th {\n",
       "        vertical-align: top;\n",
       "    }\n",
       "\n",
       "    .dataframe thead th {\n",
       "        text-align: right;\n",
       "    }\n",
       "</style>\n",
       "<table border=\"1\" class=\"dataframe\">\n",
       "  <thead>\n",
       "    <tr style=\"text-align: right;\">\n",
       "      <th></th>\n",
       "      <th>TEMP</th>\n",
       "      <th>DIR</th>\n",
       "      <th>SPD</th>\n",
       "      <th>DEWP</th>\n",
       "      <th>HUM</th>\n",
       "      <th>Day</th>\n",
       "      <th>Value</th>\n",
       "      <th>month_cat</th>\n",
       "    </tr>\n",
       "  </thead>\n",
       "  <tbody>\n",
       "    <tr>\n",
       "      <th>count</th>\n",
       "      <td>231.000000</td>\n",
       "      <td>231.000000</td>\n",
       "      <td>231.000000</td>\n",
       "      <td>231.000000</td>\n",
       "      <td>231.000000</td>\n",
       "      <td>231.000000</td>\n",
       "      <td>231.000000</td>\n",
       "      <td>231.000000</td>\n",
       "    </tr>\n",
       "    <tr>\n",
       "      <th>mean</th>\n",
       "      <td>75.170635</td>\n",
       "      <td>135.984848</td>\n",
       "      <td>2.307720</td>\n",
       "      <td>65.000938</td>\n",
       "      <td>71.868326</td>\n",
       "      <td>236.303030</td>\n",
       "      <td>16.126810</td>\n",
       "      <td>5.545455</td>\n",
       "    </tr>\n",
       "    <tr>\n",
       "      <th>std</th>\n",
       "      <td>3.676316</td>\n",
       "      <td>82.150378</td>\n",
       "      <td>1.477480</td>\n",
       "      <td>2.529918</td>\n",
       "      <td>11.871062</td>\n",
       "      <td>83.323904</td>\n",
       "      <td>14.766839</td>\n",
       "      <td>3.434653</td>\n",
       "    </tr>\n",
       "    <tr>\n",
       "      <th>min</th>\n",
       "      <td>65.100000</td>\n",
       "      <td>0.000000</td>\n",
       "      <td>0.000000</td>\n",
       "      <td>53.600000</td>\n",
       "      <td>39.000000</td>\n",
       "      <td>11.000000</td>\n",
       "      <td>1.132140</td>\n",
       "      <td>0.000000</td>\n",
       "    </tr>\n",
       "    <tr>\n",
       "      <th>25%</th>\n",
       "      <td>72.700000</td>\n",
       "      <td>90.000000</td>\n",
       "      <td>1.333333</td>\n",
       "      <td>64.216667</td>\n",
       "      <td>64.875000</td>\n",
       "      <td>172.500000</td>\n",
       "      <td>8.465451</td>\n",
       "      <td>3.000000</td>\n",
       "    </tr>\n",
       "    <tr>\n",
       "      <th>50%</th>\n",
       "      <td>75.133333</td>\n",
       "      <td>140.000000</td>\n",
       "      <td>2.000000</td>\n",
       "      <td>65.550000</td>\n",
       "      <td>72.000000</td>\n",
       "      <td>234.000000</td>\n",
       "      <td>12.066148</td>\n",
       "      <td>6.000000</td>\n",
       "    </tr>\n",
       "    <tr>\n",
       "      <th>75%</th>\n",
       "      <td>77.900000</td>\n",
       "      <td>180.000000</td>\n",
       "      <td>3.000000</td>\n",
       "      <td>66.562500</td>\n",
       "      <td>79.500000</td>\n",
       "      <td>307.500000</td>\n",
       "      <td>19.404278</td>\n",
       "      <td>9.000000</td>\n",
       "    </tr>\n",
       "    <tr>\n",
       "      <th>max</th>\n",
       "      <td>84.000000</td>\n",
       "      <td>360.000000</td>\n",
       "      <td>7.000000</td>\n",
       "      <td>70.200000</td>\n",
       "      <td>100.000000</td>\n",
       "      <td>381.000000</td>\n",
       "      <td>117.918971</td>\n",
       "      <td>11.000000</td>\n",
       "    </tr>\n",
       "  </tbody>\n",
       "</table>\n",
       "</div>"
      ],
      "text/plain": [
       "             TEMP         DIR         SPD        DEWP         HUM         Day  \\\n",
       "count  231.000000  231.000000  231.000000  231.000000  231.000000  231.000000   \n",
       "mean    75.170635  135.984848    2.307720   65.000938   71.868326  236.303030   \n",
       "std      3.676316   82.150378    1.477480    2.529918   11.871062   83.323904   \n",
       "min     65.100000    0.000000    0.000000   53.600000   39.000000   11.000000   \n",
       "25%     72.700000   90.000000    1.333333   64.216667   64.875000  172.500000   \n",
       "50%     75.133333  140.000000    2.000000   65.550000   72.000000  234.000000   \n",
       "75%     77.900000  180.000000    3.000000   66.562500   79.500000  307.500000   \n",
       "max     84.000000  360.000000    7.000000   70.200000  100.000000  381.000000   \n",
       "\n",
       "            Value   month_cat  \n",
       "count  231.000000  231.000000  \n",
       "mean    16.126810    5.545455  \n",
       "std     14.766839    3.434653  \n",
       "min      1.132140    0.000000  \n",
       "25%      8.465451    3.000000  \n",
       "50%     12.066148    6.000000  \n",
       "75%     19.404278    9.000000  \n",
       "max    117.918971   11.000000  "
      ]
     },
     "execution_count": 17,
     "metadata": {},
     "output_type": "execute_result"
    }
   ],
   "source": [
    "merge.describe()"
   ]
  },
  {
   "cell_type": "code",
   "execution_count": 40,
   "metadata": {},
   "outputs": [
    {
     "data": {
      "image/png": "[encoded data removed]",
      "text/plain": [
       "<matplotlib.figure.Figure at 0x93b1d30>"
      ]
     },
     "metadata": {},
     "output_type": "display_data"
    }
   ],
   "source": [
    "ax = sns.boxplot(x=\"month\", y=\"Value\", data=merge)"
   ]
  },
  {
   "cell_type": "code",
   "execution_count": 190,
   "metadata": {},
   "outputs": [],
   "source": [
    "#merge = merge.drop(merge[merge.Value > 140].index)"
   ]
  },
  {
   "cell_type": "code",
   "execution_count": 191,
   "metadata": {},
   "outputs": [
    {
     "data": {
      "image/png": "[encoded data removed]",
      "text/plain": [
       "<matplotlib.figure.Figure at 0x120d04b0>"
      ]
     },
     "metadata": {},
     "output_type": "display_data"
    }
   ],
   "source": [
    "ax = sns.boxplot(x=\"month\", y=\"Value\", data=merge)"
   ]
  },
  {
   "cell_type": "code",
   "execution_count": 20,
   "metadata": {},
   "outputs": [],
   "source": [
    "merge['month_cat'] = merge.month.astype(\"category\").cat.codes"
   ]
  },
  {
   "cell_type": "code",
   "execution_count": 17,
   "metadata": {},
   "outputs": [
    {
     "data": {
      "text/html": [
       "<div>\n",
       "<style scoped>\n",
       "    .dataframe tbody tr th:only-of-type {\n",
       "        vertical-align: middle;\n",
       "    }\n",
       "\n",
       "    .dataframe tbody tr th {\n",
       "        vertical-align: top;\n",
       "    }\n",
       "\n",
       "    .dataframe thead th {\n",
       "        text-align: right;\n",
       "    }\n",
       "</style>\n",
       "<table border=\"1\" class=\"dataframe\">\n",
       "  <thead>\n",
       "    <tr style=\"text-align: right;\">\n",
       "      <th></th>\n",
       "      <th>Date</th>\n",
       "      <th>TEMP</th>\n",
       "      <th>DIR</th>\n",
       "      <th>SPD</th>\n",
       "      <th>DEWP</th>\n",
       "      <th>HUM</th>\n",
       "      <th>Day</th>\n",
       "      <th>Value</th>\n",
       "    </tr>\n",
       "  </thead>\n",
       "  <tbody>\n",
       "    <tr>\n",
       "      <th>0</th>\n",
       "      <td>2017-10-15</td>\n",
       "      <td>77.0</td>\n",
       "      <td>200.000000</td>\n",
       "      <td>2.0</td>\n",
       "      <td>65.700000</td>\n",
       "      <td>68.000000</td>\n",
       "      <td>96</td>\n",
       "      <td>7.784710</td>\n",
       "    </tr>\n",
       "    <tr>\n",
       "      <th>1</th>\n",
       "      <td>2017-10-16</td>\n",
       "      <td>81.5</td>\n",
       "      <td>0.000000</td>\n",
       "      <td>0.0</td>\n",
       "      <td>66.200000</td>\n",
       "      <td>59.000000</td>\n",
       "      <td>97</td>\n",
       "      <td>6.511036</td>\n",
       "    </tr>\n",
       "    <tr>\n",
       "      <th>2</th>\n",
       "      <td>2017-10-17</td>\n",
       "      <td>78.3</td>\n",
       "      <td>113.333333</td>\n",
       "      <td>2.0</td>\n",
       "      <td>67.466667</td>\n",
       "      <td>69.666667</td>\n",
       "      <td>98</td>\n",
       "      <td>4.557446</td>\n",
       "    </tr>\n",
       "    <tr>\n",
       "      <th>3</th>\n",
       "      <td>2017-10-18</td>\n",
       "      <td>72.3</td>\n",
       "      <td>0.000000</td>\n",
       "      <td>0.0</td>\n",
       "      <td>68.000000</td>\n",
       "      <td>86.000000</td>\n",
       "      <td>99</td>\n",
       "      <td>8.152256</td>\n",
       "    </tr>\n",
       "    <tr>\n",
       "      <th>4</th>\n",
       "      <td>2017-10-19</td>\n",
       "      <td>73.4</td>\n",
       "      <td>70.000000</td>\n",
       "      <td>2.5</td>\n",
       "      <td>67.300000</td>\n",
       "      <td>81.000000</td>\n",
       "      <td>100</td>\n",
       "      <td>6.008917</td>\n",
       "    </tr>\n",
       "  </tbody>\n",
       "</table>\n",
       "</div>"
      ],
      "text/plain": [
       "        Date  TEMP         DIR  SPD       DEWP        HUM  Day     Value\n",
       "0 2017-10-15  77.0  200.000000  2.0  65.700000  68.000000   96  7.784710\n",
       "1 2017-10-16  81.5    0.000000  0.0  66.200000  59.000000   97  6.511036\n",
       "2 2017-10-17  78.3  113.333333  2.0  67.466667  69.666667   98  4.557446\n",
       "3 2017-10-18  72.3    0.000000  0.0  68.000000  86.000000   99  8.152256\n",
       "4 2017-10-19  73.4   70.000000  2.5  67.300000  81.000000  100  6.008917"
      ]
     },
     "execution_count": 17,
     "metadata": {},
     "output_type": "execute_result"
    }
   ],
   "source": [
    "merge.head()"
   ]
  },
  {
   "cell_type": "markdown",
   "metadata": {},
   "source": [
    "# Convert TEMP and DEWP from F to C"
   ]
  },
  {
   "cell_type": "code",
   "execution_count": 18,
   "metadata": {},
   "outputs": [],
   "source": [
    "# Formula to convert F to C is: [°C] = ([°F] - 32) × 5/9\n",
    "merge['TEMP'] = (merge.TEMP - 32) * 5.0/9.0\n",
    "# Formula to convert F to C is: [°C] = ([°F] - 32) × 5/9\n",
    "merge['DEWP'] = (merge.DEWP - 32) * 5.0/9.0\n"
   ]
  },
  {
   "cell_type": "markdown",
   "metadata": {},
   "source": [
    "# Convert SPD from Mph to Kph"
   ]
  },
  {
   "cell_type": "code",
   "execution_count": 19,
   "metadata": {},
   "outputs": [],
   "source": [
    "# 1 mph = 1.60934 kph\n",
    "merge['SPD'] = merge.SPD * 1.60934\n"
   ]
  },
  {
   "cell_type": "markdown",
   "metadata": {},
   "source": [
    "# Convert DEWP to HUM"
   ]
  },
  {
   "cell_type": "code",
   "execution_count": 20,
   "metadata": {},
   "outputs": [],
   "source": [
    "import math\n",
    "\n",
    "#merge['HUM'] = 100*(np.exp((17.625 * merge['DEWP'])/(243.04 + merge['DEWP']))/np.exp((17.625 * merge['TEMP'])/(243.04 + merge['TEMP'])))\n"
   ]
  },
  {
   "cell_type": "code",
   "execution_count": 21,
   "metadata": {},
   "outputs": [],
   "source": [
    "merge = merge.rename(columns={\"month_cat\": \"MONTH\"})"
   ]
  },
  {
   "cell_type": "code",
   "execution_count": 78,
   "metadata": {},
   "outputs": [
    {
     "data": {
      "image/png": "[encoded data removed]",
      "text/plain": [
       "<matplotlib.figure.Figure at 0x96ddff0>"
      ]
     },
     "metadata": {},
     "output_type": "display_data"
    }
   ],
   "source": [
    "import seaborn as sns\n",
    "g = sns.PairGrid(merge, vars=[\"MONTH\", \"Value\",\"SPD\", \"TEMP\"], dropna=True)\n",
    "g.map_diag(plt.hist)\n",
    "g.map_offdiag(plt.scatter);"
   ]
  },
  {
   "cell_type": "code",
   "execution_count": 202,
   "metadata": {},
   "outputs": [
    {
     "data": {
      "image/png": "[encoded data removed]",
      "text/plain": [
       "<matplotlib.figure.Figure at 0x14b23c90>"
      ]
     },
     "metadata": {},
     "output_type": "display_data"
    }
   ],
   "source": [
    "g = sns.FacetGrid(merge, col='month', col_wrap=4)\n",
    "g.map(sns.distplot, \"Value\")\n",
    "plt.show()"
   ]
  },
  {
   "cell_type": "code",
   "execution_count": 204,
   "metadata": {},
   "outputs": [
    {
     "data": {
      "image/png": "[encoded data removed]",
      "text/plain": [
       "<matplotlib.figure.Figure at 0x64fce70>"
      ]
     },
     "metadata": {},
     "output_type": "display_data"
    }
   ],
   "source": [
    "g = sns.FacetGrid(merge, col='MONTH', col_wrap=4)\n",
    "g.map(plt.scatter, \"TEMP\",\"Value\")\n",
    "plt.show()"
   ]
  },
  {
   "cell_type": "code",
   "execution_count": 66,
   "metadata": {},
   "outputs": [
    {
     "data": {
      "image/png": "[encoded data removed]",
      "text/plain": [
       "<matplotlib.figure.Figure at 0x9945570>"
      ]
     },
     "metadata": {},
     "output_type": "display_data"
    }
   ],
   "source": [
    "plt.scatter(merge.TEMP, merge.Value)\n",
    "plt.xlabel('TEMP')\n",
    "plt.ylabel('month')\n",
    "plt.title('Gaussian process Regression Predicted vs Actual')\n",
    "plt.show()"
   ]
  },
  {
   "cell_type": "code",
   "execution_count": 92,
   "metadata": {},
   "outputs": [
    {
     "data": {
      "text/html": [
       "<div>\n",
       "<style scoped>\n",
       "    .dataframe tbody tr th:only-of-type {\n",
       "        vertical-align: middle;\n",
       "    }\n",
       "\n",
       "    .dataframe tbody tr th {\n",
       "        vertical-align: top;\n",
       "    }\n",
       "\n",
       "    .dataframe thead th {\n",
       "        text-align: right;\n",
       "    }\n",
       "</style>\n",
       "<table border=\"1\" class=\"dataframe\">\n",
       "  <thead>\n",
       "    <tr style=\"text-align: right;\">\n",
       "      <th></th>\n",
       "      <th>TEMP</th>\n",
       "      <th>DIR</th>\n",
       "      <th>SPD</th>\n",
       "      <th>DEWP</th>\n",
       "      <th>HUM</th>\n",
       "      <th>Value</th>\n",
       "      <th>MONTH</th>\n",
       "    </tr>\n",
       "  </thead>\n",
       "  <tbody>\n",
       "    <tr>\n",
       "      <th>TEMP</th>\n",
       "      <td>1.000000</td>\n",
       "      <td>0.232262</td>\n",
       "      <td>0.348949</td>\n",
       "      <td>-0.383229</td>\n",
       "      <td>-0.907506</td>\n",
       "      <td>-0.141137</td>\n",
       "      <td>-0.046313</td>\n",
       "    </tr>\n",
       "    <tr>\n",
       "      <th>DIR</th>\n",
       "      <td>0.232262</td>\n",
       "      <td>1.000000</td>\n",
       "      <td>0.679825</td>\n",
       "      <td>-0.223519</td>\n",
       "      <td>-0.276343</td>\n",
       "      <td>0.016227</td>\n",
       "      <td>-0.010118</td>\n",
       "    </tr>\n",
       "    <tr>\n",
       "      <th>SPD</th>\n",
       "      <td>0.348949</td>\n",
       "      <td>0.679825</td>\n",
       "      <td>1.000000</td>\n",
       "      <td>-0.231191</td>\n",
       "      <td>-0.367051</td>\n",
       "      <td>-0.003287</td>\n",
       "      <td>-0.036076</td>\n",
       "    </tr>\n",
       "    <tr>\n",
       "      <th>DEWP</th>\n",
       "      <td>-0.383229</td>\n",
       "      <td>-0.223519</td>\n",
       "      <td>-0.231191</td>\n",
       "      <td>1.000000</td>\n",
       "      <td>0.716986</td>\n",
       "      <td>0.080116</td>\n",
       "      <td>0.097115</td>\n",
       "    </tr>\n",
       "    <tr>\n",
       "      <th>HUM</th>\n",
       "      <td>-0.907506</td>\n",
       "      <td>-0.276343</td>\n",
       "      <td>-0.367051</td>\n",
       "      <td>0.716986</td>\n",
       "      <td>1.000000</td>\n",
       "      <td>0.139616</td>\n",
       "      <td>0.067741</td>\n",
       "    </tr>\n",
       "    <tr>\n",
       "      <th>Value</th>\n",
       "      <td>-0.141137</td>\n",
       "      <td>0.016227</td>\n",
       "      <td>-0.003287</td>\n",
       "      <td>0.080116</td>\n",
       "      <td>0.139616</td>\n",
       "      <td>1.000000</td>\n",
       "      <td>0.059845</td>\n",
       "    </tr>\n",
       "    <tr>\n",
       "      <th>MONTH</th>\n",
       "      <td>-0.046313</td>\n",
       "      <td>-0.010118</td>\n",
       "      <td>-0.036076</td>\n",
       "      <td>0.097115</td>\n",
       "      <td>0.067741</td>\n",
       "      <td>0.059845</td>\n",
       "      <td>1.000000</td>\n",
       "    </tr>\n",
       "  </tbody>\n",
       "</table>\n",
       "</div>"
      ],
      "text/plain": [
       "           TEMP       DIR       SPD      DEWP       HUM     Value     MONTH\n",
       "TEMP   1.000000  0.232262  0.348949 -0.383229 -0.907506 -0.141137 -0.046313\n",
       "DIR    0.232262  1.000000  0.679825 -0.223519 -0.276343  0.016227 -0.010118\n",
       "SPD    0.348949  0.679825  1.000000 -0.231191 -0.367051 -0.003287 -0.036076\n",
       "DEWP  -0.383229 -0.223519 -0.231191  1.000000  0.716986  0.080116  0.097115\n",
       "HUM   -0.907506 -0.276343 -0.367051  0.716986  1.000000  0.139616  0.067741\n",
       "Value -0.141137  0.016227 -0.003287  0.080116  0.139616  1.000000  0.059845\n",
       "MONTH -0.046313 -0.010118 -0.036076  0.097115  0.067741  0.059845  1.000000"
      ]
     },
     "execution_count": 92,
     "metadata": {},
     "output_type": "execute_result"
    }
   ],
   "source": [
    "merge.corr()"
   ]
  },
  {
   "cell_type": "code",
   "execution_count": 209,
   "metadata": {
    "scrolled": true
   },
   "outputs": [
    {
     "data": {
      "text/plain": [
       "TEMP                     -0.069521\n",
       "DEWP                     15.779768\n",
       "Relative Humidity (%)    -0.050483\n",
       "SPD                       9.175844\n",
       "DIR                       0.047420\n",
       "Hour                      0.172330\n",
       "Value                     5.217001\n",
       "MONTH                     0.015367\n",
       "HUM                      22.653110\n",
       "dtype: float64"
      ]
     },
     "execution_count": 209,
     "metadata": {},
     "output_type": "execute_result"
    }
   ],
   "source": [
    " merge.skew()"
   ]
  },
  {
   "cell_type": "code",
   "execution_count": 210,
   "metadata": {},
   "outputs": [
    {
     "data": {
      "text/plain": [
       "TEMP                      -0.611076\n",
       "DEWP                     326.386685\n",
       "Relative Humidity (%)     -0.556087\n",
       "SPD                      152.238003\n",
       "DIR                       -1.101654\n",
       "Hour                      -1.112595\n",
       "Value                     35.854905\n",
       "MONTH                     -1.268299\n",
       "HUM                      521.928325\n",
       "dtype: float64"
      ]
     },
     "execution_count": 210,
     "metadata": {},
     "output_type": "execute_result"
    }
   ],
   "source": [
    "merge.kurt()"
   ]
  },
  {
   "cell_type": "code",
   "execution_count": 211,
   "metadata": {},
   "outputs": [
    {
     "name": "stdout",
     "output_type": "stream",
     "text": [
      "7.83025086079\n"
     ]
    }
   ],
   "source": [
    "print merge['TEMP'].var()"
   ]
  },
  {
   "cell_type": "code",
   "execution_count": 212,
   "metadata": {},
   "outputs": [
    {
     "name": "stdout",
     "output_type": "stream",
     "text": [
      "227.804366797\n"
     ]
    }
   ],
   "source": [
    "print merge['Relative Humidity (%)'].var()"
   ]
  },
  {
   "cell_type": "code",
   "execution_count": 22,
   "metadata": {},
   "outputs": [
    {
     "data": {
      "text/html": [
       "<div>\n",
       "<style scoped>\n",
       "    .dataframe tbody tr th:only-of-type {\n",
       "        vertical-align: middle;\n",
       "    }\n",
       "\n",
       "    .dataframe tbody tr th {\n",
       "        vertical-align: top;\n",
       "    }\n",
       "\n",
       "    .dataframe thead th {\n",
       "        text-align: right;\n",
       "    }\n",
       "</style>\n",
       "<table border=\"1\" class=\"dataframe\">\n",
       "  <thead>\n",
       "    <tr style=\"text-align: right;\">\n",
       "      <th></th>\n",
       "      <th>Date</th>\n",
       "      <th>TEMP</th>\n",
       "      <th>DIR</th>\n",
       "      <th>SPD</th>\n",
       "      <th>DEWP</th>\n",
       "      <th>HUM</th>\n",
       "      <th>Day</th>\n",
       "      <th>Value</th>\n",
       "    </tr>\n",
       "  </thead>\n",
       "  <tbody>\n",
       "    <tr>\n",
       "      <th>0</th>\n",
       "      <td>2017-10-15</td>\n",
       "      <td>25.000000</td>\n",
       "      <td>200.000000</td>\n",
       "      <td>3.21868</td>\n",
       "      <td>18.722222</td>\n",
       "      <td>68.000000</td>\n",
       "      <td>96</td>\n",
       "      <td>7.784710</td>\n",
       "    </tr>\n",
       "    <tr>\n",
       "      <th>1</th>\n",
       "      <td>2017-10-16</td>\n",
       "      <td>27.500000</td>\n",
       "      <td>0.000000</td>\n",
       "      <td>0.00000</td>\n",
       "      <td>19.000000</td>\n",
       "      <td>59.000000</td>\n",
       "      <td>97</td>\n",
       "      <td>6.511036</td>\n",
       "    </tr>\n",
       "    <tr>\n",
       "      <th>2</th>\n",
       "      <td>2017-10-17</td>\n",
       "      <td>25.722222</td>\n",
       "      <td>113.333333</td>\n",
       "      <td>3.21868</td>\n",
       "      <td>19.703704</td>\n",
       "      <td>69.666667</td>\n",
       "      <td>98</td>\n",
       "      <td>4.557446</td>\n",
       "    </tr>\n",
       "    <tr>\n",
       "      <th>3</th>\n",
       "      <td>2017-10-18</td>\n",
       "      <td>22.388889</td>\n",
       "      <td>0.000000</td>\n",
       "      <td>0.00000</td>\n",
       "      <td>20.000000</td>\n",
       "      <td>86.000000</td>\n",
       "      <td>99</td>\n",
       "      <td>8.152256</td>\n",
       "    </tr>\n",
       "    <tr>\n",
       "      <th>4</th>\n",
       "      <td>2017-10-19</td>\n",
       "      <td>23.000000</td>\n",
       "      <td>70.000000</td>\n",
       "      <td>4.02335</td>\n",
       "      <td>19.611111</td>\n",
       "      <td>81.000000</td>\n",
       "      <td>100</td>\n",
       "      <td>6.008917</td>\n",
       "    </tr>\n",
       "  </tbody>\n",
       "</table>\n",
       "</div>"
      ],
      "text/plain": [
       "        Date       TEMP         DIR      SPD       DEWP        HUM  Day  \\\n",
       "0 2017-10-15  25.000000  200.000000  3.21868  18.722222  68.000000   96   \n",
       "1 2017-10-16  27.500000    0.000000  0.00000  19.000000  59.000000   97   \n",
       "2 2017-10-17  25.722222  113.333333  3.21868  19.703704  69.666667   98   \n",
       "3 2017-10-18  22.388889    0.000000  0.00000  20.000000  86.000000   99   \n",
       "4 2017-10-19  23.000000   70.000000  4.02335  19.611111  81.000000  100   \n",
       "\n",
       "      Value  \n",
       "0  7.784710  \n",
       "1  6.511036  \n",
       "2  4.557446  \n",
       "3  8.152256  \n",
       "4  6.008917  "
      ]
     },
     "execution_count": 22,
     "metadata": {},
     "output_type": "execute_result"
    }
   ],
   "source": [
    "merge.head()"
   ]
  },
  {
   "cell_type": "code",
   "execution_count": 220,
   "metadata": {},
   "outputs": [],
   "source": [
    "#merge.to_csv('E:/RESEAERCH/FEEDS/BUGOLBI/mergeH.csv',index = True)"
   ]
  },
  {
   "cell_type": "code",
   "execution_count": 218,
   "metadata": {},
   "outputs": [
    {
     "data": {
      "text/html": [
       "<div>\n",
       "<style scoped>\n",
       "    .dataframe tbody tr th:only-of-type {\n",
       "        vertical-align: middle;\n",
       "    }\n",
       "\n",
       "    .dataframe tbody tr th {\n",
       "        vertical-align: top;\n",
       "    }\n",
       "\n",
       "    .dataframe thead th {\n",
       "        text-align: right;\n",
       "    }\n",
       "</style>\n",
       "<table border=\"1\" class=\"dataframe\">\n",
       "  <thead>\n",
       "    <tr style=\"text-align: right;\">\n",
       "      <th></th>\n",
       "      <th>Hour</th>\n",
       "      <th>Date</th>\n",
       "      <th>Value</th>\n",
       "    </tr>\n",
       "  </thead>\n",
       "  <tbody>\n",
       "    <tr>\n",
       "      <th>0</th>\n",
       "      <td>1</td>\n",
       "      <td>2017-08-28 18:00:00</td>\n",
       "      <td>89.550000</td>\n",
       "    </tr>\n",
       "    <tr>\n",
       "      <th>1</th>\n",
       "      <td>2</td>\n",
       "      <td>2017-08-29 06:00:00</td>\n",
       "      <td>52.677885</td>\n",
       "    </tr>\n",
       "    <tr>\n",
       "      <th>2</th>\n",
       "      <td>3</td>\n",
       "      <td>2017-08-29 07:00:00</td>\n",
       "      <td>24.024222</td>\n",
       "    </tr>\n",
       "    <tr>\n",
       "      <th>3</th>\n",
       "      <td>4</td>\n",
       "      <td>2017-08-29 08:00:00</td>\n",
       "      <td>22.683818</td>\n",
       "    </tr>\n",
       "    <tr>\n",
       "      <th>4</th>\n",
       "      <td>5</td>\n",
       "      <td>2017-08-29 09:00:00</td>\n",
       "      <td>28.593860</td>\n",
       "    </tr>\n",
       "  </tbody>\n",
       "</table>\n",
       "</div>"
      ],
      "text/plain": [
       "   Hour                Date      Value\n",
       "0     1 2017-08-28 18:00:00  89.550000\n",
       "1     2 2017-08-29 06:00:00  52.677885\n",
       "2     3 2017-08-29 07:00:00  24.024222\n",
       "3     4 2017-08-29 08:00:00  22.683818\n",
       "4     5 2017-08-29 09:00:00  28.593860"
      ]
     },
     "execution_count": 218,
     "metadata": {},
     "output_type": "execute_result"
    }
   ],
   "source": [
    "b.head()"
   ]
  },
  {
   "cell_type": "code",
   "execution_count": 216,
   "metadata": {},
   "outputs": [],
   "source": [
    "#df = df.drop(['Date','day_week','Month','month'],axis=1)"
   ]
  },
  {
   "cell_type": "markdown",
   "metadata": {},
   "source": [
    "# Addding index column"
   ]
  },
  {
   "cell_type": "code",
   "execution_count": 177,
   "metadata": {},
   "outputs": [],
   "source": [
    "\n",
    "#df =df.reset_index()"
   ]
  },
  {
   "cell_type": "code",
   "execution_count": 227,
   "metadata": {},
   "outputs": [],
   "source": [
    "foo2 =r'E:/RESEAERCH/FEEDS/mulago/feedsD.csv'\n",
    "\n",
    "c = pd.read_csv(foo2, parse_dates = ['Date'])"
   ]
  },
  {
   "cell_type": "markdown",
   "metadata": {},
   "source": [
    "# Split into Training and Test Data"
   ]
  },
  {
   "cell_type": "code",
   "execution_count": 228,
   "metadata": {},
   "outputs": [
    {
     "data": {
      "text/html": [
       "<div>\n",
       "<style scoped>\n",
       "    .dataframe tbody tr th:only-of-type {\n",
       "        vertical-align: middle;\n",
       "    }\n",
       "\n",
       "    .dataframe tbody tr th {\n",
       "        vertical-align: top;\n",
       "    }\n",
       "\n",
       "    .dataframe thead th {\n",
       "        text-align: right;\n",
       "    }\n",
       "</style>\n",
       "<table border=\"1\" class=\"dataframe\">\n",
       "  <thead>\n",
       "    <tr style=\"text-align: right;\">\n",
       "      <th></th>\n",
       "      <th>Day</th>\n",
       "      <th>Value</th>\n",
       "    </tr>\n",
       "  </thead>\n",
       "  <tbody>\n",
       "    <tr>\n",
       "      <th>count</th>\n",
       "      <td>327.000000</td>\n",
       "      <td>327.000000</td>\n",
       "    </tr>\n",
       "    <tr>\n",
       "      <th>mean</th>\n",
       "      <td>164.000000</td>\n",
       "      <td>27.403589</td>\n",
       "    </tr>\n",
       "    <tr>\n",
       "      <th>std</th>\n",
       "      <td>94.540996</td>\n",
       "      <td>63.727832</td>\n",
       "    </tr>\n",
       "    <tr>\n",
       "      <th>min</th>\n",
       "      <td>1.000000</td>\n",
       "      <td>1.591087</td>\n",
       "    </tr>\n",
       "    <tr>\n",
       "      <th>25%</th>\n",
       "      <td>82.500000</td>\n",
       "      <td>10.476537</td>\n",
       "    </tr>\n",
       "    <tr>\n",
       "      <th>50%</th>\n",
       "      <td>164.000000</td>\n",
       "      <td>13.390817</td>\n",
       "    </tr>\n",
       "    <tr>\n",
       "      <th>75%</th>\n",
       "      <td>245.500000</td>\n",
       "      <td>18.239057</td>\n",
       "    </tr>\n",
       "    <tr>\n",
       "      <th>max</th>\n",
       "      <td>327.000000</td>\n",
       "      <td>500.000000</td>\n",
       "    </tr>\n",
       "  </tbody>\n",
       "</table>\n",
       "</div>"
      ],
      "text/plain": [
       "              Day       Value\n",
       "count  327.000000  327.000000\n",
       "mean   164.000000   27.403589\n",
       "std     94.540996   63.727832\n",
       "min      1.000000    1.591087\n",
       "25%     82.500000   10.476537\n",
       "50%    164.000000   13.390817\n",
       "75%    245.500000   18.239057\n",
       "max    327.000000  500.000000"
      ]
     },
     "execution_count": 228,
     "metadata": {},
     "output_type": "execute_result"
    }
   ],
   "source": [
    "c.describe()"
   ]
  },
  {
   "cell_type": "code",
   "execution_count": 229,
   "metadata": {},
   "outputs": [],
   "source": [
    "import datetime as dt\n",
    "c['month'] = c['Date'].dt.month_name()"
   ]
  },
  {
   "cell_type": "code",
   "execution_count": 230,
   "metadata": {},
   "outputs": [],
   "source": [
    "c['month_cat'] = c.month.astype(\"category\").cat.codes"
   ]
  },
  {
   "cell_type": "code",
   "execution_count": 231,
   "metadata": {},
   "outputs": [
    {
     "data": {
      "text/html": [
       "<div>\n",
       "<style scoped>\n",
       "    .dataframe tbody tr th:only-of-type {\n",
       "        vertical-align: middle;\n",
       "    }\n",
       "\n",
       "    .dataframe tbody tr th {\n",
       "        vertical-align: top;\n",
       "    }\n",
       "\n",
       "    .dataframe thead th {\n",
       "        text-align: right;\n",
       "    }\n",
       "</style>\n",
       "<table border=\"1\" class=\"dataframe\">\n",
       "  <thead>\n",
       "    <tr style=\"text-align: right;\">\n",
       "      <th></th>\n",
       "      <th>Day</th>\n",
       "      <th>Date</th>\n",
       "      <th>Value</th>\n",
       "      <th>month</th>\n",
       "      <th>month_cat</th>\n",
       "    </tr>\n",
       "  </thead>\n",
       "  <tbody>\n",
       "    <tr>\n",
       "      <th>0</th>\n",
       "      <td>1</td>\n",
       "      <td>2017-07-30</td>\n",
       "      <td>158.275571</td>\n",
       "      <td>July</td>\n",
       "      <td>5</td>\n",
       "    </tr>\n",
       "    <tr>\n",
       "      <th>1</th>\n",
       "      <td>2</td>\n",
       "      <td>2017-07-31</td>\n",
       "      <td>15.358082</td>\n",
       "      <td>July</td>\n",
       "      <td>5</td>\n",
       "    </tr>\n",
       "    <tr>\n",
       "      <th>2</th>\n",
       "      <td>3</td>\n",
       "      <td>2017-01-08</td>\n",
       "      <td>18.243723</td>\n",
       "      <td>January</td>\n",
       "      <td>4</td>\n",
       "    </tr>\n",
       "    <tr>\n",
       "      <th>3</th>\n",
       "      <td>4</td>\n",
       "      <td>2017-02-08</td>\n",
       "      <td>18.326520</td>\n",
       "      <td>February</td>\n",
       "      <td>3</td>\n",
       "    </tr>\n",
       "    <tr>\n",
       "      <th>4</th>\n",
       "      <td>5</td>\n",
       "      <td>2017-03-08</td>\n",
       "      <td>32.022171</td>\n",
       "      <td>March</td>\n",
       "      <td>7</td>\n",
       "    </tr>\n",
       "  </tbody>\n",
       "</table>\n",
       "</div>"
      ],
      "text/plain": [
       "   Day       Date       Value     month  month_cat\n",
       "0    1 2017-07-30  158.275571      July          5\n",
       "1    2 2017-07-31   15.358082      July          5\n",
       "2    3 2017-01-08   18.243723   January          4\n",
       "3    4 2017-02-08   18.326520  February          3\n",
       "4    5 2017-03-08   32.022171     March          7"
      ]
     },
     "execution_count": 231,
     "metadata": {},
     "output_type": "execute_result"
    }
   ],
   "source": [
    "c.head()\n",
    "#merge.head()"
   ]
  },
  {
   "cell_type": "code",
   "execution_count": 232,
   "metadata": {},
   "outputs": [],
   "source": [
    "c = c.drop(['Date','month'],axis=1)\n",
    "#merge = merge.drop(['Date','month','MONTH','DEWP'],axis=1)\n",
    "#print merge.head()\n",
    "#print c"
   ]
  },
  {
   "cell_type": "code",
   "execution_count": 23,
   "metadata": {},
   "outputs": [
    {
     "data": {
      "text/html": [
       "<div>\n",
       "<style scoped>\n",
       "    .dataframe tbody tr th:only-of-type {\n",
       "        vertical-align: middle;\n",
       "    }\n",
       "\n",
       "    .dataframe tbody tr th {\n",
       "        vertical-align: top;\n",
       "    }\n",
       "\n",
       "    .dataframe thead th {\n",
       "        text-align: right;\n",
       "    }\n",
       "</style>\n",
       "<table border=\"1\" class=\"dataframe\">\n",
       "  <thead>\n",
       "    <tr style=\"text-align: right;\">\n",
       "      <th></th>\n",
       "      <th>Date</th>\n",
       "      <th>TEMP</th>\n",
       "      <th>DIR</th>\n",
       "      <th>SPD</th>\n",
       "      <th>DEWP</th>\n",
       "      <th>HUM</th>\n",
       "      <th>Day</th>\n",
       "      <th>Value</th>\n",
       "    </tr>\n",
       "  </thead>\n",
       "  <tbody>\n",
       "    <tr>\n",
       "      <th>0</th>\n",
       "      <td>2017-10-15</td>\n",
       "      <td>25.000000</td>\n",
       "      <td>200.000000</td>\n",
       "      <td>3.21868</td>\n",
       "      <td>18.722222</td>\n",
       "      <td>68.000000</td>\n",
       "      <td>96</td>\n",
       "      <td>7.784710</td>\n",
       "    </tr>\n",
       "    <tr>\n",
       "      <th>1</th>\n",
       "      <td>2017-10-16</td>\n",
       "      <td>27.500000</td>\n",
       "      <td>0.000000</td>\n",
       "      <td>0.00000</td>\n",
       "      <td>19.000000</td>\n",
       "      <td>59.000000</td>\n",
       "      <td>97</td>\n",
       "      <td>6.511036</td>\n",
       "    </tr>\n",
       "    <tr>\n",
       "      <th>2</th>\n",
       "      <td>2017-10-17</td>\n",
       "      <td>25.722222</td>\n",
       "      <td>113.333333</td>\n",
       "      <td>3.21868</td>\n",
       "      <td>19.703704</td>\n",
       "      <td>69.666667</td>\n",
       "      <td>98</td>\n",
       "      <td>4.557446</td>\n",
       "    </tr>\n",
       "    <tr>\n",
       "      <th>3</th>\n",
       "      <td>2017-10-18</td>\n",
       "      <td>22.388889</td>\n",
       "      <td>0.000000</td>\n",
       "      <td>0.00000</td>\n",
       "      <td>20.000000</td>\n",
       "      <td>86.000000</td>\n",
       "      <td>99</td>\n",
       "      <td>8.152256</td>\n",
       "    </tr>\n",
       "    <tr>\n",
       "      <th>4</th>\n",
       "      <td>2017-10-19</td>\n",
       "      <td>23.000000</td>\n",
       "      <td>70.000000</td>\n",
       "      <td>4.02335</td>\n",
       "      <td>19.611111</td>\n",
       "      <td>81.000000</td>\n",
       "      <td>100</td>\n",
       "      <td>6.008917</td>\n",
       "    </tr>\n",
       "  </tbody>\n",
       "</table>\n",
       "</div>"
      ],
      "text/plain": [
       "        Date       TEMP         DIR      SPD       DEWP        HUM  Day  \\\n",
       "0 2017-10-15  25.000000  200.000000  3.21868  18.722222  68.000000   96   \n",
       "1 2017-10-16  27.500000    0.000000  0.00000  19.000000  59.000000   97   \n",
       "2 2017-10-17  25.722222  113.333333  3.21868  19.703704  69.666667   98   \n",
       "3 2017-10-18  22.388889    0.000000  0.00000  20.000000  86.000000   99   \n",
       "4 2017-10-19  23.000000   70.000000  4.02335  19.611111  81.000000  100   \n",
       "\n",
       "      Value  \n",
       "0  7.784710  \n",
       "1  6.511036  \n",
       "2  4.557446  \n",
       "3  8.152256  \n",
       "4  6.008917  "
      ]
     },
     "execution_count": 23,
     "metadata": {},
     "output_type": "execute_result"
    }
   ],
   "source": [
    "merge.head()"
   ]
  },
  {
   "cell_type": "code",
   "execution_count": 24,
   "metadata": {},
   "outputs": [],
   "source": [
    "#y = c['Value']\n",
    "y = merge[['HUM','Value']]"
   ]
  },
  {
   "cell_type": "code",
   "execution_count": 25,
   "metadata": {},
   "outputs": [],
   "source": [
    "#X = c.drop(['Value'], axis=1)\n",
    "X = merge[['TEMP']]"
   ]
  },
  {
   "cell_type": "code",
   "execution_count": 26,
   "metadata": {},
   "outputs": [],
   "source": [
    "from sklearn.model_selection import train_test_split\n",
    "\n",
    "X_train, X_test, y_train, y_test = train_test_split(X, y, test_size=.3, random_state=1234)"
   ]
  },
  {
   "cell_type": "code",
   "execution_count": 27,
   "metadata": {},
   "outputs": [
    {
     "data": {
      "text/plain": [
       "((161, 1), (161, 2))"
      ]
     },
     "execution_count": 27,
     "metadata": {},
     "output_type": "execute_result"
    }
   ],
   "source": [
    "X_train.shape, y_train.shape"
   ]
  },
  {
   "cell_type": "code",
   "execution_count": 28,
   "metadata": {},
   "outputs": [
    {
     "data": {
      "text/plain": [
       "((70, 1), (70, 2))"
      ]
     },
     "execution_count": 28,
     "metadata": {},
     "output_type": "execute_result"
    }
   ],
   "source": [
    "X_test.shape, y_test.shape"
   ]
  },
  {
   "cell_type": "markdown",
   "metadata": {},
   "source": [
    "# Implement ML Algorithms"
   ]
  },
  {
   "cell_type": "markdown",
   "metadata": {},
   "source": [
    "# Linear Regression"
   ]
  },
  {
   "cell_type": "code",
   "execution_count": 29,
   "metadata": {},
   "outputs": [],
   "source": [
    "from sklearn.linear_model import LinearRegression\n",
    "from sklearn.metrics import mean_squared_error, mean_absolute_error, r2_score\n",
    "\n",
    "# Create linear regression object\n",
    "regr = LinearRegression()"
   ]
  },
  {
   "cell_type": "code",
   "execution_count": 30,
   "metadata": {},
   "outputs": [
    {
     "data": {
      "text/plain": [
       "0.33195135100335244"
      ]
     },
     "execution_count": 30,
     "metadata": {},
     "output_type": "execute_result"
    }
   ],
   "source": [
    "# Train the model using the training sets\n",
    "regr.fit(X_train, y_train)\n",
    "\n",
    "# Make predictions using the testing set\n",
    "lin_pred = regr.predict(X_test)\n",
    "\n",
    "linear_regression_score = regr.score(X_test, y_test)\n",
    "linear_regression_score"
   ]
  },
  {
   "cell_type": "code",
   "execution_count": 93,
   "metadata": {},
   "outputs": [
    {
     "name": "stdout",
     "output_type": "stream",
     "text": [
      "('Coefficients: \\n', array([[-5.1228333],\n",
      "       [-1.0343561]]))\n",
      "Root mean squared error: 11.58\n",
      "Mean absolute error: 6.38\n",
      "R-squared: 0.41\n"
     ]
    }
   ],
   "source": [
    "from math import sqrt\n",
    "# The coefficients\n",
    "print('Coefficients: \\n', regr.coef_)\n",
    "# The mean squared error\n",
    "print(\"Root mean squared error: %.2f\"\n",
    "      % sqrt(mean_squared_error(y_test, lin_pred)))\n",
    "# The absolute squared error\n",
    "print(\"Mean absolute error: %.2f\"\n",
    "      % mean_absolute_error(y_test, lin_pred))\n",
    "# Explained variance score: 1 is perfect prediction\n",
    "print('R-squared: %.2f' % r2_score(y_test, lin_pred))"
   ]
  },
  {
   "cell_type": "code",
   "execution_count": 31,
   "metadata": {},
   "outputs": [
    {
     "data": {
      "image/png": "[encoded data removed]",
      "text/plain": [
       "<matplotlib.figure.Figure at 0x8bf7830>"
      ]
     },
     "metadata": {},
     "output_type": "display_data"
    }
   ],
   "source": [
    "plt.scatter(y_test, lin_pred)\n",
    "plt.xlabel('Measured')\n",
    "plt.ylabel('Predicted')\n",
    "plt.title('Linear Regression Predicted vs Actual')\n",
    "plt.show()"
   ]
  },
  {
   "cell_type": "markdown",
   "metadata": {},
   "source": [
    "# Neural Network Regression"
   ]
  },
  {
   "cell_type": "code",
   "execution_count": 32,
   "metadata": {},
   "outputs": [],
   "source": [
    "from sklearn.neural_network import MLPRegressor\n",
    "from sklearn.metrics import mean_squared_error, mean_absolute_error, r2_score\n",
    "\n",
    "# Create MLPRegressor object\n",
    "#mlp = GaussianProcessRegressor()\n",
    "mlp = MLPRegressor()"
   ]
  },
  {
   "cell_type": "code",
   "execution_count": 33,
   "metadata": {},
   "outputs": [
    {
     "name": "stderr",
     "output_type": "stream",
     "text": [
      "C:\\Users\\Wabinyai\\Anaconda2\\lib\\site-packages\\sklearn\\neural_network\\multilayer_perceptron.py:564: ConvergenceWarning: Stochastic Optimizer: Maximum iterations (200) reached and the optimization hasn't converged yet.\n",
      "  % self.max_iter, ConvergenceWarning)\n"
     ]
    },
    {
     "data": {
      "text/plain": [
       "MLPRegressor(activation='relu', alpha=0.0001, batch_size='auto', beta_1=0.9,\n",
       "       beta_2=0.999, early_stopping=False, epsilon=1e-08,\n",
       "       hidden_layer_sizes=(100,), learning_rate='constant',\n",
       "       learning_rate_init=0.001, max_iter=200, momentum=0.9,\n",
       "       nesterovs_momentum=True, power_t=0.5, random_state=None,\n",
       "       shuffle=True, solver='adam', tol=0.0001, validation_fraction=0.1,\n",
       "       verbose=False, warm_start=False)"
      ]
     },
     "execution_count": 33,
     "metadata": {},
     "output_type": "execute_result"
    }
   ],
   "source": [
    "# Train the model using the training sets\n",
    "mlp.fit(X_train, y_train)"
   ]
  },
  {
   "cell_type": "code",
   "execution_count": 34,
   "metadata": {},
   "outputs": [
    {
     "data": {
      "text/plain": [
       "-0.54936908542848883"
      ]
     },
     "execution_count": 34,
     "metadata": {},
     "output_type": "execute_result"
    }
   ],
   "source": [
    "# Score the model\n",
    "neural_network_regression_score = mlp.score(X_test, y_test)\n",
    "neural_network_regression_score"
   ]
  },
  {
   "cell_type": "code",
   "execution_count": 98,
   "metadata": {},
   "outputs": [],
   "source": [
    "# Make predictions using the testing set\n",
    "nnr_pred = mlp.predict(X_test)"
   ]
  },
  {
   "cell_type": "code",
   "execution_count": 99,
   "metadata": {},
   "outputs": [
    {
     "name": "stdout",
     "output_type": "stream",
     "text": [
      "Root mean squared error: 17.15\n",
      "Mean absolute error: 12.04\n",
      "R-squared: -0.57\n"
     ]
    }
   ],
   "source": [
    "# The mean squared error\n",
    "print(\"Root mean squared error: %.2f\"\n",
    "      % sqrt(mean_squared_error(y_test, nnr_pred)))\n",
    "# The absolute squared error\n",
    "print(\"Mean absolute error: %.2f\"\n",
    "      % mean_absolute_error(y_test, nnr_pred))\n",
    "# Explained variance score: 1 is perfect prediction\n",
    "print('R-squared: %.2f' % r2_score(y_test, nnr_pred))"
   ]
  },
  {
   "cell_type": "code",
   "execution_count": 258,
   "metadata": {},
   "outputs": [
    {
     "data": {
      "image/png": "[encoded data removed]",
      "text/plain": [
       "<matplotlib.figure.Figure at 0xd689a10>"
      ]
     },
     "metadata": {},
     "output_type": "display_data"
    }
   ],
   "source": [
    "plt.scatter(y_test, nnr_pred)\n",
    "plt.xlabel('Measured')\n",
    "plt.ylabel('Predicted')\n",
    "plt.title('Neural Network Regression Predicted vs Actual')\n",
    "plt.show()"
   ]
  },
  {
   "cell_type": "markdown",
   "metadata": {},
   "source": [
    "# Gaussian Process Regressor"
   ]
  },
  {
   "cell_type": "code",
   "execution_count": 112,
   "metadata": {},
   "outputs": [],
   "source": [
    "from sklearn.metrics import mean_squared_error, mean_absolute_error, r2_score\n",
    "from sklearn.gaussian_process import GaussianProcessRegressor\n",
    "from sklearn import model_selection\n",
    "\n",
    "# Create MLPRegressor object\n",
    "gpr = GaussianProcessRegressor()"
   ]
  },
  {
   "cell_type": "code",
   "execution_count": 113,
   "metadata": {},
   "outputs": [
    {
     "data": {
      "text/plain": [
       "GaussianProcessRegressor(alpha=1e-10, copy_X_train=True, kernel=None,\n",
       "             n_restarts_optimizer=0, normalize_y=False,\n",
       "             optimizer='fmin_l_bfgs_b', random_state=None)"
      ]
     },
     "execution_count": 113,
     "metadata": {},
     "output_type": "execute_result"
    }
   ],
   "source": [
    "# Train the model using the training sets\n",
    "gpr.fit(X_train, y_train)"
   ]
  },
  {
   "cell_type": "code",
   "execution_count": 114,
   "metadata": {},
   "outputs": [
    {
     "data": {
      "text/plain": [
       "0.33179792917865014"
      ]
     },
     "execution_count": 114,
     "metadata": {},
     "output_type": "execute_result"
    }
   ],
   "source": [
    "# Score the model\n",
    "GP_regression_score = gpr.score(X_test, y_test)\n",
    "GP_regression_score"
   ]
  },
  {
   "cell_type": "code",
   "execution_count": 252,
   "metadata": {},
   "outputs": [],
   "source": [
    "# Make predictions using the testing set\n",
    "gpr_pred = gpr.predict(X_test)"
   ]
  },
  {
   "cell_type": "code",
   "execution_count": 115,
   "metadata": {},
   "outputs": [
    {
     "name": "stdout",
     "output_type": "stream",
     "text": [
      "Root mean squared error: 21.36\n",
      "Mean absolute error: 13.79\n",
      "R-squared: -0.90\n"
     ]
    }
   ],
   "source": [
    "# The mean squared error\n",
    "print(\"Root mean squared error: %.2f\"\n",
    "      % sqrt(mean_squared_error(y_test, gpr_pred)))\n",
    "# The absolute squared error\n",
    "print(\"Mean absolute error: %.2f\"\n",
    "      % mean_absolute_error(y_test, gpr_pred))\n",
    "# Explained variance score: 1 is perfect prediction\n",
    "print('R-squared: %.2f' % r2_score(y_test, gpr_pred))"
   ]
  },
  {
   "cell_type": "code",
   "execution_count": 116,
   "metadata": {},
   "outputs": [
    {
     "data": {
      "image/png": "[encoded data removed]",
      "text/plain": [
       "<matplotlib.figure.Figure at 0x95f6d90>"
      ]
     },
     "metadata": {},
     "output_type": "display_data"
    }
   ],
   "source": [
    "plt.scatter(y_test, gpr_pred)\n",
    "plt.xlabel('Measured')\n",
    "plt.ylabel('Predicted')\n",
    "plt.title('Gaussian process Regression Predicted vs Actual')\n",
    "plt.show()"
   ]
  },
  {
   "cell_type": "markdown",
   "metadata": {},
   "source": [
    "# Lasso"
   ]
  },
  {
   "cell_type": "code",
   "execution_count": 49,
   "metadata": {},
   "outputs": [],
   "source": [
    "from sklearn.linear_model import Lasso\n",
    "\n",
    "lasso = Lasso()"
   ]
  },
  {
   "cell_type": "code",
   "execution_count": 50,
   "metadata": {},
   "outputs": [
    {
     "ename": "ValueError",
     "evalue": "shapes (1,) and (2,) not aligned: 1 (dim 0) != 2 (dim 0)",
     "output_type": "error",
     "traceback": [
      "\u001b[1;31m---------------------------------------------------------------------------\u001b[0m",
      "\u001b[1;31mValueError\u001b[0m                                Traceback (most recent call last)",
      "\u001b[1;32m<ipython-input-50-a978dd6b502f>\u001b[0m in \u001b[0;36m<module>\u001b[1;34m()\u001b[0m\n\u001b[1;32m----> 1\u001b[1;33m \u001b[0mlasso\u001b[0m\u001b[1;33m.\u001b[0m\u001b[0mfit\u001b[0m\u001b[1;33m(\u001b[0m\u001b[0mX_train\u001b[0m\u001b[1;33m,\u001b[0m \u001b[0my_train\u001b[0m\u001b[1;33m)\u001b[0m\u001b[1;33m\u001b[0m\u001b[0m\n\u001b[0m",
      "\u001b[1;32mC:\\Users\\Wabinyai\\Anaconda2\\lib\\site-packages\\sklearn\\linear_model\\coordinate_descent.pyc\u001b[0m in \u001b[0;36mfit\u001b[1;34m(self, X, y, check_input)\u001b[0m\n\u001b[0;32m    759\u001b[0m \u001b[1;33m\u001b[0m\u001b[0m\n\u001b[0;32m    760\u001b[0m         \u001b[0mself\u001b[0m\u001b[1;33m.\u001b[0m\u001b[0mcoef_\u001b[0m\u001b[1;33m,\u001b[0m \u001b[0mself\u001b[0m\u001b[1;33m.\u001b[0m\u001b[0mdual_gap_\u001b[0m \u001b[1;33m=\u001b[0m \u001b[0mmap\u001b[0m\u001b[1;33m(\u001b[0m\u001b[0mnp\u001b[0m\u001b[1;33m.\u001b[0m\u001b[0msqueeze\u001b[0m\u001b[1;33m,\u001b[0m \u001b[1;33m[\u001b[0m\u001b[0mcoef_\u001b[0m\u001b[1;33m,\u001b[0m \u001b[0mdual_gaps_\u001b[0m\u001b[1;33m]\u001b[0m\u001b[1;33m)\u001b[0m\u001b[1;33m\u001b[0m\u001b[0m\n\u001b[1;32m--> 761\u001b[1;33m         \u001b[0mself\u001b[0m\u001b[1;33m.\u001b[0m\u001b[0m_set_intercept\u001b[0m\u001b[1;33m(\u001b[0m\u001b[0mX_offset\u001b[0m\u001b[1;33m,\u001b[0m \u001b[0my_offset\u001b[0m\u001b[1;33m,\u001b[0m \u001b[0mX_scale\u001b[0m\u001b[1;33m)\u001b[0m\u001b[1;33m\u001b[0m\u001b[0m\n\u001b[0m\u001b[0;32m    762\u001b[0m \u001b[1;33m\u001b[0m\u001b[0m\n\u001b[0;32m    763\u001b[0m         \u001b[1;31m# workaround since _set_intercept will cast self.coef_ into X.dtype\u001b[0m\u001b[1;33m\u001b[0m\u001b[1;33m\u001b[0m\u001b[0m\n",
      "\u001b[1;32mC:\\Users\\Wabinyai\\Anaconda2\\lib\\site-packages\\sklearn\\linear_model\\base.pyc\u001b[0m in \u001b[0;36m_set_intercept\u001b[1;34m(self, X_offset, y_offset, X_scale)\u001b[0m\n\u001b[0;32m    263\u001b[0m         \u001b[1;32mif\u001b[0m \u001b[0mself\u001b[0m\u001b[1;33m.\u001b[0m\u001b[0mfit_intercept\u001b[0m\u001b[1;33m:\u001b[0m\u001b[1;33m\u001b[0m\u001b[0m\n\u001b[0;32m    264\u001b[0m             \u001b[0mself\u001b[0m\u001b[1;33m.\u001b[0m\u001b[0mcoef_\u001b[0m \u001b[1;33m=\u001b[0m \u001b[0mself\u001b[0m\u001b[1;33m.\u001b[0m\u001b[0mcoef_\u001b[0m \u001b[1;33m/\u001b[0m \u001b[0mX_scale\u001b[0m\u001b[1;33m\u001b[0m\u001b[0m\n\u001b[1;32m--> 265\u001b[1;33m             \u001b[0mself\u001b[0m\u001b[1;33m.\u001b[0m\u001b[0mintercept_\u001b[0m \u001b[1;33m=\u001b[0m \u001b[0my_offset\u001b[0m \u001b[1;33m-\u001b[0m \u001b[0mnp\u001b[0m\u001b[1;33m.\u001b[0m\u001b[0mdot\u001b[0m\u001b[1;33m(\u001b[0m\u001b[0mX_offset\u001b[0m\u001b[1;33m,\u001b[0m \u001b[0mself\u001b[0m\u001b[1;33m.\u001b[0m\u001b[0mcoef_\u001b[0m\u001b[1;33m.\u001b[0m\u001b[0mT\u001b[0m\u001b[1;33m)\u001b[0m\u001b[1;33m\u001b[0m\u001b[0m\n\u001b[0m\u001b[0;32m    266\u001b[0m         \u001b[1;32melse\u001b[0m\u001b[1;33m:\u001b[0m\u001b[1;33m\u001b[0m\u001b[0m\n\u001b[0;32m    267\u001b[0m             \u001b[0mself\u001b[0m\u001b[1;33m.\u001b[0m\u001b[0mintercept_\u001b[0m \u001b[1;33m=\u001b[0m \u001b[1;36m0.\u001b[0m\u001b[1;33m\u001b[0m\u001b[0m\n",
      "\u001b[1;31mValueError\u001b[0m: shapes (1,) and (2,) not aligned: 1 (dim 0) != 2 (dim 0)"
     ]
    }
   ],
   "source": [
    "lasso.fit(X_train, y_train)"
   ]
  },
  {
   "cell_type": "code",
   "execution_count": 51,
   "metadata": {},
   "outputs": [
    {
     "ename": "ValueError",
     "evalue": "shapes (70,1) and (2,) not aligned: 1 (dim 1) != 2 (dim 0)",
     "output_type": "error",
     "traceback": [
      "\u001b[1;31m---------------------------------------------------------------------------\u001b[0m",
      "\u001b[1;31mValueError\u001b[0m                                Traceback (most recent call last)",
      "\u001b[1;32m<ipython-input-51-305ccb74d203>\u001b[0m in \u001b[0;36m<module>\u001b[1;34m()\u001b[0m\n\u001b[0;32m      1\u001b[0m \u001b[1;31m# Score the model\u001b[0m\u001b[1;33m\u001b[0m\u001b[1;33m\u001b[0m\u001b[0m\n\u001b[1;32m----> 2\u001b[1;33m \u001b[0mlasso_score\u001b[0m \u001b[1;33m=\u001b[0m \u001b[0mlasso\u001b[0m\u001b[1;33m.\u001b[0m\u001b[0mscore\u001b[0m\u001b[1;33m(\u001b[0m\u001b[0mX_test\u001b[0m\u001b[1;33m,\u001b[0m \u001b[0my_test\u001b[0m\u001b[1;33m)\u001b[0m\u001b[1;33m\u001b[0m\u001b[0m\n\u001b[0m\u001b[0;32m      3\u001b[0m \u001b[0mlasso_score\u001b[0m\u001b[1;33m\u001b[0m\u001b[0m\n",
      "\u001b[1;32mC:\\Users\\Wabinyai\\Anaconda2\\lib\\site-packages\\sklearn\\base.pyc\u001b[0m in \u001b[0;36mscore\u001b[1;34m(self, X, y, sample_weight)\u001b[0m\n\u001b[0;32m    384\u001b[0m \u001b[1;33m\u001b[0m\u001b[0m\n\u001b[0;32m    385\u001b[0m         \u001b[1;32mfrom\u001b[0m \u001b[1;33m.\u001b[0m\u001b[0mmetrics\u001b[0m \u001b[1;32mimport\u001b[0m \u001b[0mr2_score\u001b[0m\u001b[1;33m\u001b[0m\u001b[0m\n\u001b[1;32m--> 386\u001b[1;33m         return r2_score(y, self.predict(X), sample_weight=sample_weight,\n\u001b[0m\u001b[0;32m    387\u001b[0m                         multioutput='variance_weighted')\n\u001b[0;32m    388\u001b[0m \u001b[1;33m\u001b[0m\u001b[0m\n",
      "\u001b[1;32mC:\\Users\\Wabinyai\\Anaconda2\\lib\\site-packages\\sklearn\\linear_model\\base.pyc\u001b[0m in \u001b[0;36mpredict\u001b[1;34m(self, X)\u001b[0m\n\u001b[0;32m    254\u001b[0m             \u001b[0mReturns\u001b[0m \u001b[0mpredicted\u001b[0m \u001b[0mvalues\u001b[0m\u001b[1;33m.\u001b[0m\u001b[1;33m\u001b[0m\u001b[0m\n\u001b[0;32m    255\u001b[0m         \"\"\"\n\u001b[1;32m--> 256\u001b[1;33m         \u001b[1;32mreturn\u001b[0m \u001b[0mself\u001b[0m\u001b[1;33m.\u001b[0m\u001b[0m_decision_function\u001b[0m\u001b[1;33m(\u001b[0m\u001b[0mX\u001b[0m\u001b[1;33m)\u001b[0m\u001b[1;33m\u001b[0m\u001b[0m\n\u001b[0m\u001b[0;32m    257\u001b[0m \u001b[1;33m\u001b[0m\u001b[0m\n\u001b[0;32m    258\u001b[0m     \u001b[0m_preprocess_data\u001b[0m \u001b[1;33m=\u001b[0m \u001b[0mstaticmethod\u001b[0m\u001b[1;33m(\u001b[0m\u001b[0m_preprocess_data\u001b[0m\u001b[1;33m)\u001b[0m\u001b[1;33m\u001b[0m\u001b[0m\n",
      "\u001b[1;32mC:\\Users\\Wabinyai\\Anaconda2\\lib\\site-packages\\sklearn\\linear_model\\coordinate_descent.pyc\u001b[0m in \u001b[0;36m_decision_function\u001b[1;34m(self, X)\u001b[0m\n\u001b[0;32m    789\u001b[0m                                    dense_output=True) + self.intercept_\n\u001b[0;32m    790\u001b[0m         \u001b[1;32melse\u001b[0m\u001b[1;33m:\u001b[0m\u001b[1;33m\u001b[0m\u001b[0m\n\u001b[1;32m--> 791\u001b[1;33m             \u001b[1;32mreturn\u001b[0m \u001b[0msuper\u001b[0m\u001b[1;33m(\u001b[0m\u001b[0mElasticNet\u001b[0m\u001b[1;33m,\u001b[0m \u001b[0mself\u001b[0m\u001b[1;33m)\u001b[0m\u001b[1;33m.\u001b[0m\u001b[0m_decision_function\u001b[0m\u001b[1;33m(\u001b[0m\u001b[0mX\u001b[0m\u001b[1;33m)\u001b[0m\u001b[1;33m\u001b[0m\u001b[0m\n\u001b[0m\u001b[0;32m    792\u001b[0m \u001b[1;33m\u001b[0m\u001b[0m\n\u001b[0;32m    793\u001b[0m \u001b[1;33m\u001b[0m\u001b[0m\n",
      "\u001b[1;32mC:\\Users\\Wabinyai\\Anaconda2\\lib\\site-packages\\sklearn\\linear_model\\base.pyc\u001b[0m in \u001b[0;36m_decision_function\u001b[1;34m(self, X)\u001b[0m\n\u001b[0;32m    239\u001b[0m         \u001b[0mX\u001b[0m \u001b[1;33m=\u001b[0m \u001b[0mcheck_array\u001b[0m\u001b[1;33m(\u001b[0m\u001b[0mX\u001b[0m\u001b[1;33m,\u001b[0m \u001b[0maccept_sparse\u001b[0m\u001b[1;33m=\u001b[0m\u001b[1;33m[\u001b[0m\u001b[1;34m'csr'\u001b[0m\u001b[1;33m,\u001b[0m \u001b[1;34m'csc'\u001b[0m\u001b[1;33m,\u001b[0m \u001b[1;34m'coo'\u001b[0m\u001b[1;33m]\u001b[0m\u001b[1;33m)\u001b[0m\u001b[1;33m\u001b[0m\u001b[0m\n\u001b[0;32m    240\u001b[0m         return safe_sparse_dot(X, self.coef_.T,\n\u001b[1;32m--> 241\u001b[1;33m                                dense_output=True) + self.intercept_\n\u001b[0m\u001b[0;32m    242\u001b[0m \u001b[1;33m\u001b[0m\u001b[0m\n\u001b[0;32m    243\u001b[0m     \u001b[1;32mdef\u001b[0m \u001b[0mpredict\u001b[0m\u001b[1;33m(\u001b[0m\u001b[0mself\u001b[0m\u001b[1;33m,\u001b[0m \u001b[0mX\u001b[0m\u001b[1;33m)\u001b[0m\u001b[1;33m:\u001b[0m\u001b[1;33m\u001b[0m\u001b[0m\n",
      "\u001b[1;32mC:\\Users\\Wabinyai\\Anaconda2\\lib\\site-packages\\sklearn\\utils\\extmath.pyc\u001b[0m in \u001b[0;36msafe_sparse_dot\u001b[1;34m(a, b, dense_output)\u001b[0m\n\u001b[0;32m    138\u001b[0m         \u001b[1;32mreturn\u001b[0m \u001b[0mret\u001b[0m\u001b[1;33m\u001b[0m\u001b[0m\n\u001b[0;32m    139\u001b[0m     \u001b[1;32melse\u001b[0m\u001b[1;33m:\u001b[0m\u001b[1;33m\u001b[0m\u001b[0m\n\u001b[1;32m--> 140\u001b[1;33m         \u001b[1;32mreturn\u001b[0m \u001b[0mnp\u001b[0m\u001b[1;33m.\u001b[0m\u001b[0mdot\u001b[0m\u001b[1;33m(\u001b[0m\u001b[0ma\u001b[0m\u001b[1;33m,\u001b[0m \u001b[0mb\u001b[0m\u001b[1;33m)\u001b[0m\u001b[1;33m\u001b[0m\u001b[0m\n\u001b[0m\u001b[0;32m    141\u001b[0m \u001b[1;33m\u001b[0m\u001b[0m\n\u001b[0;32m    142\u001b[0m \u001b[1;33m\u001b[0m\u001b[0m\n",
      "\u001b[1;31mValueError\u001b[0m: shapes (70,1) and (2,) not aligned: 1 (dim 1) != 2 (dim 0)"
     ]
    }
   ],
   "source": [
    "# Score the model\n",
    "lasso_score = lasso.score(X_test, y_test)\n",
    "lasso_score"
   ]
  },
  {
   "cell_type": "code",
   "execution_count": 52,
   "metadata": {},
   "outputs": [
    {
     "ename": "ValueError",
     "evalue": "shapes (70,1) and (2,) not aligned: 1 (dim 1) != 2 (dim 0)",
     "output_type": "error",
     "traceback": [
      "\u001b[1;31m---------------------------------------------------------------------------\u001b[0m",
      "\u001b[1;31mValueError\u001b[0m                                Traceback (most recent call last)",
      "\u001b[1;32m<ipython-input-52-5ffe00b9ec34>\u001b[0m in \u001b[0;36m<module>\u001b[1;34m()\u001b[0m\n\u001b[0;32m      1\u001b[0m \u001b[1;31m# Make predictions using the testing set\u001b[0m\u001b[1;33m\u001b[0m\u001b[1;33m\u001b[0m\u001b[0m\n\u001b[1;32m----> 2\u001b[1;33m \u001b[0mlasso_pred\u001b[0m \u001b[1;33m=\u001b[0m \u001b[0mlasso\u001b[0m\u001b[1;33m.\u001b[0m\u001b[0mpredict\u001b[0m\u001b[1;33m(\u001b[0m\u001b[0mX_test\u001b[0m\u001b[1;33m)\u001b[0m\u001b[1;33m\u001b[0m\u001b[0m\n\u001b[0m",
      "\u001b[1;32mC:\\Users\\Wabinyai\\Anaconda2\\lib\\site-packages\\sklearn\\linear_model\\base.pyc\u001b[0m in \u001b[0;36mpredict\u001b[1;34m(self, X)\u001b[0m\n\u001b[0;32m    254\u001b[0m             \u001b[0mReturns\u001b[0m \u001b[0mpredicted\u001b[0m \u001b[0mvalues\u001b[0m\u001b[1;33m.\u001b[0m\u001b[1;33m\u001b[0m\u001b[0m\n\u001b[0;32m    255\u001b[0m         \"\"\"\n\u001b[1;32m--> 256\u001b[1;33m         \u001b[1;32mreturn\u001b[0m \u001b[0mself\u001b[0m\u001b[1;33m.\u001b[0m\u001b[0m_decision_function\u001b[0m\u001b[1;33m(\u001b[0m\u001b[0mX\u001b[0m\u001b[1;33m)\u001b[0m\u001b[1;33m\u001b[0m\u001b[0m\n\u001b[0m\u001b[0;32m    257\u001b[0m \u001b[1;33m\u001b[0m\u001b[0m\n\u001b[0;32m    258\u001b[0m     \u001b[0m_preprocess_data\u001b[0m \u001b[1;33m=\u001b[0m \u001b[0mstaticmethod\u001b[0m\u001b[1;33m(\u001b[0m\u001b[0m_preprocess_data\u001b[0m\u001b[1;33m)\u001b[0m\u001b[1;33m\u001b[0m\u001b[0m\n",
      "\u001b[1;32mC:\\Users\\Wabinyai\\Anaconda2\\lib\\site-packages\\sklearn\\linear_model\\coordinate_descent.pyc\u001b[0m in \u001b[0;36m_decision_function\u001b[1;34m(self, X)\u001b[0m\n\u001b[0;32m    789\u001b[0m                                    dense_output=True) + self.intercept_\n\u001b[0;32m    790\u001b[0m         \u001b[1;32melse\u001b[0m\u001b[1;33m:\u001b[0m\u001b[1;33m\u001b[0m\u001b[0m\n\u001b[1;32m--> 791\u001b[1;33m             \u001b[1;32mreturn\u001b[0m \u001b[0msuper\u001b[0m\u001b[1;33m(\u001b[0m\u001b[0mElasticNet\u001b[0m\u001b[1;33m,\u001b[0m \u001b[0mself\u001b[0m\u001b[1;33m)\u001b[0m\u001b[1;33m.\u001b[0m\u001b[0m_decision_function\u001b[0m\u001b[1;33m(\u001b[0m\u001b[0mX\u001b[0m\u001b[1;33m)\u001b[0m\u001b[1;33m\u001b[0m\u001b[0m\n\u001b[0m\u001b[0;32m    792\u001b[0m \u001b[1;33m\u001b[0m\u001b[0m\n\u001b[0;32m    793\u001b[0m \u001b[1;33m\u001b[0m\u001b[0m\n",
      "\u001b[1;32mC:\\Users\\Wabinyai\\Anaconda2\\lib\\site-packages\\sklearn\\linear_model\\base.pyc\u001b[0m in \u001b[0;36m_decision_function\u001b[1;34m(self, X)\u001b[0m\n\u001b[0;32m    239\u001b[0m         \u001b[0mX\u001b[0m \u001b[1;33m=\u001b[0m \u001b[0mcheck_array\u001b[0m\u001b[1;33m(\u001b[0m\u001b[0mX\u001b[0m\u001b[1;33m,\u001b[0m \u001b[0maccept_sparse\u001b[0m\u001b[1;33m=\u001b[0m\u001b[1;33m[\u001b[0m\u001b[1;34m'csr'\u001b[0m\u001b[1;33m,\u001b[0m \u001b[1;34m'csc'\u001b[0m\u001b[1;33m,\u001b[0m \u001b[1;34m'coo'\u001b[0m\u001b[1;33m]\u001b[0m\u001b[1;33m)\u001b[0m\u001b[1;33m\u001b[0m\u001b[0m\n\u001b[0;32m    240\u001b[0m         return safe_sparse_dot(X, self.coef_.T,\n\u001b[1;32m--> 241\u001b[1;33m                                dense_output=True) + self.intercept_\n\u001b[0m\u001b[0;32m    242\u001b[0m \u001b[1;33m\u001b[0m\u001b[0m\n\u001b[0;32m    243\u001b[0m     \u001b[1;32mdef\u001b[0m \u001b[0mpredict\u001b[0m\u001b[1;33m(\u001b[0m\u001b[0mself\u001b[0m\u001b[1;33m,\u001b[0m \u001b[0mX\u001b[0m\u001b[1;33m)\u001b[0m\u001b[1;33m:\u001b[0m\u001b[1;33m\u001b[0m\u001b[0m\n",
      "\u001b[1;32mC:\\Users\\Wabinyai\\Anaconda2\\lib\\site-packages\\sklearn\\utils\\extmath.pyc\u001b[0m in \u001b[0;36msafe_sparse_dot\u001b[1;34m(a, b, dense_output)\u001b[0m\n\u001b[0;32m    138\u001b[0m         \u001b[1;32mreturn\u001b[0m \u001b[0mret\u001b[0m\u001b[1;33m\u001b[0m\u001b[0m\n\u001b[0;32m    139\u001b[0m     \u001b[1;32melse\u001b[0m\u001b[1;33m:\u001b[0m\u001b[1;33m\u001b[0m\u001b[0m\n\u001b[1;32m--> 140\u001b[1;33m         \u001b[1;32mreturn\u001b[0m \u001b[0mnp\u001b[0m\u001b[1;33m.\u001b[0m\u001b[0mdot\u001b[0m\u001b[1;33m(\u001b[0m\u001b[0ma\u001b[0m\u001b[1;33m,\u001b[0m \u001b[0mb\u001b[0m\u001b[1;33m)\u001b[0m\u001b[1;33m\u001b[0m\u001b[0m\n\u001b[0m\u001b[0;32m    141\u001b[0m \u001b[1;33m\u001b[0m\u001b[0m\n\u001b[0;32m    142\u001b[0m \u001b[1;33m\u001b[0m\u001b[0m\n",
      "\u001b[1;31mValueError\u001b[0m: shapes (70,1) and (2,) not aligned: 1 (dim 1) != 2 (dim 0)"
     ]
    }
   ],
   "source": [
    "# Make predictions using the testing set\n",
    "lasso_pred = lasso.predict(X_test)"
   ]
  },
  {
   "cell_type": "code",
   "execution_count": 266,
   "metadata": {},
   "outputs": [
    {
     "name": "stdout",
     "output_type": "stream",
     "text": [
      "Root mean squared error: 62.63\n",
      "Mean absolute error: 30.28\n",
      "R-squared: 0.11\n"
     ]
    }
   ],
   "source": [
    "# The mean squared error\n",
    "print(\"Root mean squared error: %.2f\"\n",
    "      % sqrt(mean_squared_error(y_test, lasso_pred)))\n",
    "# The absolute squared error\n",
    "print(\"Mean absolute error: %.2f\"\n",
    "      % mean_absolute_error(y_test, lasso_pred))\n",
    "# Explained variance score: 1 is perfect prediction\n",
    "print('R-squared: %.2f' % r2_score(y_test, lasso_pred))"
   ]
  },
  {
   "cell_type": "code",
   "execution_count": 122,
   "metadata": {},
   "outputs": [
    {
     "data": {
      "image/png": "[encoded data removed]",
      "text/plain": [
       "<matplotlib.figure.Figure at 0x9601db0>"
      ]
     },
     "metadata": {},
     "output_type": "display_data"
    }
   ],
   "source": [
    "plt.scatter(y_test, lasso_pred)\n",
    "plt.xlabel('Measured')\n",
    "plt.ylabel('Predicted')\n",
    "plt.title('Lasso Predicted vs Actual')\n",
    "plt.show()"
   ]
  },
  {
   "cell_type": "markdown",
   "metadata": {},
   "source": [
    "# Decision Forest Regression"
   ]
  },
  {
   "cell_type": "code",
   "execution_count": 35,
   "metadata": {},
   "outputs": [],
   "source": [
    "from sklearn.ensemble import RandomForestRegressor\n",
    "from sklearn.metrics import mean_squared_error, mean_absolute_error, r2_score\n",
    "\n",
    "\n",
    "# Create Random Forrest Regressor object\n",
    "regr_rf = RandomForestRegressor(n_estimators=200, random_state=1234)"
   ]
  },
  {
   "cell_type": "code",
   "execution_count": 36,
   "metadata": {},
   "outputs": [
    {
     "data": {
      "text/plain": [
       "RandomForestRegressor(bootstrap=True, criterion='mse', max_depth=None,\n",
       "           max_features='auto', max_leaf_nodes=None,\n",
       "           min_impurity_decrease=0.0, min_impurity_split=None,\n",
       "           min_samples_leaf=1, min_samples_split=2,\n",
       "           min_weight_fraction_leaf=0.0, n_estimators=200, n_jobs=1,\n",
       "           oob_score=False, random_state=1234, verbose=0, warm_start=False)"
      ]
     },
     "execution_count": 36,
     "metadata": {},
     "output_type": "execute_result"
    }
   ],
   "source": [
    "# Train the model using the training sets\n",
    "regr_rf.fit(X_train, y_train)"
   ]
  },
  {
   "cell_type": "code",
   "execution_count": 37,
   "metadata": {},
   "outputs": [
    {
     "data": {
      "text/plain": [
       "0.047312601103166901"
      ]
     },
     "execution_count": 37,
     "metadata": {},
     "output_type": "execute_result"
    }
   ],
   "source": [
    "# Score the model\n",
    "decision_forest_score = regr_rf.score(X_test, y_test)\n",
    "decision_forest_score"
   ]
  },
  {
   "cell_type": "code",
   "execution_count": 118,
   "metadata": {},
   "outputs": [],
   "source": [
    "# Make predictions using the testing set\n",
    "regr_rf_pred = regr_rf.predict(X_test)"
   ]
  },
  {
   "cell_type": "code",
   "execution_count": 119,
   "metadata": {},
   "outputs": [
    {
     "name": "stdout",
     "output_type": "stream",
     "text": [
      "Root mean squared error: 13.83\n",
      "Mean absolute error: 7.19\n",
      "R-squared: 0.17\n"
     ]
    }
   ],
   "source": [
    "# The mean squared error\n",
    "print(\"Root mean squared error: %.2f\"\n",
    "      % sqrt(mean_squared_error(y_test, regr_rf_pred)))\n",
    "# The absolute squared error\n",
    "print(\"Mean absolute error: %.2f\"\n",
    "      % mean_absolute_error(y_test, regr_rf_pred))\n",
    "# Explained variance score: 1 is perfect prediction\n",
    "print('R-squared: %.2f' % r2_score(y_test, regr_rf_pred))"
   ]
  },
  {
   "cell_type": "code",
   "execution_count": 118,
   "metadata": {},
   "outputs": [
    {
     "data": {
      "image/png": "[encoded data removed]",
      "text/plain": [
       "<matplotlib.figure.Figure at 0x124e4dd0>"
      ]
     },
     "metadata": {},
     "output_type": "display_data"
    }
   ],
   "source": [
    "plt.scatter(y_test, regr_rf_pred)\n",
    "plt.xlabel('Measured')\n",
    "plt.ylabel('Predicted')\n",
    "plt.title('Decision Forest Predicted vs Actual')\n",
    "plt.show()"
   ]
  },
  {
   "cell_type": "markdown",
   "metadata": {},
   "source": [
    "# Extra Trees Regression"
   ]
  },
  {
   "cell_type": "code",
   "execution_count": 120,
   "metadata": {},
   "outputs": [],
   "source": [
    "from sklearn.ensemble import ExtraTreesRegressor\n",
    "\n",
    "extra_tree = ExtraTreesRegressor(n_estimators=200, random_state=1234)"
   ]
  },
  {
   "cell_type": "code",
   "execution_count": 121,
   "metadata": {},
   "outputs": [
    {
     "data": {
      "text/plain": [
       "ExtraTreesRegressor(bootstrap=False, criterion='mse', max_depth=None,\n",
       "          max_features='auto', max_leaf_nodes=None,\n",
       "          min_impurity_decrease=0.0, min_impurity_split=None,\n",
       "          min_samples_leaf=1, min_samples_split=2,\n",
       "          min_weight_fraction_leaf=0.0, n_estimators=200, n_jobs=1,\n",
       "          oob_score=False, random_state=1234, verbose=0, warm_start=False)"
      ]
     },
     "execution_count": 121,
     "metadata": {},
     "output_type": "execute_result"
    }
   ],
   "source": [
    "extra_tree.fit(X_train, y_train)"
   ]
  },
  {
   "cell_type": "code",
   "execution_count": 122,
   "metadata": {},
   "outputs": [
    {
     "data": {
      "text/plain": [
       "0.00019774843799038274"
      ]
     },
     "execution_count": 122,
     "metadata": {},
     "output_type": "execute_result"
    }
   ],
   "source": [
    "extratree_score = extra_tree.score(X_test, y_test)\n",
    "extratree_score"
   ]
  },
  {
   "cell_type": "code",
   "execution_count": 123,
   "metadata": {},
   "outputs": [],
   "source": [
    "extratree_pred = extra_tree.predict(X_test)"
   ]
  },
  {
   "cell_type": "code",
   "execution_count": 124,
   "metadata": {},
   "outputs": [
    {
     "name": "stdout",
     "output_type": "stream",
     "text": [
      "Root mean squared error: 14.17\n",
      "Mean absolute error: 7.43\n",
      "R-squared: 0.13\n"
     ]
    }
   ],
   "source": [
    "# The mean squared error\n",
    "print(\"Root mean squared error: %.2f\"\n",
    "      % sqrt(mean_squared_error(y_test, extratree_pred)))\n",
    "# The absolute squared error\n",
    "print(\"Mean absolute error: %.2f\"\n",
    "      % mean_absolute_error(y_test, extratree_pred))\n",
    "# Explained variance score: 1 is perfect prediction\n",
    "print('R-squared: %.2f' % r2_score(y_test, extratree_pred))"
   ]
  },
  {
   "cell_type": "code",
   "execution_count": 123,
   "metadata": {},
   "outputs": [
    {
     "data": {
      "image/png": "[encoded data removed]",
      "text/plain": [
       "<matplotlib.figure.Figure at 0xec19790>"
      ]
     },
     "metadata": {},
     "output_type": "display_data"
    }
   ],
   "source": [
    "plt.scatter(y_test, extratree_pred)\n",
    "plt.xlabel('Measured')\n",
    "plt.ylabel('Predicted')\n",
    "plt.title('Extra Trees Predicted vs Actual')\n",
    "plt.show()"
   ]
  },
  {
   "cell_type": "markdown",
   "metadata": {},
   "source": [
    "# Elastic net"
   ]
  },
  {
   "cell_type": "code",
   "execution_count": 69,
   "metadata": {},
   "outputs": [],
   "source": [
    "from sklearn.linear_model import ElasticNet\n",
    "\n",
    "elasticnet = ElasticNet()"
   ]
  },
  {
   "cell_type": "code",
   "execution_count": 70,
   "metadata": {},
   "outputs": [
    {
     "ename": "ValueError",
     "evalue": "shapes (1,) and (4,) not aligned: 1 (dim 0) != 4 (dim 0)",
     "output_type": "error",
     "traceback": [
      "\u001b[1;31m---------------------------------------------------------------------------\u001b[0m",
      "\u001b[1;31mValueError\u001b[0m                                Traceback (most recent call last)",
      "\u001b[1;32m<ipython-input-70-656e7f5c8524>\u001b[0m in \u001b[0;36m<module>\u001b[1;34m()\u001b[0m\n\u001b[1;32m----> 1\u001b[1;33m \u001b[0melasticnet\u001b[0m\u001b[1;33m.\u001b[0m\u001b[0mfit\u001b[0m\u001b[1;33m(\u001b[0m\u001b[0mX_train\u001b[0m\u001b[1;33m,\u001b[0m \u001b[0my_train\u001b[0m\u001b[1;33m)\u001b[0m\u001b[1;33m\u001b[0m\u001b[0m\n\u001b[0m",
      "\u001b[1;32mC:\\Users\\Wabinyai\\Anaconda2\\lib\\site-packages\\sklearn\\linear_model\\coordinate_descent.pyc\u001b[0m in \u001b[0;36mfit\u001b[1;34m(self, X, y, check_input)\u001b[0m\n\u001b[0;32m    759\u001b[0m \u001b[1;33m\u001b[0m\u001b[0m\n\u001b[0;32m    760\u001b[0m         \u001b[0mself\u001b[0m\u001b[1;33m.\u001b[0m\u001b[0mcoef_\u001b[0m\u001b[1;33m,\u001b[0m \u001b[0mself\u001b[0m\u001b[1;33m.\u001b[0m\u001b[0mdual_gap_\u001b[0m \u001b[1;33m=\u001b[0m \u001b[0mmap\u001b[0m\u001b[1;33m(\u001b[0m\u001b[0mnp\u001b[0m\u001b[1;33m.\u001b[0m\u001b[0msqueeze\u001b[0m\u001b[1;33m,\u001b[0m \u001b[1;33m[\u001b[0m\u001b[0mcoef_\u001b[0m\u001b[1;33m,\u001b[0m \u001b[0mdual_gaps_\u001b[0m\u001b[1;33m]\u001b[0m\u001b[1;33m)\u001b[0m\u001b[1;33m\u001b[0m\u001b[0m\n\u001b[1;32m--> 761\u001b[1;33m         \u001b[0mself\u001b[0m\u001b[1;33m.\u001b[0m\u001b[0m_set_intercept\u001b[0m\u001b[1;33m(\u001b[0m\u001b[0mX_offset\u001b[0m\u001b[1;33m,\u001b[0m \u001b[0my_offset\u001b[0m\u001b[1;33m,\u001b[0m \u001b[0mX_scale\u001b[0m\u001b[1;33m)\u001b[0m\u001b[1;33m\u001b[0m\u001b[0m\n\u001b[0m\u001b[0;32m    762\u001b[0m \u001b[1;33m\u001b[0m\u001b[0m\n\u001b[0;32m    763\u001b[0m         \u001b[1;31m# workaround since _set_intercept will cast self.coef_ into X.dtype\u001b[0m\u001b[1;33m\u001b[0m\u001b[1;33m\u001b[0m\u001b[0m\n",
      "\u001b[1;32mC:\\Users\\Wabinyai\\Anaconda2\\lib\\site-packages\\sklearn\\linear_model\\base.pyc\u001b[0m in \u001b[0;36m_set_intercept\u001b[1;34m(self, X_offset, y_offset, X_scale)\u001b[0m\n\u001b[0;32m    263\u001b[0m         \u001b[1;32mif\u001b[0m \u001b[0mself\u001b[0m\u001b[1;33m.\u001b[0m\u001b[0mfit_intercept\u001b[0m\u001b[1;33m:\u001b[0m\u001b[1;33m\u001b[0m\u001b[0m\n\u001b[0;32m    264\u001b[0m             \u001b[0mself\u001b[0m\u001b[1;33m.\u001b[0m\u001b[0mcoef_\u001b[0m \u001b[1;33m=\u001b[0m \u001b[0mself\u001b[0m\u001b[1;33m.\u001b[0m\u001b[0mcoef_\u001b[0m \u001b[1;33m/\u001b[0m \u001b[0mX_scale\u001b[0m\u001b[1;33m\u001b[0m\u001b[0m\n\u001b[1;32m--> 265\u001b[1;33m             \u001b[0mself\u001b[0m\u001b[1;33m.\u001b[0m\u001b[0mintercept_\u001b[0m \u001b[1;33m=\u001b[0m \u001b[0my_offset\u001b[0m \u001b[1;33m-\u001b[0m \u001b[0mnp\u001b[0m\u001b[1;33m.\u001b[0m\u001b[0mdot\u001b[0m\u001b[1;33m(\u001b[0m\u001b[0mX_offset\u001b[0m\u001b[1;33m,\u001b[0m \u001b[0mself\u001b[0m\u001b[1;33m.\u001b[0m\u001b[0mcoef_\u001b[0m\u001b[1;33m.\u001b[0m\u001b[0mT\u001b[0m\u001b[1;33m)\u001b[0m\u001b[1;33m\u001b[0m\u001b[0m\n\u001b[0m\u001b[0;32m    266\u001b[0m         \u001b[1;32melse\u001b[0m\u001b[1;33m:\u001b[0m\u001b[1;33m\u001b[0m\u001b[0m\n\u001b[0;32m    267\u001b[0m             \u001b[0mself\u001b[0m\u001b[1;33m.\u001b[0m\u001b[0mintercept_\u001b[0m \u001b[1;33m=\u001b[0m \u001b[1;36m0.\u001b[0m\u001b[1;33m\u001b[0m\u001b[0m\n",
      "\u001b[1;31mValueError\u001b[0m: shapes (1,) and (4,) not aligned: 1 (dim 0) != 4 (dim 0)"
     ]
    }
   ],
   "source": [
    "elasticnet.fit(X_train, y_train)"
   ]
  },
  {
   "cell_type": "code",
   "execution_count": 274,
   "metadata": {},
   "outputs": [
    {
     "data": {
      "text/plain": [
       "0.11249723296861479"
      ]
     },
     "execution_count": 274,
     "metadata": {},
     "output_type": "execute_result"
    }
   ],
   "source": [
    "elasticnet_score = elasticnet.score(X_test, y_test)\n",
    "elasticnet_score"
   ]
  },
  {
   "cell_type": "code",
   "execution_count": 275,
   "metadata": {},
   "outputs": [],
   "source": [
    "elasticnet_pred = elasticnet.predict(X_test)"
   ]
  },
  {
   "cell_type": "code",
   "execution_count": 276,
   "metadata": {},
   "outputs": [
    {
     "name": "stdout",
     "output_type": "stream",
     "text": [
      "Root mean squared error: 62.63\n",
      "Mean absolute error: 30.29\n",
      "R-squared: 0.11\n"
     ]
    }
   ],
   "source": [
    "# The mean squared error\n",
    "print(\"Root mean squared error: %.2f\"\n",
    "      % sqrt(mean_squared_error(y_test, elasticnet_pred)))\n",
    "# The absolute squared error\n",
    "print(\"Mean absolute error: %.2f\"\n",
    "      % mean_absolute_error(y_test, elasticnet_pred))\n",
    "# Explained variance score: 1 is perfect prediction\n",
    "print('R-squared: %.2f' % r2_score(y_test, elasticnet_pred))"
   ]
  },
  {
   "cell_type": "markdown",
   "metadata": {},
   "source": [
    "# XGBOOST"
   ]
  },
  {
   "cell_type": "code",
   "execution_count": 124,
   "metadata": {},
   "outputs": [
    {
     "name": "stderr",
     "output_type": "stream",
     "text": [
      "C:\\Users\\Wabinyai\\Anaconda2\\lib\\site-packages\\sklearn\\cross_validation.py:41: DeprecationWarning: This module was deprecated in version 0.18 in favor of the model_selection module into which all the refactored classes and functions are moved. Also note that the interface of the new CV iterators are different from that of this module. This module will be removed in 0.20.\n",
      "  \"This module will be removed in 0.20.\", DeprecationWarning)\n"
     ]
    }
   ],
   "source": [
    "from xgboost.sklearn import XGBRegressor\n",
    "\n",
    "#Fitting XGB regressor \n",
    "xboost = XGBRegressor(n_estimators=200)"
   ]
  },
  {
   "cell_type": "code",
   "execution_count": 125,
   "metadata": {},
   "outputs": [
    {
     "ename": "ValueError",
     "evalue": "DataFrame for label cannot have multiple columns",
     "output_type": "error",
     "traceback": [
      "\u001b[1;31m---------------------------------------------------------------------------\u001b[0m",
      "\u001b[1;31mValueError\u001b[0m                                Traceback (most recent call last)",
      "\u001b[1;32m<ipython-input-125-08042162bcf8>\u001b[0m in \u001b[0;36m<module>\u001b[1;34m()\u001b[0m\n\u001b[1;32m----> 1\u001b[1;33m \u001b[0mxboost\u001b[0m\u001b[1;33m.\u001b[0m\u001b[0mfit\u001b[0m\u001b[1;33m(\u001b[0m\u001b[0mX_train\u001b[0m\u001b[1;33m,\u001b[0m \u001b[0my_train\u001b[0m\u001b[1;33m)\u001b[0m\u001b[1;33m\u001b[0m\u001b[0m\n\u001b[0m",
      "\u001b[1;32mC:\\Users\\Wabinyai\\Anaconda2\\lib\\site-packages\\xgboost\\sklearn.pyc\u001b[0m in \u001b[0;36mfit\u001b[1;34m(self, X, y, eval_set, eval_metric, early_stopping_rounds, verbose)\u001b[0m\n\u001b[0;32m    220\u001b[0m             \u001b[0mmetric\u001b[0m \u001b[0mmeasured\u001b[0m \u001b[0mon\u001b[0m \u001b[0mthe\u001b[0m \u001b[0mvalidation\u001b[0m \u001b[0mset\u001b[0m \u001b[0mto\u001b[0m \u001b[0mstderr\u001b[0m\u001b[1;33m.\u001b[0m\u001b[1;33m\u001b[0m\u001b[0m\n\u001b[0;32m    221\u001b[0m         \"\"\"\n\u001b[1;32m--> 222\u001b[1;33m         \u001b[0mtrainDmatrix\u001b[0m \u001b[1;33m=\u001b[0m \u001b[0mDMatrix\u001b[0m\u001b[1;33m(\u001b[0m\u001b[0mX\u001b[0m\u001b[1;33m,\u001b[0m \u001b[0mlabel\u001b[0m\u001b[1;33m=\u001b[0m\u001b[0my\u001b[0m\u001b[1;33m,\u001b[0m \u001b[0mmissing\u001b[0m\u001b[1;33m=\u001b[0m\u001b[0mself\u001b[0m\u001b[1;33m.\u001b[0m\u001b[0mmissing\u001b[0m\u001b[1;33m)\u001b[0m\u001b[1;33m\u001b[0m\u001b[0m\n\u001b[0m\u001b[0;32m    223\u001b[0m \u001b[1;33m\u001b[0m\u001b[0m\n\u001b[0;32m    224\u001b[0m         \u001b[0mevals_result\u001b[0m \u001b[1;33m=\u001b[0m \u001b[1;33m{\u001b[0m\u001b[1;33m}\u001b[0m\u001b[1;33m\u001b[0m\u001b[0m\n",
      "\u001b[1;32mC:\\Users\\Wabinyai\\Anaconda2\\lib\\site-packages\\xgboost\\core.pyc\u001b[0m in \u001b[0;36m__init__\u001b[1;34m(self, data, label, missing, weight, silent, feature_names, feature_types)\u001b[0m\n\u001b[0;32m    254\u001b[0m                                                                 \u001b[0mfeature_names\u001b[0m\u001b[1;33m,\u001b[0m\u001b[1;33m\u001b[0m\u001b[0m\n\u001b[0;32m    255\u001b[0m                                                                 feature_types)\n\u001b[1;32m--> 256\u001b[1;33m         \u001b[0mlabel\u001b[0m \u001b[1;33m=\u001b[0m \u001b[0m_maybe_pandas_label\u001b[0m\u001b[1;33m(\u001b[0m\u001b[0mlabel\u001b[0m\u001b[1;33m)\u001b[0m\u001b[1;33m\u001b[0m\u001b[0m\n\u001b[0m\u001b[0;32m    257\u001b[0m \u001b[1;33m\u001b[0m\u001b[0m\n\u001b[0;32m    258\u001b[0m         \u001b[1;32mif\u001b[0m \u001b[0misinstance\u001b[0m\u001b[1;33m(\u001b[0m\u001b[0mdata\u001b[0m\u001b[1;33m,\u001b[0m \u001b[0mSTRING_TYPES\u001b[0m\u001b[1;33m)\u001b[0m\u001b[1;33m:\u001b[0m\u001b[1;33m\u001b[0m\u001b[0m\n",
      "\u001b[1;32mC:\\Users\\Wabinyai\\Anaconda2\\lib\\site-packages\\xgboost\\core.pyc\u001b[0m in \u001b[0;36m_maybe_pandas_label\u001b[1;34m(label)\u001b[0m\n\u001b[0;32m    197\u001b[0m     \u001b[1;32mif\u001b[0m \u001b[0misinstance\u001b[0m\u001b[1;33m(\u001b[0m\u001b[0mlabel\u001b[0m\u001b[1;33m,\u001b[0m \u001b[0mDataFrame\u001b[0m\u001b[1;33m)\u001b[0m\u001b[1;33m:\u001b[0m\u001b[1;33m\u001b[0m\u001b[0m\n\u001b[0;32m    198\u001b[0m         \u001b[1;32mif\u001b[0m \u001b[0mlen\u001b[0m\u001b[1;33m(\u001b[0m\u001b[0mlabel\u001b[0m\u001b[1;33m.\u001b[0m\u001b[0mcolumns\u001b[0m\u001b[1;33m)\u001b[0m \u001b[1;33m>\u001b[0m \u001b[1;36m1\u001b[0m\u001b[1;33m:\u001b[0m\u001b[1;33m\u001b[0m\u001b[0m\n\u001b[1;32m--> 199\u001b[1;33m             \u001b[1;32mraise\u001b[0m \u001b[0mValueError\u001b[0m\u001b[1;33m(\u001b[0m\u001b[1;34m'DataFrame for label cannot have multiple columns'\u001b[0m\u001b[1;33m)\u001b[0m\u001b[1;33m\u001b[0m\u001b[0m\n\u001b[0m\u001b[0;32m    200\u001b[0m \u001b[1;33m\u001b[0m\u001b[0m\n\u001b[0;32m    201\u001b[0m         \u001b[0mlabel_dtypes\u001b[0m \u001b[1;33m=\u001b[0m \u001b[0mlabel\u001b[0m\u001b[1;33m.\u001b[0m\u001b[0mdtypes\u001b[0m\u001b[1;33m\u001b[0m\u001b[0m\n",
      "\u001b[1;31mValueError\u001b[0m: DataFrame for label cannot have multiple columns"
     ]
    }
   ],
   "source": [
    "xboost.fit(X_train, y_train)"
   ]
  },
  {
   "cell_type": "code",
   "execution_count": 285,
   "metadata": {},
   "outputs": [
    {
     "data": {
      "text/plain": [
       "0.34936123644551975"
      ]
     },
     "execution_count": 285,
     "metadata": {},
     "output_type": "execute_result"
    }
   ],
   "source": [
    "xgb_score = xboost.score(X_test, y_test)\n",
    "xgb_score"
   ]
  },
  {
   "cell_type": "code",
   "execution_count": 286,
   "metadata": {},
   "outputs": [],
   "source": [
    "#Predict \n",
    "xboost_pred = xboost.predict(X_test)"
   ]
  },
  {
   "cell_type": "code",
   "execution_count": 288,
   "metadata": {},
   "outputs": [
    {
     "name": "stdout",
     "output_type": "stream",
     "text": [
      "Root mean squared error: 53.63\n"
     ]
    }
   ],
   "source": [
    "print(\"Root mean squared error: %.2f\"\n",
    "      % sqrt(mean_squared_error(y_test, xboost_pred)))"
   ]
  },
  {
   "cell_type": "code",
   "execution_count": 289,
   "metadata": {},
   "outputs": [
    {
     "name": "stdout",
     "output_type": "stream",
     "text": [
      "Root mean squared error: 53.63\n",
      "Mean absolute error: 12.39\n",
      "R-squared: 0.35\n"
     ]
    }
   ],
   "source": [
    "# The mean squared error\n",
    "print(\"Root mean squared error: %.2f\"\n",
    "      % sqrt(mean_squared_error(y_test,  xboost_pred)))\n",
    "# The absolute squared error\n",
    "print(\"Mean absolute error: %.2f\"\n",
    "      % mean_absolute_error(y_test,  xboost_pred))\n",
    "# Explained variance score: 1 is perfect prediction\n",
    "print('R-squared: %.2f' % r2_score(y_test,  xboost_pred))"
   ]
  },
  {
   "cell_type": "code",
   "execution_count": 293,
   "metadata": {},
   "outputs": [
    {
     "data": {
      "image/png": "[encoded data removed]",
      "text/plain": [
       "<matplotlib.figure.Figure at 0xd3050f0>"
      ]
     },
     "metadata": {},
     "output_type": "display_data"
    }
   ],
   "source": [
    "plt.scatter(y_test, xboost_pred)\n",
    "plt.xlabel('Measured')\n",
    "plt.ylabel('Predicted')\n",
    "plt.title('XGBoost Predicted vs Actual')\n",
    "plt.show()"
   ]
  },
  {
   "cell_type": "code",
   "execution_count": 277,
   "metadata": {},
   "outputs": [
    {
     "name": "stdout",
     "output_type": "stream",
     "text": [
      "Scores:\n",
      "('Linear regression score: ', 0.11166048901498582)\n",
      "('Neural network regression score: ', -0.0039539147379399342)\n",
      "('Lasso regression score: ', 0.11261628569018634)\n",
      "('ElasticNet regression score: ', 0.11249723296861479)\n",
      "('Decision forest score: ', 0.81415155447380427)\n",
      "('Extra Trees score: ', 0.74203519981119515)\n",
      "('Gaussian Regression process', 0.40896256710166989)\n",
      "\n",
      "\n",
      "RMSE:\n",
      "Linear regression RMSE: 62.66\n",
      "Neural network RMSE: 66.62\n",
      "Lasso RMSE: 62.63\n",
      "ElasticNet RMSE: 62.63\n"
     ]
    },
    {
     "ename": "NameError",
     "evalue": "name 'regr_rf_pred' is not defined",
     "output_type": "error",
     "traceback": [
      "\u001b[1;31m---------------------------------------------------------------------------\u001b[0m",
      "\u001b[1;31mNameError\u001b[0m                                 Traceback (most recent call last)",
      "\u001b[1;32m<ipython-input-277-c344b82cf80a>\u001b[0m in \u001b[0;36m<module>\u001b[1;34m()\u001b[0m\n\u001b[0;32m     18\u001b[0m       % sqrt(mean_squared_error(y_test, elasticnet_pred)))\n\u001b[0;32m     19\u001b[0m print(\"Decision forest RMSE: %.2f\"\n\u001b[1;32m---> 20\u001b[1;33m       % sqrt(mean_squared_error(y_test, regr_rf_pred)))\n\u001b[0m\u001b[0;32m     21\u001b[0m print(\"Extra Trees RMSE: %.2f\"\n\u001b[0;32m     22\u001b[0m       % sqrt(mean_squared_error(y_test, extratree_pred)))\n",
      "\u001b[1;31mNameError\u001b[0m: name 'regr_rf_pred' is not defined"
     ]
    }
   ],
   "source": [
    "print(\"Scores:\")\n",
    "print(\"Linear regression score: \", linear_regression_score)\n",
    "print(\"Neural network regression score: \", neural_network_regression_score)\n",
    "print(\"Lasso regression score: \", lasso_score)\n",
    "print(\"ElasticNet regression score: \", elasticnet_score)\n",
    "print(\"Decision forest score: \", decision_forest_score)\n",
    "print(\"Extra Trees score: \", extratree_score)\n",
    "print (\"Gaussian Regression process\", GP_regression_score)\n",
    "print(\"\\n\")\n",
    "print(\"RMSE:\")\n",
    "print(\"Linear regression RMSE: %.2f\"\n",
    "      % sqrt(mean_squared_error(y_test, lin_pred)))\n",
    "print(\"Neural network RMSE: %.2f\"\n",
    "      % sqrt(mean_squared_error(y_test, nnr_pred)))\n",
    "print(\"Lasso RMSE: %.2f\"\n",
    "      % sqrt(mean_squared_error(y_test, lasso_pred)))\n",
    "print(\"ElasticNet RMSE: %.2f\"\n",
    "      % sqrt(mean_squared_error(y_test, elasticnet_pred)))\n",
    "print(\"Decision forest RMSE: %.2f\"\n",
    "      % sqrt(mean_squared_error(y_test, regr_rf_pred)))\n",
    "print(\"Extra Trees RMSE: %.2f\"\n",
    "      % sqrt(mean_squared_error(y_test, extratree_pred)))\n",
    "print (\"Gaussian Regression process:%.2f\"\n",
    "      %sqrt(mean_squared_error(y_test, gpr_pred)))"
   ]
  },
  {
   "cell_type": "markdown",
   "metadata": {},
   "source": [
    "# Linear Regression PM 2.5 and METROLOGICAL"
   ]
  },
  {
   "cell_type": "code",
   "execution_count": 130,
   "metadata": {},
   "outputs": [
    {
     "data": {
      "text/html": [
       "<div>\n",
       "<style scoped>\n",
       "    .dataframe tbody tr th:only-of-type {\n",
       "        vertical-align: middle;\n",
       "    }\n",
       "\n",
       "    .dataframe tbody tr th {\n",
       "        vertical-align: top;\n",
       "    }\n",
       "\n",
       "    .dataframe thead th {\n",
       "        text-align: right;\n",
       "    }\n",
       "</style>\n",
       "<table border=\"1\" class=\"dataframe\">\n",
       "  <thead>\n",
       "    <tr style=\"text-align: right;\">\n",
       "      <th></th>\n",
       "      <th>TEMP</th>\n",
       "      <th>DEWP</th>\n",
       "      <th>Relative Humidity (%)</th>\n",
       "      <th>SPD</th>\n",
       "      <th>DIR</th>\n",
       "      <th>Hour</th>\n",
       "      <th>Value</th>\n",
       "      <th>MONTH</th>\n",
       "      <th>HUM</th>\n",
       "    </tr>\n",
       "  </thead>\n",
       "  <tbody>\n",
       "    <tr>\n",
       "      <th>TEMP</th>\n",
       "      <td>1.000000</td>\n",
       "      <td>-0.372964</td>\n",
       "      <td>-0.919925</td>\n",
       "      <td>0.327476</td>\n",
       "      <td>0.229076</td>\n",
       "      <td>-0.125736</td>\n",
       "      <td>-0.342973</td>\n",
       "      <td>-0.010525</td>\n",
       "      <td>-0.919256</td>\n",
       "    </tr>\n",
       "    <tr>\n",
       "      <th>DEWP</th>\n",
       "      <td>-0.372964</td>\n",
       "      <td>1.000000</td>\n",
       "      <td>0.683758</td>\n",
       "      <td>-0.166298</td>\n",
       "      <td>-0.245575</td>\n",
       "      <td>0.064264</td>\n",
       "      <td>0.156979</td>\n",
       "      <td>-0.011728</td>\n",
       "      <td>0.685512</td>\n",
       "    </tr>\n",
       "    <tr>\n",
       "      <th>Relative Humidity (%)</th>\n",
       "      <td>-0.919925</td>\n",
       "      <td>0.683758</td>\n",
       "      <td>1.000000</td>\n",
       "      <td>-0.328537</td>\n",
       "      <td>-0.270558</td>\n",
       "      <td>0.104807</td>\n",
       "      <td>0.338330</td>\n",
       "      <td>-0.000587</td>\n",
       "      <td>0.999782</td>\n",
       "    </tr>\n",
       "    <tr>\n",
       "      <th>SPD</th>\n",
       "      <td>0.327476</td>\n",
       "      <td>-0.166298</td>\n",
       "      <td>-0.328537</td>\n",
       "      <td>1.000000</td>\n",
       "      <td>0.594117</td>\n",
       "      <td>-0.003744</td>\n",
       "      <td>-0.286761</td>\n",
       "      <td>-0.066959</td>\n",
       "      <td>-0.329216</td>\n",
       "    </tr>\n",
       "    <tr>\n",
       "      <th>DIR</th>\n",
       "      <td>0.229076</td>\n",
       "      <td>-0.245575</td>\n",
       "      <td>-0.270558</td>\n",
       "      <td>0.594117</td>\n",
       "      <td>1.000000</td>\n",
       "      <td>-0.123327</td>\n",
       "      <td>-0.190411</td>\n",
       "      <td>-0.033214</td>\n",
       "      <td>-0.270157</td>\n",
       "    </tr>\n",
       "    <tr>\n",
       "      <th>Hour</th>\n",
       "      <td>-0.125736</td>\n",
       "      <td>0.064264</td>\n",
       "      <td>0.104807</td>\n",
       "      <td>-0.003744</td>\n",
       "      <td>-0.123327</td>\n",
       "      <td>1.000000</td>\n",
       "      <td>-0.071584</td>\n",
       "      <td>-0.080535</td>\n",
       "      <td>0.104093</td>\n",
       "    </tr>\n",
       "    <tr>\n",
       "      <th>Value</th>\n",
       "      <td>-0.342973</td>\n",
       "      <td>0.156979</td>\n",
       "      <td>0.338330</td>\n",
       "      <td>-0.286761</td>\n",
       "      <td>-0.190411</td>\n",
       "      <td>-0.071584</td>\n",
       "      <td>1.000000</td>\n",
       "      <td>0.079833</td>\n",
       "      <td>0.338338</td>\n",
       "    </tr>\n",
       "    <tr>\n",
       "      <th>MONTH</th>\n",
       "      <td>-0.010525</td>\n",
       "      <td>-0.011728</td>\n",
       "      <td>-0.000587</td>\n",
       "      <td>-0.066959</td>\n",
       "      <td>-0.033214</td>\n",
       "      <td>-0.080535</td>\n",
       "      <td>0.079833</td>\n",
       "      <td>1.000000</td>\n",
       "      <td>-0.001498</td>\n",
       "    </tr>\n",
       "    <tr>\n",
       "      <th>HUM</th>\n",
       "      <td>-0.919256</td>\n",
       "      <td>0.685512</td>\n",
       "      <td>0.999782</td>\n",
       "      <td>-0.329216</td>\n",
       "      <td>-0.270157</td>\n",
       "      <td>0.104093</td>\n",
       "      <td>0.338338</td>\n",
       "      <td>-0.001498</td>\n",
       "      <td>1.000000</td>\n",
       "    </tr>\n",
       "  </tbody>\n",
       "</table>\n",
       "</div>"
      ],
      "text/plain": [
       "                           TEMP      DEWP  Relative Humidity (%)       SPD  \\\n",
       "TEMP                   1.000000 -0.372964              -0.919925  0.327476   \n",
       "DEWP                  -0.372964  1.000000               0.683758 -0.166298   \n",
       "Relative Humidity (%) -0.919925  0.683758               1.000000 -0.328537   \n",
       "SPD                    0.327476 -0.166298              -0.328537  1.000000   \n",
       "DIR                    0.229076 -0.245575              -0.270558  0.594117   \n",
       "Hour                  -0.125736  0.064264               0.104807 -0.003744   \n",
       "Value                 -0.342973  0.156979               0.338330 -0.286761   \n",
       "MONTH                 -0.010525 -0.011728              -0.000587 -0.066959   \n",
       "HUM                   -0.919256  0.685512               0.999782 -0.329216   \n",
       "\n",
       "                            DIR      Hour     Value     MONTH       HUM  \n",
       "TEMP                   0.229076 -0.125736 -0.342973 -0.010525 -0.919256  \n",
       "DEWP                  -0.245575  0.064264  0.156979 -0.011728  0.685512  \n",
       "Relative Humidity (%) -0.270558  0.104807  0.338330 -0.000587  0.999782  \n",
       "SPD                    0.594117 -0.003744 -0.286761 -0.066959 -0.329216  \n",
       "DIR                    1.000000 -0.123327 -0.190411 -0.033214 -0.270157  \n",
       "Hour                  -0.123327  1.000000 -0.071584 -0.080535  0.104093  \n",
       "Value                 -0.190411 -0.071584  1.000000  0.079833  0.338338  \n",
       "MONTH                 -0.033214 -0.080535  0.079833  1.000000 -0.001498  \n",
       "HUM                   -0.270157  0.104093  0.338338 -0.001498  1.000000  "
      ]
     },
     "execution_count": 130,
     "metadata": {},
     "output_type": "execute_result"
    }
   ],
   "source": [
    "merge.corr()"
   ]
  },
  {
   "cell_type": "code",
   "execution_count": 29,
   "metadata": {},
   "outputs": [],
   "source": [
    "#merge.to_csv('E:/RESEAERCH/FEEDS/mulago/merge.csv',index = True)"
   ]
  },
  {
   "cell_type": "code",
   "execution_count": 30,
   "metadata": {},
   "outputs": [
    {
     "data": {
      "text/html": [
       "<div>\n",
       "<style scoped>\n",
       "    .dataframe tbody tr th:only-of-type {\n",
       "        vertical-align: middle;\n",
       "    }\n",
       "\n",
       "    .dataframe tbody tr th {\n",
       "        vertical-align: top;\n",
       "    }\n",
       "\n",
       "    .dataframe thead th {\n",
       "        text-align: right;\n",
       "    }\n",
       "</style>\n",
       "<table border=\"1\" class=\"dataframe\">\n",
       "  <thead>\n",
       "    <tr style=\"text-align: right;\">\n",
       "      <th></th>\n",
       "      <th>TEMP</th>\n",
       "      <th>DEWP</th>\n",
       "      <th>Relative Humidity (%)</th>\n",
       "      <th>SPD</th>\n",
       "      <th>DIR</th>\n",
       "      <th>Hour</th>\n",
       "      <th>Value</th>\n",
       "      <th>MONTH</th>\n",
       "      <th>HUM</th>\n",
       "    </tr>\n",
       "  </thead>\n",
       "  <tbody>\n",
       "    <tr>\n",
       "      <th>count</th>\n",
       "      <td>512.000000</td>\n",
       "      <td>511.000000</td>\n",
       "      <td>511.000000</td>\n",
       "      <td>512.000000</td>\n",
       "      <td>512.000000</td>\n",
       "      <td>512.000000</td>\n",
       "      <td>512.000000</td>\n",
       "      <td>512.000000</td>\n",
       "      <td>511.000000</td>\n",
       "    </tr>\n",
       "    <tr>\n",
       "      <th>mean</th>\n",
       "      <td>24.397244</td>\n",
       "      <td>18.159491</td>\n",
       "      <td>69.330724</td>\n",
       "      <td>3.929053</td>\n",
       "      <td>142.207031</td>\n",
       "      <td>2488.466797</td>\n",
       "      <td>12.210352</td>\n",
       "      <td>5.119141</td>\n",
       "      <td>69.755976</td>\n",
       "    </tr>\n",
       "    <tr>\n",
       "      <th>std</th>\n",
       "      <td>2.635286</td>\n",
       "      <td>1.595449</td>\n",
       "      <td>14.250085</td>\n",
       "      <td>3.025696</td>\n",
       "      <td>103.958878</td>\n",
       "      <td>1231.449568</td>\n",
       "      <td>23.567268</td>\n",
       "      <td>3.281250</td>\n",
       "      <td>14.264816</td>\n",
       "    </tr>\n",
       "    <tr>\n",
       "      <th>min</th>\n",
       "      <td>17.277778</td>\n",
       "      <td>11.277778</td>\n",
       "      <td>31.000000</td>\n",
       "      <td>0.000000</td>\n",
       "      <td>0.000000</td>\n",
       "      <td>345.000000</td>\n",
       "      <td>0.670000</td>\n",
       "      <td>0.000000</td>\n",
       "      <td>31.507488</td>\n",
       "    </tr>\n",
       "    <tr>\n",
       "      <th>25%</th>\n",
       "      <td>22.500000</td>\n",
       "      <td>17.555556</td>\n",
       "      <td>60.000000</td>\n",
       "      <td>0.000000</td>\n",
       "      <td>0.000000</td>\n",
       "      <td>1494.250000</td>\n",
       "      <td>6.645804</td>\n",
       "      <td>2.000000</td>\n",
       "      <td>60.764770</td>\n",
       "    </tr>\n",
       "    <tr>\n",
       "      <th>50%</th>\n",
       "      <td>24.777778</td>\n",
       "      <td>18.500000</td>\n",
       "      <td>69.000000</td>\n",
       "      <td>3.218680</td>\n",
       "      <td>160.000000</td>\n",
       "      <td>2472.500000</td>\n",
       "      <td>9.399982</td>\n",
       "      <td>5.000000</td>\n",
       "      <td>69.163192</td>\n",
       "    </tr>\n",
       "    <tr>\n",
       "      <th>75%</th>\n",
       "      <td>26.055556</td>\n",
       "      <td>19.111111</td>\n",
       "      <td>79.500000</td>\n",
       "      <td>6.437360</td>\n",
       "      <td>180.000000</td>\n",
       "      <td>3542.250000</td>\n",
       "      <td>13.283163</td>\n",
       "      <td>8.000000</td>\n",
       "      <td>79.912146</td>\n",
       "    </tr>\n",
       "    <tr>\n",
       "      <th>max</th>\n",
       "      <td>31.000000</td>\n",
       "      <td>21.777778</td>\n",
       "      <td>100.000000</td>\n",
       "      <td>12.874720</td>\n",
       "      <td>360.000000</td>\n",
       "      <td>4594.000000</td>\n",
       "      <td>500.000000</td>\n",
       "      <td>11.000000</td>\n",
       "      <td>100.000000</td>\n",
       "    </tr>\n",
       "  </tbody>\n",
       "</table>\n",
       "</div>"
      ],
      "text/plain": [
       "             TEMP        DEWP  Relative Humidity (%)         SPD         DIR  \\\n",
       "count  512.000000  511.000000             511.000000  512.000000  512.000000   \n",
       "mean    24.397244   18.159491              69.330724    3.929053  142.207031   \n",
       "std      2.635286    1.595449              14.250085    3.025696  103.958878   \n",
       "min     17.277778   11.277778              31.000000    0.000000    0.000000   \n",
       "25%     22.500000   17.555556              60.000000    0.000000    0.000000   \n",
       "50%     24.777778   18.500000              69.000000    3.218680  160.000000   \n",
       "75%     26.055556   19.111111              79.500000    6.437360  180.000000   \n",
       "max     31.000000   21.777778             100.000000   12.874720  360.000000   \n",
       "\n",
       "              Hour       Value       MONTH         HUM  \n",
       "count   512.000000  512.000000  512.000000  511.000000  \n",
       "mean   2488.466797   12.210352    5.119141   69.755976  \n",
       "std    1231.449568   23.567268    3.281250   14.264816  \n",
       "min     345.000000    0.670000    0.000000   31.507488  \n",
       "25%    1494.250000    6.645804    2.000000   60.764770  \n",
       "50%    2472.500000    9.399982    5.000000   69.163192  \n",
       "75%    3542.250000   13.283163    8.000000   79.912146  \n",
       "max    4594.000000  500.000000   11.000000  100.000000  "
      ]
     },
     "execution_count": 30,
     "metadata": {},
     "output_type": "execute_result"
    }
   ],
   "source": [
    "merge.describe()"
   ]
  },
  {
   "cell_type": "code",
   "execution_count": 33,
   "metadata": {},
   "outputs": [],
   "source": [
    "merge = merge.drop(merge[merge.SPD == 0].index)"
   ]
  },
  {
   "cell_type": "code",
   "execution_count": 34,
   "metadata": {},
   "outputs": [
    {
     "data": {
      "text/html": [
       "<div>\n",
       "<style scoped>\n",
       "    .dataframe tbody tr th:only-of-type {\n",
       "        vertical-align: middle;\n",
       "    }\n",
       "\n",
       "    .dataframe tbody tr th {\n",
       "        vertical-align: top;\n",
       "    }\n",
       "\n",
       "    .dataframe thead th {\n",
       "        text-align: right;\n",
       "    }\n",
       "</style>\n",
       "<table border=\"1\" class=\"dataframe\">\n",
       "  <thead>\n",
       "    <tr style=\"text-align: right;\">\n",
       "      <th></th>\n",
       "      <th>TEMP</th>\n",
       "      <th>DEWP</th>\n",
       "      <th>Relative Humidity (%)</th>\n",
       "      <th>SPD</th>\n",
       "      <th>DIR</th>\n",
       "      <th>Hour</th>\n",
       "      <th>Value</th>\n",
       "      <th>MONTH</th>\n",
       "      <th>HUM</th>\n",
       "    </tr>\n",
       "  </thead>\n",
       "  <tbody>\n",
       "    <tr>\n",
       "      <th>count</th>\n",
       "      <td>380.000000</td>\n",
       "      <td>380.000000</td>\n",
       "      <td>380.000000</td>\n",
       "      <td>380.000000</td>\n",
       "      <td>380.000000</td>\n",
       "      <td>380.000000</td>\n",
       "      <td>380.000000</td>\n",
       "      <td>380.000000</td>\n",
       "      <td>380.000000</td>\n",
       "    </tr>\n",
       "    <tr>\n",
       "      <th>mean</th>\n",
       "      <td>24.974269</td>\n",
       "      <td>17.951901</td>\n",
       "      <td>66.123684</td>\n",
       "      <td>5.293882</td>\n",
       "      <td>191.605263</td>\n",
       "      <td>2443.994737</td>\n",
       "      <td>11.043035</td>\n",
       "      <td>4.973684</td>\n",
       "      <td>66.547553</td>\n",
       "    </tr>\n",
       "    <tr>\n",
       "      <th>std</th>\n",
       "      <td>2.480834</td>\n",
       "      <td>1.688367</td>\n",
       "      <td>13.629201</td>\n",
       "      <td>2.258102</td>\n",
       "      <td>71.285238</td>\n",
       "      <td>1219.513626</td>\n",
       "      <td>25.798324</td>\n",
       "      <td>3.250223</td>\n",
       "      <td>13.647754</td>\n",
       "    </tr>\n",
       "    <tr>\n",
       "      <th>min</th>\n",
       "      <td>18.000000</td>\n",
       "      <td>11.277778</td>\n",
       "      <td>31.000000</td>\n",
       "      <td>3.218680</td>\n",
       "      <td>20.000000</td>\n",
       "      <td>345.000000</td>\n",
       "      <td>0.670000</td>\n",
       "      <td>0.000000</td>\n",
       "      <td>31.507488</td>\n",
       "    </tr>\n",
       "    <tr>\n",
       "      <th>25%</th>\n",
       "      <td>23.500000</td>\n",
       "      <td>17.277778</td>\n",
       "      <td>57.000000</td>\n",
       "      <td>3.218680</td>\n",
       "      <td>160.000000</td>\n",
       "      <td>1499.500000</td>\n",
       "      <td>6.267602</td>\n",
       "      <td>2.000000</td>\n",
       "      <td>57.820619</td>\n",
       "    </tr>\n",
       "    <tr>\n",
       "      <th>50%</th>\n",
       "      <td>25.222222</td>\n",
       "      <td>18.277778</td>\n",
       "      <td>65.000000</td>\n",
       "      <td>4.828020</td>\n",
       "      <td>180.000000</td>\n",
       "      <td>2279.500000</td>\n",
       "      <td>8.596680</td>\n",
       "      <td>4.500000</td>\n",
       "      <td>65.769771</td>\n",
       "    </tr>\n",
       "    <tr>\n",
       "      <th>75%</th>\n",
       "      <td>26.500000</td>\n",
       "      <td>19.000000</td>\n",
       "      <td>74.000000</td>\n",
       "      <td>6.437360</td>\n",
       "      <td>255.000000</td>\n",
       "      <td>3549.750000</td>\n",
       "      <td>11.845682</td>\n",
       "      <td>8.000000</td>\n",
       "      <td>74.648375</td>\n",
       "    </tr>\n",
       "    <tr>\n",
       "      <th>max</th>\n",
       "      <td>31.000000</td>\n",
       "      <td>21.500000</td>\n",
       "      <td>100.000000</td>\n",
       "      <td>12.874720</td>\n",
       "      <td>360.000000</td>\n",
       "      <td>4594.000000</td>\n",
       "      <td>500.000000</td>\n",
       "      <td>11.000000</td>\n",
       "      <td>100.000000</td>\n",
       "    </tr>\n",
       "  </tbody>\n",
       "</table>\n",
       "</div>"
      ],
      "text/plain": [
       "             TEMP        DEWP  Relative Humidity (%)         SPD         DIR  \\\n",
       "count  380.000000  380.000000             380.000000  380.000000  380.000000   \n",
       "mean    24.974269   17.951901              66.123684    5.293882  191.605263   \n",
       "std      2.480834    1.688367              13.629201    2.258102   71.285238   \n",
       "min     18.000000   11.277778              31.000000    3.218680   20.000000   \n",
       "25%     23.500000   17.277778              57.000000    3.218680  160.000000   \n",
       "50%     25.222222   18.277778              65.000000    4.828020  180.000000   \n",
       "75%     26.500000   19.000000              74.000000    6.437360  255.000000   \n",
       "max     31.000000   21.500000             100.000000   12.874720  360.000000   \n",
       "\n",
       "              Hour       Value       MONTH         HUM  \n",
       "count   380.000000  380.000000  380.000000  380.000000  \n",
       "mean   2443.994737   11.043035    4.973684   66.547553  \n",
       "std    1219.513626   25.798324    3.250223   13.647754  \n",
       "min     345.000000    0.670000    0.000000   31.507488  \n",
       "25%    1499.500000    6.267602    2.000000   57.820619  \n",
       "50%    2279.500000    8.596680    4.500000   65.769771  \n",
       "75%    3549.750000   11.845682    8.000000   74.648375  \n",
       "max    4594.000000  500.000000   11.000000  100.000000  "
      ]
     },
     "execution_count": 34,
     "metadata": {},
     "output_type": "execute_result"
    }
   ],
   "source": [
    "merge.describe()"
   ]
  },
  {
   "cell_type": "code",
   "execution_count": 35,
   "metadata": {},
   "outputs": [
    {
     "data": {
      "text/html": [
       "<div>\n",
       "<style scoped>\n",
       "    .dataframe tbody tr th:only-of-type {\n",
       "        vertical-align: middle;\n",
       "    }\n",
       "\n",
       "    .dataframe tbody tr th {\n",
       "        vertical-align: top;\n",
       "    }\n",
       "\n",
       "    .dataframe thead th {\n",
       "        text-align: right;\n",
       "    }\n",
       "</style>\n",
       "<table border=\"1\" class=\"dataframe\">\n",
       "  <thead>\n",
       "    <tr style=\"text-align: right;\">\n",
       "      <th></th>\n",
       "      <th>TEMP</th>\n",
       "      <th>DEWP</th>\n",
       "      <th>Relative Humidity (%)</th>\n",
       "      <th>SPD</th>\n",
       "      <th>DIR</th>\n",
       "      <th>Hour</th>\n",
       "      <th>Value</th>\n",
       "      <th>MONTH</th>\n",
       "      <th>HUM</th>\n",
       "    </tr>\n",
       "  </thead>\n",
       "  <tbody>\n",
       "    <tr>\n",
       "      <th>TEMP</th>\n",
       "      <td>1.000000</td>\n",
       "      <td>-0.400016</td>\n",
       "      <td>-0.910078</td>\n",
       "      <td>0.078577</td>\n",
       "      <td>-0.150564</td>\n",
       "      <td>-0.155997</td>\n",
       "      <td>-0.057139</td>\n",
       "      <td>0.011496</td>\n",
       "      <td>-0.909200</td>\n",
       "    </tr>\n",
       "    <tr>\n",
       "      <th>DEWP</th>\n",
       "      <td>-0.400016</td>\n",
       "      <td>1.000000</td>\n",
       "      <td>0.721324</td>\n",
       "      <td>0.003480</td>\n",
       "      <td>-0.128092</td>\n",
       "      <td>0.072305</td>\n",
       "      <td>-0.009105</td>\n",
       "      <td>-0.057555</td>\n",
       "      <td>0.723207</td>\n",
       "    </tr>\n",
       "    <tr>\n",
       "      <th>Relative Humidity (%)</th>\n",
       "      <td>-0.910078</td>\n",
       "      <td>0.721324</td>\n",
       "      <td>1.000000</td>\n",
       "      <td>-0.064103</td>\n",
       "      <td>0.079095</td>\n",
       "      <td>0.119551</td>\n",
       "      <td>0.031705</td>\n",
       "      <td>-0.042574</td>\n",
       "      <td>0.999760</td>\n",
       "    </tr>\n",
       "    <tr>\n",
       "      <th>SPD</th>\n",
       "      <td>0.078577</td>\n",
       "      <td>0.003480</td>\n",
       "      <td>-0.064103</td>\n",
       "      <td>1.000000</td>\n",
       "      <td>-0.060582</td>\n",
       "      <td>0.088153</td>\n",
       "      <td>-0.074222</td>\n",
       "      <td>-0.024361</td>\n",
       "      <td>-0.065756</td>\n",
       "    </tr>\n",
       "    <tr>\n",
       "      <th>DIR</th>\n",
       "      <td>-0.150564</td>\n",
       "      <td>-0.128092</td>\n",
       "      <td>0.079095</td>\n",
       "      <td>-0.060582</td>\n",
       "      <td>1.000000</td>\n",
       "      <td>-0.138258</td>\n",
       "      <td>0.018465</td>\n",
       "      <td>0.049265</td>\n",
       "      <td>0.079449</td>\n",
       "    </tr>\n",
       "    <tr>\n",
       "      <th>Hour</th>\n",
       "      <td>-0.155997</td>\n",
       "      <td>0.072305</td>\n",
       "      <td>0.119551</td>\n",
       "      <td>0.088153</td>\n",
       "      <td>-0.138258</td>\n",
       "      <td>1.000000</td>\n",
       "      <td>-0.103229</td>\n",
       "      <td>-0.086971</td>\n",
       "      <td>0.118332</td>\n",
       "    </tr>\n",
       "    <tr>\n",
       "      <th>Value</th>\n",
       "      <td>-0.057139</td>\n",
       "      <td>-0.009105</td>\n",
       "      <td>0.031705</td>\n",
       "      <td>-0.074222</td>\n",
       "      <td>0.018465</td>\n",
       "      <td>-0.103229</td>\n",
       "      <td>1.000000</td>\n",
       "      <td>0.102786</td>\n",
       "      <td>0.031704</td>\n",
       "    </tr>\n",
       "    <tr>\n",
       "      <th>MONTH</th>\n",
       "      <td>0.011496</td>\n",
       "      <td>-0.057555</td>\n",
       "      <td>-0.042574</td>\n",
       "      <td>-0.024361</td>\n",
       "      <td>0.049265</td>\n",
       "      <td>-0.086971</td>\n",
       "      <td>0.102786</td>\n",
       "      <td>1.000000</td>\n",
       "      <td>-0.044157</td>\n",
       "    </tr>\n",
       "    <tr>\n",
       "      <th>HUM</th>\n",
       "      <td>-0.909200</td>\n",
       "      <td>0.723207</td>\n",
       "      <td>0.999760</td>\n",
       "      <td>-0.065756</td>\n",
       "      <td>0.079449</td>\n",
       "      <td>0.118332</td>\n",
       "      <td>0.031704</td>\n",
       "      <td>-0.044157</td>\n",
       "      <td>1.000000</td>\n",
       "    </tr>\n",
       "  </tbody>\n",
       "</table>\n",
       "</div>"
      ],
      "text/plain": [
       "                           TEMP      DEWP  Relative Humidity (%)       SPD  \\\n",
       "TEMP                   1.000000 -0.400016              -0.910078  0.078577   \n",
       "DEWP                  -0.400016  1.000000               0.721324  0.003480   \n",
       "Relative Humidity (%) -0.910078  0.721324               1.000000 -0.064103   \n",
       "SPD                    0.078577  0.003480              -0.064103  1.000000   \n",
       "DIR                   -0.150564 -0.128092               0.079095 -0.060582   \n",
       "Hour                  -0.155997  0.072305               0.119551  0.088153   \n",
       "Value                 -0.057139 -0.009105               0.031705 -0.074222   \n",
       "MONTH                  0.011496 -0.057555              -0.042574 -0.024361   \n",
       "HUM                   -0.909200  0.723207               0.999760 -0.065756   \n",
       "\n",
       "                            DIR      Hour     Value     MONTH       HUM  \n",
       "TEMP                  -0.150564 -0.155997 -0.057139  0.011496 -0.909200  \n",
       "DEWP                  -0.128092  0.072305 -0.009105 -0.057555  0.723207  \n",
       "Relative Humidity (%)  0.079095  0.119551  0.031705 -0.042574  0.999760  \n",
       "SPD                   -0.060582  0.088153 -0.074222 -0.024361 -0.065756  \n",
       "DIR                    1.000000 -0.138258  0.018465  0.049265  0.079449  \n",
       "Hour                  -0.138258  1.000000 -0.103229 -0.086971  0.118332  \n",
       "Value                  0.018465 -0.103229  1.000000  0.102786  0.031704  \n",
       "MONTH                  0.049265 -0.086971  0.102786  1.000000 -0.044157  \n",
       "HUM                    0.079449  0.118332  0.031704 -0.044157  1.000000  "
      ]
     },
     "execution_count": 35,
     "metadata": {},
     "output_type": "execute_result"
    }
   ],
   "source": [
    "merge.corr()"
   ]
  },
  {
   "cell_type": "code",
   "execution_count": null,
   "metadata": {},
   "outputs": [],
   "source": []
  }
 ],
 "metadata": {
  "kernelspec": {
   "display_name": "Python 2",
   "language": "python",
   "name": "python2"
  },
  "language_info": {
   "codemirror_mode": {
    "name": "ipython",
    "version": 2
   },
   "file_extension": ".py",
   "mimetype": "text/x-python",
   "name": "python",
   "nbconvert_exporter": "python",
   "pygments_lexer": "ipython2",
   "version": "2.7.14"
  }
 },
 "nbformat": 4,
 "nbformat_minor": 2
}
